{
 "metadata": {
  "name": "Code, Refactor, Test -- by example"
 },
 "nbformat": 3,
 "nbformat_minor": 0,
 "worksheets": [
  {
   "cells": [
    {
     "cell_type": "code",
     "collapsed": false,
     "input": [
      "import os"
     ],
     "language": "python",
     "metadata": {},
     "outputs": [],
     "prompt_number": 51
    },
    {
     "cell_type": "code",
     "collapsed": false,
     "input": [
      "datafilename = os.path.join('data', 'gaze_snip1.txt')\n",
      "print datafilename"
     ],
     "language": "python",
     "metadata": {},
     "outputs": [
      {
       "output_type": "stream",
       "stream": "stdout",
       "text": [
        "data/gaze_snip1.txt\n"
       ]
      }
     ],
     "prompt_number": 52
    },
    {
     "cell_type": "code",
     "collapsed": false,
     "input": [
      "for line in open(datafilename):\n",
      "    print line,"
     ],
     "language": "python",
     "metadata": {},
     "outputs": [
      {
       "output_type": "stream",
       "stream": "stdout",
       "text": [
        "** CONVERTED FROM E:\\elcl\\DATA\\flba.edf using edfapi 3.1 Win32 Nov 24 2009 on Thu Oct 13 17:46:35 2011\r\n",
        "** DATE: Thu Oct 13 15:24:22 2011\r\n",
        "** TYPE: EDF_FILE BINARY EVENT SAMPLE TAGGED\r\n",
        "** VERSION: EYELINK II 1\r\n",
        "** SOURCE: EYELINK CL\r\n",
        "** EYELINK II CL v4.51 Mar 13 2010\r\n",
        "** CAMERA: EyeLink CL Version 1.4 Sensor=BJA\r\n",
        "** SERIAL NUMBER: CL1-AAE48\r\n",
        "** CAMERA_CONFIG: AAE48140.SCD\r\n",
        "**\r\n",
        "\r\n",
        "MSG\t4435590 DISPLAY_COORDS 0 0 1679 1049\r\n",
        "MSG\t4606298 !CAL \r\n",
        ">>>>>>> CALIBRATION (HV13,P-CR) FOR LEFT: <<<<<<<<<\r\n",
        "MSG\t4606298 !CAL Calibration points:  \r\n",
        "MSG\t4606298 !CAL -52.6, -47.1         0,     98   \r\n",
        "MSG\t4606298 !CAL -51.6, -62.7         0,  -2137   \r\n",
        "MSG\t4606298 !CAL -53.5, -31.8         0,   2271   \r\n",
        "MSG\t4606298 !CAL -85.5, -47.7     -3758,     98   \r\n",
        "MSG\t4606298 !CAL -20.6, -46.4      3758,     98   \r\n",
        "MSG\t4606298 !CAL -83.8, -62.1     -3812,  -2137   \r\n",
        "MSG\t4606298 !CAL -19.6, -60.5      3812,  -2137   \r\n",
        "MSG\t4606298 !CAL -87.0, -32.9     -3705,   2271   \r\n",
        "MSG\t4606298 !CAL -20.4, -30.7      3705,   2271   \r\n",
        "MSG\t4606298 !CAL -67.9, -55.9     -1892,  -1011   \r\n",
        "MSG\t4606298 !CAL -35.4, -53.9      1892,  -1011   \r\n",
        "MSG\t4606298 !CAL -69.8, -41.7     -1866,   1192   \r\n",
        "MSG\t4606299 !CAL -35.9, -39.1      1866,   1192   \r\n",
        "MSG\t4606299 !CAL eye check box: (L,R,T,B)\r\n",
        "\t  -94   -13   -66   -27\r\n",
        "\r\n",
        "MSG\t4606299 !CAL href cal range: (L,R,T,B)\r\n",
        "\t-5718  5718 -3239  3373\r\n",
        "\r\n",
        "MSG\t4606299 !CAL Cal coeff:(X=a+bx+cy+dxx+eyy,Y=f+gx+goaly+ixx+jyy)\r\n",
        "   4534.9  133.83 -107.54  0.67904 -1.9981 \r\n",
        "   3854.6  88.537 -131.96  1.707 -6.252\r\n",
        "MSG\t4606299 !CAL Gains: cx:112.131 lx:129.911 rx:136.262\r\n",
        "MSG\t4606299 !CAL Gains: cy:152.327 ty:108.867 by:98.616\r\n",
        "MSG\t4606299 !CAL Resolution (upd) at screen center: X=2.3, Y=1.7\r\n",
        "MSG\t4606299 !CAL Gain Change Proportion: X: 0.049 Y: 0.104\r\n",
        "MSG\t4606300 !CAL Gain Ratio (Gy/Gx) = 1.358\r\n",
        "MSG\t4606300 !CAL Cross-Gain Ratios: X=0.526, Y=3.081 \r\n",
        "MSG\t4606300 !CAL Cross-Gain too large: X=0.526, Y=3.081 \r\n",
        "\r\n",
        "MSG\t4606300 !CAL PCR gain ratio(x,y) = 2.445, 1.962\r\n",
        "MSG\t4606300 !CAL CR gain match(x,y) = 1.010, 1.010\r\n",
        "MSG\t4606300 !CAL Slip rotation correction OFF\r\n",
        "MSG\t4606301 !CAL CALIBRATION HV13 L LEFT    GOOD \r\n",
        "MSG\t4636369 !CAL VALIDATION HV13 L LEFT  GOOD ERROR 0.94 avg. 1.25 max  OFFSET 0.68 deg. -14.4,-32.5 pix.\r\n",
        "MSG\t4636369 VALIDATE L POINT 0  LEFT  at 840,524  OFFSET 1.08 deg.  -25.7,-50.9 pix.\r\n",
        "MSG\t4636370 VALIDATE L POINT 1  LEFT  at 840,89  OFFSET 0.54 deg.  -26.7,-9.5 pix.\r\n",
        "MSG\t4636370 VALIDATE L POINT 2  LEFT  at 840,960  OFFSET 1.25 deg.  39.2,-52.9 pix.\r\n",
        "MSG\t4636370 VALIDATE L POINT 3  LEFT  at 101,524  OFFSET 1.09 deg.  -46.9,-32.8 pix.\r\n",
        "MSG\t4636370 VALIDATE L POINT 4  LEFT  at 1578,524  OFFSET 0.52 deg.  9.3,25.9 pix.\r\n",
        "MSG\t4636370 VALIDATE L POINT 5  LEFT  at 189,141  OFFSET 0.80 deg.  -41.2,-8.1 pix.\r\n",
        "MSG\t4636370 VALIDATE L POINT 6  LEFT  at 1490,141  OFFSET 0.57 deg.  -28.9,-7.4 pix.\r\n",
        "MSG\t4636370 VALIDATE L POINT 7  LEFT  at 189,908  OFFSET 0.41 deg.  -11.2,18.4 pix.\r\n",
        "MSG\t4636370 VALIDATE L POINT 8  LEFT  at 1490,908  OFFSET 0.30 deg.  -13.9,7.6 pix.\r\n",
        "MSG\t4636370 VALIDATE L POINT 9  LEFT  at 470,307  OFFSET 0.45 deg.  -21.3,-10.4 pix.\r\n",
        "MSG\t4636370 VALIDATE L POINT 10  LEFT  at 1209,307  OFFSET 1.08 deg.  -7.9,-56.2 pix.\r\n",
        "MSG\t4636370 VALIDATE L POINT 11  LEFT  at 470,742  OFFSET 0.31 deg.  -6.2,15.1 pix.\r\n",
        "MSG\t4636370 VALIDATE L POINT 12  LEFT  at 1209,742  OFFSET 0.58 deg.  -11.4,-28.1 pix.\r\n",
        "MSG\t4654779 RECCFG CR 1000 2 1 L\r\n",
        "MSG\t4654779 ELCLCFG MTABLER\r\n",
        "MSG\t4654779 GAZE_COORDS 0.00 0.00 1679.00 1049.00\r\n",
        "MSG\t4654779 THRESHOLDS L 125 243\r\n",
        "MSG\t4654779 ELCL_PROC CENTROID (3)\r\n",
        "MSG\t4654779 ELCL_PCR_PARAM 5 3.0\r\n",
        "START\t4654780 \tLEFT\tSAMPLES\tEVENTS\r\n",
        "PRESCALER\t1\r\n",
        "VPRESCALER\t1\r\n",
        "PUPIL\tAREA\r\n",
        "EVENTS\tGAZE\tLEFT\tRATE\t1000.00\tTRACKING\tCR\tFILTER\t2\r\n",
        "SAMPLES\tGAZE\tLEFT\tRATE\t1000.00\tTRACKING\tCR\tFILTER\t2\r\n",
        "MSG\t4654780 !MODE RECORD CR 1000 2 1 L\r\n",
        "4654780\t  638.4\t  269.6\t 4914.0\t...\r\n",
        "4654781\t  638.3\t  269.7\t 4913.0\t...\r\n",
        "4654782\t  638.4\t  270.5\t 4910.0\t...\r\n",
        "4654783\t  638.5\t  271.2\t 4908.0\t...\r\n",
        "4654784\t  638.4\t  271.8\t 4907.0\t...\r\n",
        "4654785\t  638.1\t  271.7\t 4906.0\t...\r\n",
        "4654786\t  638.0\t  271.7\t 4904.0\t...\r\n",
        "SFIX L   4654787\r\n",
        "4654787\t  637.9\t  271.8\t 4902.0\t...\r\n",
        "4654788\t  637.9\t  271.8\t 4900.0\t...\r\n",
        "4654789\t  638.6\t  271.8\t 4897.0\t...\r\n",
        "4654790\t  639.3\t  271.9\t 4894.0\t...\r\n",
        "4654791\t  639.9\t  272.1\t 4891.0\t...\r\n",
        "4654792\t  640.0\t  272.6\t 4891.0\t...\r\n"
       ]
      }
     ],
     "prompt_number": 53
    },
    {
     "cell_type": "code",
     "collapsed": false,
     "input": [
      "skiplines = 76\n",
      "for line in open(datafilename):\n",
      "    if skiplines > 0:\n",
      "        skiplines -= 1\n",
      "        continue\n",
      "    print line,"
     ],
     "language": "python",
     "metadata": {},
     "outputs": [
      {
       "output_type": "stream",
       "stream": "stdout",
       "text": [
        "4654780\t  638.4\t  269.6\t 4914.0\t...\r\n",
        "4654781\t  638.3\t  269.7\t 4913.0\t...\r\n",
        "4654782\t  638.4\t  270.5\t 4910.0\t...\r\n",
        "4654783\t  638.5\t  271.2\t 4908.0\t...\r\n",
        "4654784\t  638.4\t  271.8\t 4907.0\t...\r\n",
        "4654785\t  638.1\t  271.7\t 4906.0\t...\r\n",
        "4654786\t  638.0\t  271.7\t 4904.0\t...\r\n",
        "SFIX L   4654787\r\n",
        "4654787\t  637.9\t  271.8\t 4902.0\t...\r\n",
        "4654788\t  637.9\t  271.8\t 4900.0\t...\r\n",
        "4654789\t  638.6\t  271.8\t 4897.0\t...\r\n",
        "4654790\t  639.3\t  271.9\t 4894.0\t...\r\n",
        "4654791\t  639.9\t  272.1\t 4891.0\t...\r\n",
        "4654792\t  640.0\t  272.6\t 4891.0\t...\r\n"
       ]
      }
     ],
     "prompt_number": 54
    },
    {
     "cell_type": "code",
     "collapsed": false,
     "input": [
      "for lineno, line in enumerate(open(datafilename)):\n",
      "    if lineno < 76:\n",
      "        continue\n",
      "    print line,"
     ],
     "language": "python",
     "metadata": {},
     "outputs": [
      {
       "output_type": "stream",
       "stream": "stdout",
       "text": [
        "4654780\t  638.4\t  269.6\t 4914.0\t...\r\n",
        "4654781\t  638.3\t  269.7\t 4913.0\t...\r\n",
        "4654782\t  638.4\t  270.5\t 4910.0\t...\r\n",
        "4654783\t  638.5\t  271.2\t 4908.0\t...\r\n",
        "4654784\t  638.4\t  271.8\t 4907.0\t...\r\n",
        "4654785\t  638.1\t  271.7\t 4906.0\t...\r\n",
        "4654786\t  638.0\t  271.7\t 4904.0\t...\r\n",
        "SFIX L   4654787\r\n",
        "4654787\t  637.9\t  271.8\t 4902.0\t...\r\n",
        "4654788\t  637.9\t  271.8\t 4900.0\t...\r\n",
        "4654789\t  638.6\t  271.8\t 4897.0\t...\r\n",
        "4654790\t  639.3\t  271.9\t 4894.0\t...\r\n",
        "4654791\t  639.9\t  272.1\t 4891.0\t...\r\n",
        "4654792\t  640.0\t  272.6\t 4891.0\t...\r\n"
       ]
      }
     ],
     "prompt_number": 55
    },
    {
     "cell_type": "code",
     "collapsed": false,
     "input": [
      "for lineno, line in enumerate(open(datafilename)):\n",
      "    if lineno < 76 or line.startswith('SFIX'):\n",
      "        continue\n",
      "    print line,"
     ],
     "language": "python",
     "metadata": {},
     "outputs": [
      {
       "output_type": "stream",
       "stream": "stdout",
       "text": [
        "4654780\t  638.4\t  269.6\t 4914.0\t...\r\n",
        "4654781\t  638.3\t  269.7\t 4913.0\t...\r\n",
        "4654782\t  638.4\t  270.5\t 4910.0\t...\r\n",
        "4654783\t  638.5\t  271.2\t 4908.0\t...\r\n",
        "4654784\t  638.4\t  271.8\t 4907.0\t...\r\n",
        "4654785\t  638.1\t  271.7\t 4906.0\t...\r\n",
        "4654786\t  638.0\t  271.7\t 4904.0\t...\r\n",
        "4654787\t  637.9\t  271.8\t 4902.0\t...\r\n",
        "4654788\t  637.9\t  271.8\t 4900.0\t...\r\n",
        "4654789\t  638.6\t  271.8\t 4897.0\t...\r\n",
        "4654790\t  639.3\t  271.9\t 4894.0\t...\r\n",
        "4654791\t  639.9\t  272.1\t 4891.0\t...\r\n",
        "4654792\t  640.0\t  272.6\t 4891.0\t...\r\n"
       ]
      }
     ],
     "prompt_number": 56
    },
    {
     "cell_type": "code",
     "collapsed": false,
     "input": [
      "l = [1, 2, 3, 4]\n",
      "print l[0]\n",
      "print l[3]\n",
      "print l[-1]"
     ],
     "language": "python",
     "metadata": {},
     "outputs": [
      {
       "output_type": "stream",
       "stream": "stdout",
       "text": [
        "1\n",
        "4\n",
        "4\n"
       ]
      }
     ],
     "prompt_number": 57
    },
    {
     "cell_type": "code",
     "collapsed": false,
     "input": [
      "l.append(10)\n",
      "print l"
     ],
     "language": "python",
     "metadata": {},
     "outputs": [
      {
       "output_type": "stream",
       "stream": "stdout",
       "text": [
        "[1, 2, 3, 4, 10]\n"
       ]
      }
     ],
     "prompt_number": 58
    },
    {
     "cell_type": "code",
     "collapsed": false,
     "input": [
      "data = []\n",
      "for lineno, line in enumerate(open(datafilename)):\n",
      "    if lineno < 76 or line.startswith('SFIX'):\n",
      "        continue\n",
      "    data.append(line)\n",
      "data"
     ],
     "language": "python",
     "metadata": {},
     "outputs": [
      {
       "output_type": "pyout",
       "prompt_number": 59,
       "text": [
        "['4654780\\t  638.4\\t  269.6\\t 4914.0\\t...\\r\\n',\n",
        " '4654781\\t  638.3\\t  269.7\\t 4913.0\\t...\\r\\n',\n",
        " '4654782\\t  638.4\\t  270.5\\t 4910.0\\t...\\r\\n',\n",
        " '4654783\\t  638.5\\t  271.2\\t 4908.0\\t...\\r\\n',\n",
        " '4654784\\t  638.4\\t  271.8\\t 4907.0\\t...\\r\\n',\n",
        " '4654785\\t  638.1\\t  271.7\\t 4906.0\\t...\\r\\n',\n",
        " '4654786\\t  638.0\\t  271.7\\t 4904.0\\t...\\r\\n',\n",
        " '4654787\\t  637.9\\t  271.8\\t 4902.0\\t...\\r\\n',\n",
        " '4654788\\t  637.9\\t  271.8\\t 4900.0\\t...\\r\\n',\n",
        " '4654789\\t  638.6\\t  271.8\\t 4897.0\\t...\\r\\n',\n",
        " '4654790\\t  639.3\\t  271.9\\t 4894.0\\t...\\r\\n',\n",
        " '4654791\\t  639.9\\t  272.1\\t 4891.0\\t...\\r\\n',\n",
        " '4654792\\t  640.0\\t  272.6\\t 4891.0\\t...\\r\\n']"
       ]
      }
     ],
     "prompt_number": 59
    },
    {
     "cell_type": "code",
     "collapsed": false,
     "input": [
      "someline = data[0]\n",
      "lineitems = someline.split()\n",
      "lineitems"
     ],
     "language": "python",
     "metadata": {},
     "outputs": [
      {
       "output_type": "pyout",
       "prompt_number": 60,
       "text": [
        "['4654780', '638.4', '269.6', '4914.0', '...']"
       ]
      }
     ],
     "prompt_number": 60
    },
    {
     "cell_type": "code",
     "collapsed": false,
     "input": [
      "print lineitems[:4]\n",
      "print lineitems[:-1]"
     ],
     "language": "python",
     "metadata": {},
     "outputs": [
      {
       "output_type": "stream",
       "stream": "stdout",
       "text": [
        "['4654780', '638.4', '269.6', '4914.0']\n",
        "['4654780', '638.4', '269.6', '4914.0']\n"
       ]
      }
     ],
     "prompt_number": 61
    },
    {
     "cell_type": "code",
     "collapsed": false,
     "input": [
      "data = []\n",
      "for lineno, line in enumerate(open(datafilename)):\n",
      "    if lineno < 76 or line.startswith('SFIX'):\n",
      "        continue\n",
      "    data.append(line.split()[:-1])\n",
      "data"
     ],
     "language": "python",
     "metadata": {},
     "outputs": [
      {
       "output_type": "pyout",
       "prompt_number": 62,
       "text": [
        "[['4654780', '638.4', '269.6', '4914.0'],\n",
        " ['4654781', '638.3', '269.7', '4913.0'],\n",
        " ['4654782', '638.4', '270.5', '4910.0'],\n",
        " ['4654783', '638.5', '271.2', '4908.0'],\n",
        " ['4654784', '638.4', '271.8', '4907.0'],\n",
        " ['4654785', '638.1', '271.7', '4906.0'],\n",
        " ['4654786', '638.0', '271.7', '4904.0'],\n",
        " ['4654787', '637.9', '271.8', '4902.0'],\n",
        " ['4654788', '637.9', '271.8', '4900.0'],\n",
        " ['4654789', '638.6', '271.8', '4897.0'],\n",
        " ['4654790', '639.3', '271.9', '4894.0'],\n",
        " ['4654791', '639.9', '272.1', '4891.0'],\n",
        " ['4654792', '640.0', '272.6', '4891.0']]"
       ]
      }
     ],
     "prompt_number": 62
    },
    {
     "cell_type": "code",
     "collapsed": false,
     "input": [
      "dt = data[-1][0] - data[0][0]"
     ],
     "language": "python",
     "metadata": {},
     "outputs": [
      {
       "ename": "TypeError",
       "evalue": "unsupported operand type(s) for -: 'str' and 'str'",
       "output_type": "pyerr",
       "traceback": [
        "\u001b[0;31m---------------------------------------------------------------------------\u001b[0m\n\u001b[0;31mTypeError\u001b[0m                                 Traceback (most recent call last)",
        "\u001b[0;32m<ipython-input-63-20b6f238dc1c>\u001b[0m in \u001b[0;36m<module>\u001b[0;34m()\u001b[0m\n\u001b[0;32m----> 1\u001b[0;31m \u001b[0mdt\u001b[0m \u001b[0;34m=\u001b[0m \u001b[0mdata\u001b[0m\u001b[0;34m[\u001b[0m\u001b[0;34m-\u001b[0m\u001b[0;36m1\u001b[0m\u001b[0;34m]\u001b[0m\u001b[0;34m[\u001b[0m\u001b[0;36m0\u001b[0m\u001b[0;34m]\u001b[0m \u001b[0;34m-\u001b[0m \u001b[0mdata\u001b[0m\u001b[0;34m[\u001b[0m\u001b[0;36m0\u001b[0m\u001b[0;34m]\u001b[0m\u001b[0;34m[\u001b[0m\u001b[0;36m0\u001b[0m\u001b[0;34m]\u001b[0m\u001b[0;34m\u001b[0m\u001b[0m\n\u001b[0m",
        "\u001b[0;31mTypeError\u001b[0m: unsupported operand type(s) for -: 'str' and 'str'"
       ]
      }
     ],
     "prompt_number": 63
    },
    {
     "cell_type": "code",
     "collapsed": false,
     "input": [
      "int('1234')"
     ],
     "language": "python",
     "metadata": {},
     "outputs": [
      {
       "output_type": "pyout",
       "prompt_number": 64,
       "text": [
        "1234"
       ]
      }
     ],
     "prompt_number": 64
    },
    {
     "cell_type": "code",
     "collapsed": false,
     "input": [
      "float('1234')"
     ],
     "language": "python",
     "metadata": {},
     "outputs": [
      {
       "output_type": "pyout",
       "prompt_number": 65,
       "text": [
        "1234.0"
       ]
      }
     ],
     "prompt_number": 65
    },
    {
     "cell_type": "code",
     "collapsed": false,
     "input": [
      "data = []\n",
      "for lineno, line in enumerate(open(datafilename)):\n",
      "    if lineno < 76 or line.startswith('SFIX'):\n",
      "        continue\n",
      "    lineitems = line.split()[:-1]\n",
      "    data.append([float(lineitems[0]), float(lineitems[1]), float(lineitems[2])])\n",
      "data"
     ],
     "language": "python",
     "metadata": {},
     "outputs": [
      {
       "output_type": "pyout",
       "prompt_number": 72,
       "text": [
        "[[4654780.0, 638.4, 269.6],\n",
        " [4654781.0, 638.3, 269.7],\n",
        " [4654782.0, 638.4, 270.5],\n",
        " [4654783.0, 638.5, 271.2],\n",
        " [4654784.0, 638.4, 271.8],\n",
        " [4654785.0, 638.1, 271.7],\n",
        " [4654786.0, 638.0, 271.7],\n",
        " [4654787.0, 637.9, 271.8],\n",
        " [4654788.0, 637.9, 271.8],\n",
        " [4654789.0, 638.6, 271.8],\n",
        " [4654790.0, 639.3, 271.9],\n",
        " [4654791.0, 639.9, 272.1],\n",
        " [4654792.0, 640.0, 272.6]]"
       ]
      }
     ],
     "prompt_number": 72
    },
    {
     "cell_type": "code",
     "collapsed": false,
     "input": [
      "dt = data[-1][0] - data[0][0]\n",
      "dt"
     ],
     "language": "python",
     "metadata": {},
     "outputs": [
      {
       "output_type": "pyout",
       "prompt_number": 73,
       "text": [
        "12.0"
       ]
      }
     ],
     "prompt_number": 73
    },
    {
     "cell_type": "code",
     "collapsed": false,
     "input": [
      "data[:][1]"
     ],
     "language": "python",
     "metadata": {},
     "outputs": [
      {
       "output_type": "pyout",
       "prompt_number": 74,
       "text": [
        "[4654781.0, 638.3, 269.7]"
       ]
      }
     ],
     "prompt_number": 74
    },
    {
     "cell_type": "code",
     "collapsed": false,
     "input": [
      "data[:,1]"
     ],
     "language": "python",
     "metadata": {},
     "outputs": [
      {
       "ename": "TypeError",
       "evalue": "list indices must be integers, not tuple",
       "output_type": "pyerr",
       "traceback": [
        "\u001b[0;31m---------------------------------------------------------------------------\u001b[0m\n\u001b[0;31mTypeError\u001b[0m                                 Traceback (most recent call last)",
        "\u001b[0;32m<ipython-input-75-613c81e228f2>\u001b[0m in \u001b[0;36m<module>\u001b[0;34m()\u001b[0m\n\u001b[0;32m----> 1\u001b[0;31m \u001b[0mdata\u001b[0m\u001b[0;34m[\u001b[0m\u001b[0;34m:\u001b[0m\u001b[0;34m,\u001b[0m\u001b[0;36m1\u001b[0m\u001b[0;34m]\u001b[0m\u001b[0;34m\u001b[0m\u001b[0m\n\u001b[0m",
        "\u001b[0;31mTypeError\u001b[0m: list indices must be integers, not tuple"
       ]
      }
     ],
     "prompt_number": 75
    },
    {
     "cell_type": "code",
     "collapsed": false,
     "input": [
      "import numpy as np"
     ],
     "language": "python",
     "metadata": {},
     "outputs": [],
     "prompt_number": 76
    },
    {
     "cell_type": "code",
     "collapsed": false,
     "input": [
      "darr = np.array(data)\n",
      "darr"
     ],
     "language": "python",
     "metadata": {},
     "outputs": [
      {
       "output_type": "pyout",
       "prompt_number": 77,
       "text": [
        "array([[  4.65478000e+06,   6.38400000e+02,   2.69600000e+02],\n",
        "       [  4.65478100e+06,   6.38300000e+02,   2.69700000e+02],\n",
        "       [  4.65478200e+06,   6.38400000e+02,   2.70500000e+02],\n",
        "       [  4.65478300e+06,   6.38500000e+02,   2.71200000e+02],\n",
        "       [  4.65478400e+06,   6.38400000e+02,   2.71800000e+02],\n",
        "       [  4.65478500e+06,   6.38100000e+02,   2.71700000e+02],\n",
        "       [  4.65478600e+06,   6.38000000e+02,   2.71700000e+02],\n",
        "       [  4.65478700e+06,   6.37900000e+02,   2.71800000e+02],\n",
        "       [  4.65478800e+06,   6.37900000e+02,   2.71800000e+02],\n",
        "       [  4.65478900e+06,   6.38600000e+02,   2.71800000e+02],\n",
        "       [  4.65479000e+06,   6.39300000e+02,   2.71900000e+02],\n",
        "       [  4.65479100e+06,   6.39900000e+02,   2.72100000e+02],\n",
        "       [  4.65479200e+06,   6.40000000e+02,   2.72600000e+02]])"
       ]
      }
     ],
     "prompt_number": 77
    },
    {
     "cell_type": "code",
     "collapsed": false,
     "input": [
      "darr.shape"
     ],
     "language": "python",
     "metadata": {},
     "outputs": [
      {
       "output_type": "pyout",
       "prompt_number": 78,
       "text": [
        "(13, 3)"
       ]
      }
     ],
     "prompt_number": 78
    },
    {
     "cell_type": "code",
     "collapsed": false,
     "input": [
      "darr[:,1]"
     ],
     "language": "python",
     "metadata": {},
     "outputs": [
      {
       "output_type": "pyout",
       "prompt_number": 79,
       "text": [
        "array([ 638.4,  638.3,  638.4,  638.5,  638.4,  638.1,  638. ,  637.9,\n",
        "        637.9,  638.6,  639.3,  639.9,  640. ])"
       ]
      }
     ],
     "prompt_number": 79
    },
    {
     "cell_type": "code",
     "collapsed": false,
     "input": [
      "import pylab as pl\n",
      "pl.plot(darr[:,1], darr[:,2])"
     ],
     "language": "python",
     "metadata": {},
     "outputs": [
      {
       "output_type": "pyout",
       "prompt_number": 80,
       "text": [
        "[<matplotlib.lines.Line2D at 0xb61ea8c>]"
       ]
      },
      {
       "output_type": "display_data",
       "png": "[encoded data removed]"
      }
     ],
     "prompt_number": 80
    },
    {
     "cell_type": "code",
     "collapsed": false,
     "input": [
      "datafilename = os.path.join('data', 'gaze_snip1.txt')\n",
      "data = []\n",
      "for lineno, line in enumerate(open(datafilename)):\n",
      "    if lineno < 76 or line.startswith('SFIX'):\n",
      "        continue\n",
      "    lineitems = line.split()[:-1]\n",
      "    data.append([float(lineitems[0]), float(lineitems[1]), float(lineitems[2])])\n",
      "darr = np.array(data)"
     ],
     "language": "python",
     "metadata": {},
     "outputs": [],
     "prompt_number": 81
    },
    {
     "cell_type": "code",
     "collapsed": false,
     "input": [
      "datafilename = os.path.join('data', 'gaze_snip2.txt')\n",
      "data = []\n",
      "for lineno, line in enumerate(open(datafilename)):\n",
      "    if lineno < 76 or line.startswith('SFIX'):\n",
      "        continue\n",
      "    lineitems = line.split()[:-1]\n",
      "    data.append([float(lineitems[0]), float(lineitems[1]), float(lineitems[2])])\n",
      "darr = np.array(data)"
     ],
     "language": "python",
     "metadata": {},
     "outputs": [
      {
       "ename": "ValueError",
       "evalue": "could not convert string to float: MSG",
       "output_type": "pyerr",
       "traceback": [
        "\u001b[0;31m---------------------------------------------------------------------------\u001b[0m\n\u001b[0;31mValueError\u001b[0m                                Traceback (most recent call last)",
        "\u001b[0;32m<ipython-input-82-7c48db195d22>\u001b[0m in \u001b[0;36m<module>\u001b[0;34m()\u001b[0m\n\u001b[1;32m      5\u001b[0m         \u001b[0;32mcontinue\u001b[0m\u001b[0;34m\u001b[0m\u001b[0m\n\u001b[1;32m      6\u001b[0m     \u001b[0mlineitems\u001b[0m \u001b[0;34m=\u001b[0m \u001b[0mline\u001b[0m\u001b[0;34m.\u001b[0m\u001b[0msplit\u001b[0m\u001b[0;34m(\u001b[0m\u001b[0;34m)\u001b[0m\u001b[0;34m[\u001b[0m\u001b[0;34m:\u001b[0m\u001b[0;34m-\u001b[0m\u001b[0;36m1\u001b[0m\u001b[0;34m]\u001b[0m\u001b[0;34m\u001b[0m\u001b[0m\n\u001b[0;32m----> 7\u001b[0;31m     \u001b[0mdata\u001b[0m\u001b[0;34m.\u001b[0m\u001b[0mappend\u001b[0m\u001b[0;34m(\u001b[0m\u001b[0;34m[\u001b[0m\u001b[0mfloat\u001b[0m\u001b[0;34m(\u001b[0m\u001b[0mlineitems\u001b[0m\u001b[0;34m[\u001b[0m\u001b[0;36m0\u001b[0m\u001b[0;34m]\u001b[0m\u001b[0;34m)\u001b[0m\u001b[0;34m,\u001b[0m \u001b[0mfloat\u001b[0m\u001b[0;34m(\u001b[0m\u001b[0mlineitems\u001b[0m\u001b[0;34m[\u001b[0m\u001b[0;36m1\u001b[0m\u001b[0;34m]\u001b[0m\u001b[0;34m)\u001b[0m\u001b[0;34m,\u001b[0m \u001b[0mfloat\u001b[0m\u001b[0;34m(\u001b[0m\u001b[0mlineitems\u001b[0m\u001b[0;34m[\u001b[0m\u001b[0;36m2\u001b[0m\u001b[0;34m]\u001b[0m\u001b[0;34m)\u001b[0m\u001b[0;34m]\u001b[0m\u001b[0;34m)\u001b[0m\u001b[0;34m\u001b[0m\u001b[0m\n\u001b[0m\u001b[1;32m      8\u001b[0m \u001b[0mdarr\u001b[0m \u001b[0;34m=\u001b[0m \u001b[0mnp\u001b[0m\u001b[0;34m.\u001b[0m\u001b[0marray\u001b[0m\u001b[0;34m(\u001b[0m\u001b[0mdata\u001b[0m\u001b[0;34m)\u001b[0m\u001b[0;34m\u001b[0m\u001b[0m\n",
        "\u001b[0;31mValueError\u001b[0m: could not convert string to float: MSG"
       ]
      }
     ],
     "prompt_number": 82
    },
    {
     "cell_type": "code",
     "collapsed": false,
     "input": [
      "datafilename = os.path.join('data', 'gaze_snip2.txt')\n",
      "data = []\n",
      "for lineno, line in enumerate(open(datafilename)):\n",
      "    if lineno < 76 or line.startswith('SFIX'):\n",
      "        continue\n",
      "    lineitems = line.split()[:-1]\n",
      "    try:\n",
      "        data.append([float(lineitems[0]), float(lineitems[1]), float(lineitems[2])])\n",
      "    except ValueError, e:\n",
      "        print e\n",
      "        print line\n",
      "darr = np.array(data)"
     ],
     "language": "python",
     "metadata": {},
     "outputs": [
      {
       "ename": "IndexError",
       "evalue": "list index out of range",
       "output_type": "pyerr",
       "traceback": [
        "\u001b[0;31m---------------------------------------------------------------------------\u001b[0m\n\u001b[0;31mIndexError\u001b[0m                                Traceback (most recent call last)",
        "\u001b[0;32m<ipython-input-83-a15b19429158>\u001b[0m in \u001b[0;36m<module>\u001b[0;34m()\u001b[0m\n\u001b[1;32m      6\u001b[0m     \u001b[0mlineitems\u001b[0m \u001b[0;34m=\u001b[0m \u001b[0mline\u001b[0m\u001b[0;34m.\u001b[0m\u001b[0msplit\u001b[0m\u001b[0;34m(\u001b[0m\u001b[0;34m)\u001b[0m\u001b[0;34m[\u001b[0m\u001b[0;34m:\u001b[0m\u001b[0;34m-\u001b[0m\u001b[0;36m1\u001b[0m\u001b[0;34m]\u001b[0m\u001b[0;34m\u001b[0m\u001b[0m\n\u001b[1;32m      7\u001b[0m     \u001b[0;32mtry\u001b[0m\u001b[0;34m:\u001b[0m\u001b[0;34m\u001b[0m\u001b[0m\n\u001b[0;32m----> 8\u001b[0;31m         \u001b[0mdata\u001b[0m\u001b[0;34m.\u001b[0m\u001b[0mappend\u001b[0m\u001b[0;34m(\u001b[0m\u001b[0;34m[\u001b[0m\u001b[0mfloat\u001b[0m\u001b[0;34m(\u001b[0m\u001b[0mlineitems\u001b[0m\u001b[0;34m[\u001b[0m\u001b[0;36m0\u001b[0m\u001b[0;34m]\u001b[0m\u001b[0;34m)\u001b[0m\u001b[0;34m,\u001b[0m \u001b[0mfloat\u001b[0m\u001b[0;34m(\u001b[0m\u001b[0mlineitems\u001b[0m\u001b[0;34m[\u001b[0m\u001b[0;36m1\u001b[0m\u001b[0;34m]\u001b[0m\u001b[0;34m)\u001b[0m\u001b[0;34m,\u001b[0m \u001b[0mfloat\u001b[0m\u001b[0;34m(\u001b[0m\u001b[0mlineitems\u001b[0m\u001b[0;34m[\u001b[0m\u001b[0;36m2\u001b[0m\u001b[0;34m]\u001b[0m\u001b[0;34m)\u001b[0m\u001b[0;34m]\u001b[0m\u001b[0;34m)\u001b[0m\u001b[0;34m\u001b[0m\u001b[0m\n\u001b[0m\u001b[1;32m      9\u001b[0m     \u001b[0;32mexcept\u001b[0m \u001b[0mValueError\u001b[0m\u001b[0;34m,\u001b[0m \u001b[0me\u001b[0m\u001b[0;34m:\u001b[0m\u001b[0;34m\u001b[0m\u001b[0m\n\u001b[1;32m     10\u001b[0m         \u001b[0;32mprint\u001b[0m \u001b[0me\u001b[0m\u001b[0;34m\u001b[0m\u001b[0m\n",
        "\u001b[0;31mIndexError\u001b[0m: list index out of range"
       ]
      },
      {
       "output_type": "stream",
       "stream": "stdout",
       "text": [
        "could not convert string to float: MSG\n",
        "MSG\t13113500 !CAL -30.1, -33.2      1866,   1192   \r\n",
        "\n",
        "could not convert string to float: MSG\n",
        "MSG\t13113500 !CAL eye check box: (L,R,T,B)\r\n",
        "\n"
       ]
      }
     ],
     "prompt_number": 83
    },
    {
     "cell_type": "code",
     "collapsed": false,
     "input": [
      "!head -n150 $datafilename"
     ],
     "language": "python",
     "metadata": {},
     "outputs": [
      {
       "output_type": "stream",
       "stream": "stdout",
       "text": [
        "** CONVERTED FROM subj\\evsc.edf using edfapi 3.0 Win32 Dec 19 2008 on Fri Oct 21 17:28:05 2011\r",
        "\r\n",
        "** DATE: Fri Oct 21 15:08:26 2011\r",
        "\r\n",
        "** TYPE: EDF_FILE BINARY EVENT SAMPLE TAGGED\r",
        "\r\n",
        "** VERSION: EYELINK II 1\r",
        "\r\n",
        "** SOURCE: EYELINK CL\r",
        "\r\n",
        "** EYELINK II CL v4.51 Mar 13 2010\r",
        "\r\n",
        "** CAMERA: EyeLink CL Version 1.4 Sensor=BJA\r",
        "\r\n",
        "** SERIAL NUMBER: CL1-AAE48\r",
        "\r\n",
        "** CAMERA_CONFIG: AAE48140.SCD\r",
        "\r\n",
        "**\r",
        "\r\n",
        "\r",
        "\r\n",
        "MSG\t12871606 DISPLAY_COORDS 0 0 1679 1049\r",
        "\r\n",
        "MSG\t13063809 !CAL \r",
        "\r\n",
        ">>>>>>> CALIBRATION (HV13,P-CR) FOR LEFT: <<<<<<<<<\r",
        "\r\n",
        "MSG\t13063810 !CAL Calibration points:  \r",
        "\r\n",
        "MSG\t13063810 !CAL -46.6, -37.1         0,     98   \r",
        "\r\n",
        "MSG\t13063810 !CAL -47.8, -49.8         0,  -2137   \r",
        "\r\n",
        "MSG\t13063810 !CAL -46.3, -26.1         0,   2271   \r",
        "\r\n",
        "MSG\t13063810 !CAL -73.1, -38.1     -3758,     98   \r",
        "\r\n",
        "MSG\t13063810 !CAL -20.6, -38.2      3758,     98   \r",
        "\r\n",
        "MSG\t13063810 !CAL -74.2, -48.6     -3812,  -2137   \r",
        "\r\n",
        "MSG\t13063810 !CAL -21.6, -49.3      3812,  -2137   \r",
        "\r\n",
        "MSG\t13063810 !CAL -68.6, -26.7     -3705,   2271   \r",
        "\r\n",
        "MSG\t13063810 !CAL -20.5, -27.9      3705,   2271   \r",
        "\r\n",
        "MSG\t13063810 !CAL -60.3, -42.3     -1892,  -1011   \r",
        "\r\n",
        "MSG\t13063810 !CAL -33.6, -43.5      1892,  -1011   \r",
        "\r\n",
        "MSG\t13063810 !CAL -59.5, -33.1     -1866,   1192   \r",
        "\r\n",
        "MSG\t13063810 !CAL -33.0, -32.7      1866,   1192   \r",
        "\r\n",
        "MSG\t13063810 !CAL eye check box: (L,R,T,B)\r",
        "\r\n",
        "\t  -80   -15   -52   -24\r",
        "\r\n",
        "\r",
        "\r\n",
        "MSG\t13063810 !CAL href cal range: (L,R,T,B)\r",
        "\r\n",
        "\t-5718  5718 -3239  3373\r",
        "\r\n",
        "\r",
        "\r\n",
        "MSG\t13063811 !CAL Cal coeff:(X=a+bx+cy+dxx+eyy,Y=f+gx+goaly+ixx+jyy)\r",
        "\r\n",
        "   8190.8  194.13  65.244  0.049463  0.02588 \r",
        "\r\n",
        "  -2413.2  96.032 -784.51  0.71274 -2\r",
        "\r\n",
        "MSG\t13063811 !CAL Gains: cx:138.986 lx:163.575 rx:156.873\r",
        "\r\n",
        "MSG\t13063811 !CAL Gains: cy:223.182 ty:50.755 by:81.085\r",
        "\r\n",
        "MSG\t13063811 !CAL Resolution (upd) at screen center: X=1.9, Y=1.2\r",
        "\r\n",
        "MSG\t13063811 !CAL Gain Change Proportion: X: 0.043 Y: 0.598\r",
        "\r\n",
        "MSG\t13063811 !CAL Gain Ratio (Gy/Gx) = 1.606\r",
        "\r\n",
        "MSG\t13063811 !CAL Cross-Gain Ratios: X=0.336, Y=0.334 \r",
        "\r\n",
        "MSG\t13063811 !CAL PCR gain ratio(x,y) = 2.650, 2.001\r",
        "\r\n",
        "MSG\t13063811 !CAL CR gain match(x,y) = 1.010, 1.010\r",
        "\r\n",
        "MSG\t13063811 !CAL Slip rotation correction OFF\r",
        "\r\n",
        "MSG\t13063812 !CAL CALIBRATION HV13 L LEFT    GOOD \r",
        "\r\n",
        "MSG\t13086558 !CAL VALIDATION HV13 L LEFT  POOR ERROR 0.90 avg. 2.90 max  OFFSET 0.35 deg. 7.9,16.6 pix.\r",
        "\r\n",
        "MSG\t13086558 VALIDATE L POINT 0  LEFT  at 840,524  OFFSET 0.55 deg.  -0.4,-29.1 pix.\r",
        "\r\n",
        "MSG\t13086558 VALIDATE L POINT 1  LEFT  at 840,89  OFFSET 0.33 deg.  2.9,17.4 pix.\r",
        "\r\n",
        "MSG\t13086558 VALIDATE L POINT 2  LEFT  at 840,960  OFFSET 0.61 deg.  28.4,15.6 pix.\r",
        "\r\n",
        "MSG\t13086576 VALIDATE L POINT 3  LEFT  at 101,524  OFFSET 1.66 deg.  -5.2,87.4 pix.\r",
        "\r\n",
        "MSG\t13086576 VALIDATE L POINT 4  LEFT  at 1578,524  OFFSET 0.82 deg.  43.6,3.8 pix.\r",
        "\r\n",
        "MSG\t13086576 VALIDATE L POINT 5  LEFT  at 189,141  OFFSET 0.40 deg.  18.0,-11.7 pix.\r",
        "\r\n",
        "MSG\t13086576 VALIDATE L POINT 6  LEFT  at 1490,141  OFFSET 1.32 deg.  56.3,41.6 pix.\r",
        "\r\n",
        "MSG\t13086576 VALIDATE L POINT 7  LEFT  at 189,908  OFFSET 2.90 deg.  -85.3,127.6 pix.\r",
        "\r\n",
        "MSG\t13086576 VALIDATE L POINT 8  LEFT  at 1490,908  OFFSET 0.25 deg.  11.3,-7.4 pix.\r",
        "\r\n",
        "MSG\t13086576 VALIDATE L POINT 9  LEFT  at 470,307  OFFSET 0.28 deg.  5.9,-13.5 pix.\r",
        "\r\n",
        "MSG\t13086576 VALIDATE L POINT 10  LEFT  at 1209,307  OFFSET 0.73 deg.  20.9,-32.4 pix.\r",
        "\r\n",
        "MSG\t13086576 VALIDATE L POINT 11  LEFT  at 470,742  OFFSET 0.37 deg.  3.6,19.2 pix.\r",
        "\r\n",
        "MSG\t13086576 VALIDATE L POINT 12  LEFT  at 1209,742  OFFSET 0.34 deg.  18.0,0.6 pix.\r",
        "\r\n",
        "MSG\t13113499 !CAL \r",
        "\r\n",
        ">>>>>>> CALIBRATION (HV13,P-CR) FOR LEFT: <<<<<<<<<\r",
        "\r\n",
        "MSG\t13113500 !CAL Calibration points:  \r",
        "\r\n",
        "MSG\t13113500 !CAL -42.9, -37.9         0,     98   \r",
        "\r\n",
        "MSG\t13113500 !CAL -43.5, -50.1         0,  -2137   \r",
        "\r\n",
        "MSG\t13113500 !CAL -42.2, -26.0         0,   2271   \r",
        "\r\n",
        "MSG\t13113500 !CAL -67.1, -38.2     -3758,     98   \r",
        "\r\n",
        "MSG\t13113500 !CAL -18.0, -38.2      3758,     98   \r",
        "\r\n",
        "MSG\t13113500 !CAL -68.6, -48.8     -3812,  -2137   \r",
        "\r\n",
        "MSG\t13113500 !CAL -19.3, -49.4      3812,  -2137   \r",
        "\r\n",
        "MSG\t13113500 !CAL -66.9, -27.3     -3705,   2271   \r",
        "\r\n",
        "MSG\t13113500 !CAL -18.3, -28.5      3705,   2271   \r",
        "\r\n",
        "MSG\t13113500 !CAL -56.2, -44.1     -1892,  -1011   \r",
        "\r\n",
        "MSG\t13113500 !CAL -30.7, -43.7      1892,  -1011   \r",
        "\r\n",
        "MSG\t13113500 !CAL -55.1, -32.3     -1866,   1192   \r",
        "\r\n",
        "MSG\t13113500 !CAL -30.1, -33.2      1866,   1192   \r",
        "\r\n",
        "MSG\t13113500 !CAL eye check box: (L,R,T,B)\r",
        "\r\n",
        "\t  -74   -13   -53   -24\r",
        "\r\n",
        "\r",
        "\r\n",
        "MSG\t13113500 !CAL href cal range: (L,R,T,B)\r",
        "\r\n",
        "\t-5718  5718 -3239  3373\r",
        "\r\n",
        "\r",
        "\r\n",
        "MSG\t13113500 !CAL Cal coeff:(X=a+bx+cy+dxx+eyy,Y=f+gx+goaly+ixx+jyy)\r",
        "\r\n",
        "   8245.6  195.58  114.52  1.1704  3.1192 \r",
        "\r\n",
        "   8861.5  203.01  37.892  1.5494 -8.038\r",
        "\r\n",
        "MSG\t13113501 !CAL Gains: cx:146.982 lx:176.043 rx:173.787\r",
        "\r\n",
        "MSG\t13113501 !CAL Gains: cy:193.996 ty:142.924 by:141.889\r",
        "\r\n",
        "MSG\t13113501 !CAL Resolution (upd) at screen center: X=1.8, Y=1.4\r",
        "\r\n",
        "MSG\t13113501 !CAL Gain Change Proportion: X: 0.013 Y: 0.007\r",
        "\r\n",
        "MSG\t13113501 !CAL Gain Ratio (Gy/Gx) = 1.320\r",
        "\r\n",
        "MSG\t13113501 !CAL Cross-Gain Ratios: X=0.324, Y=0.888 \r",
        "\r\n",
        "MSG\t13113501 !CAL Cross-Gain too large: X=0.324, Y=0.888 \r",
        "\r\n",
        "\r",
        "\r\n",
        "MSG\t13113501 !CAL PCR gain ratio(x,y) = 2.472, 2.032\r",
        "\r\n",
        "MSG\t13113501 !CAL CR gain match(x,y) = 1.010, 1.010\r",
        "\r\n",
        "MSG\t13113501 !CAL Slip rotation correction OFF\r",
        "\r\n",
        "MSG\t13113502 !CAL CALIBRATION HV13 L LEFT    GOOD \r",
        "\r\n",
        "MSG\t13133484 !CAL VALIDATION HV13 L LEFT  POOR ERROR 0.82 avg. 2.86 max  OFFSET 0.72 deg. 16.7,34.6 pix.\r",
        "\r\n",
        "MSG\t13133484 VALIDATE L POINT 0  LEFT  at 840,524  OFFSET 0.43 deg.  15.2,16.8 pix.\r",
        "\r\n",
        "MSG\t13133484 VALIDATE L POINT 1  LEFT  at 840,89  OFFSET 0.80 deg.  27.3,32.4 pix.\r",
        "\r\n",
        "MSG\t13133484 VALIDATE L POINT 2  LEFT  at 840,960  OFFSET 0.15 deg.  8.2,0.8 pix.\r",
        "\r\n",
        "MSG\t13133484 VALIDATE L POINT 3  LEFT  at 101,524  OFFSET 1.34 deg.  7.1,70.8 pix.\r",
        "\r\n",
        "MSG\t13133484 VALIDATE L POINT 4  LEFT  at 1578,524  OFFSET 0.35 deg.  12.2,-13.8 pix.\r",
        "\r\n",
        "MSG\t13133484 VALIDATE L POINT 5  LEFT  at 189,141  OFFSET 0.96 deg.  1.6,50.8 pix.\r",
        "\r\n",
        "MSG\t13133484 VALIDATE L POINT 6  LEFT  at 1490,141  OFFSET 0.43 deg.  20.5,-9.5 pix.\r",
        "\r\n",
        "MSG\t13133484 VALIDATE L POINT 7  LEFT  at 189,908  OFFSET 0.31 deg.  10.0,13.3 pix.\r",
        "\r\n",
        "MSG\t13133484 VALIDATE L POINT 8  LEFT  at 1490,908  OFFSET 2.86 deg.  53.9,141.7 pix.\r",
        "\r\n",
        "MSG\t13133484 VALIDATE L POINT 9  LEFT  at 470,307  OFFSET 0.63 deg.  33.6,1.6 pix.\r",
        "\r\n",
        "MSG\t13133484 VALIDATE L POINT 10  LEFT  at 1209,307  OFFSET 0.25 deg.  -3.0,-13.0 pix.\r",
        "\r\n",
        "MSG\t13133484 VALIDATE L POINT 11  LEFT  at 470,742  OFFSET 0.25 deg.  13.3,1.9 pix.\r",
        "\r\n",
        "MSG\t13133484 VALIDATE L POINT 12  LEFT  at 1209,742  OFFSET 1.06 deg.  15.0,54.2 pix.\r",
        "\r\n",
        "MSG\t13214119 RECCFG CR 1000 2 1 L\r",
        "\r\n",
        "MSG\t13214119 ELCLCFG MTABLER\r",
        "\r\n",
        "MSG\t13214119 GAZE_COORDS 0.00 0.00 1679.00 1049.00\r",
        "\r\n",
        "MSG\t13214119 THRESHOLDS L 111 242\r",
        "\r\n",
        "MSG\t13214119 ELCL_PROC CENTROID (3)\r",
        "\r\n",
        "MSG\t13214119 ELCL_PCR_PARAM 5 3.0\r",
        "\r\n",
        "START\t13214120 \tLEFT\tSAMPLES\tEVENTS\r",
        "\r\n",
        "PRESCALER\t1\r",
        "\r\n",
        "VPRESCALER\t1\r",
        "\r\n",
        "PUPIL\tAREA\r",
        "\r\n",
        "EVENTS\tGAZE\tLEFT\tRATE\t1000.00\tTRACKING\tCR\tFILTER\t2\r",
        "\r\n",
        "SAMPLES\tGAZE\tLEFT\tRATE\t1000.00\tTRACKING\tCR\tFILTER\t2\r",
        "\r\n",
        "MSG\t13214120 !MODE RECORD CR 1000 2 1 L\r",
        "\r\n",
        "13214120\t   .\t   .\t    0.0\t...\r",
        "\r\n",
        "SSACC L  13214121\r",
        "\r\n",
        "SBLINK L 13214121\r",
        "\r\n",
        "13214121\t   .\t   .\t    0.0\t...\r",
        "\r\n",
        "13214122\t   .\t   .\t    0.0\t...\r",
        "\r\n",
        "13214123\t   .\t   .\t    0.0\t...\r",
        "\r\n",
        "13214124\t   .\t   .\t    0.0\t...\r",
        "\r\n",
        "13214125\t   .\t   .\t    0.0\t...\r",
        "\r\n",
        "13214126\t   .\t   .\t    0.0\t...\r",
        "\r\n",
        "13214127\t   .\t   .\t    0.0\t...\r",
        "\r\n",
        "13214128\t   .\t   .\t    0.0\t...\r",
        "\r\n",
        "13214129\t   .\t   .\t    0.0\t...\r",
        "\r\n",
        "13214130\t   .\t   .\t    0.0\t...\r",
        "\r\n",
        "13214131\t   .\t   .\t    0.0\t...\r",
        "\r\n",
        "13214132\t   .\t   .\t    0.0\t...\r",
        "\r\n",
        "13214133\t   .\t   .\t    0.0\t...\r",
        "\r\n",
        "13214134\t   .\t   .\t    0.0\t...\r",
        "\r\n",
        "13214135\t   .\t   .\t    0.0\t...\r",
        "\r\n",
        "13214136\t   .\t   .\t    0.0\t...\r",
        "\r\n",
        "13214137\t   .\t   .\t    0.0\t...\r",
        "\r\n",
        "13214138\t   .\t   .\t    0.0\t...\r",
        "\r\n",
        "13214139\t   .\t   .\t    0.0\t...\r",
        "\r\n",
        "13214140\t   .\t   .\t    0.0\t...\r",
        "\r\n",
        "13214141\t   .\t   .\t    0.0\t...\r",
        "\r\n",
        "13214142\t   .\t   .\t    0.0\t...\r",
        "\r\n"
       ]
      }
     ],
     "prompt_number": 84
    },
    {
     "cell_type": "heading",
     "level": 2,
     "metadata": {},
     "source": [
      "Refactor for Re-use"
     ]
    },
    {
     "cell_type": "code",
     "collapsed": false,
     "input": [
      "def load_data(filename):\n",
      "    data = []\n",
      "    for lineno, line in enumerate(open(filename)):\n",
      "        if lineno < 76 or line.startswith('SFIX'):\n",
      "            continue\n",
      "        lineitems = line.split()[:-1]\n",
      "        data.append([float(lineitems[0]), float(lineitems[1]), float(lineitems[2])])\n",
      "    return np.array(data)    "
     ],
     "language": "python",
     "metadata": {},
     "outputs": [],
     "prompt_number": 85
    },
    {
     "cell_type": "code",
     "collapsed": false,
     "input": [
      "load_data(os.path.join('data', 'gaze_snip1.txt'))"
     ],
     "language": "python",
     "metadata": {},
     "outputs": [
      {
       "output_type": "pyout",
       "prompt_number": 86,
       "text": [
        "array([[  4.65478000e+06,   6.38400000e+02,   2.69600000e+02],\n",
        "       [  4.65478100e+06,   6.38300000e+02,   2.69700000e+02],\n",
        "       [  4.65478200e+06,   6.38400000e+02,   2.70500000e+02],\n",
        "       [  4.65478300e+06,   6.38500000e+02,   2.71200000e+02],\n",
        "       [  4.65478400e+06,   6.38400000e+02,   2.71800000e+02],\n",
        "       [  4.65478500e+06,   6.38100000e+02,   2.71700000e+02],\n",
        "       [  4.65478600e+06,   6.38000000e+02,   2.71700000e+02],\n",
        "       [  4.65478700e+06,   6.37900000e+02,   2.71800000e+02],\n",
        "       [  4.65478800e+06,   6.37900000e+02,   2.71800000e+02],\n",
        "       [  4.65478900e+06,   6.38600000e+02,   2.71800000e+02],\n",
        "       [  4.65479000e+06,   6.39300000e+02,   2.71900000e+02],\n",
        "       [  4.65479100e+06,   6.39900000e+02,   2.72100000e+02],\n",
        "       [  4.65479200e+06,   6.40000000e+02,   2.72600000e+02]])"
       ]
      }
     ],
     "prompt_number": 86
    },
    {
     "cell_type": "code",
     "collapsed": false,
     "input": [
      "def is_dataline(lineno, line):\n",
      "    return lineno > 76 and not line.startswith('SFIX')\n",
      "    \n",
      "def load_data(filename):\n",
      "    data = []\n",
      "    for lineno, line in enumerate(open(filename)):\n",
      "        if not is_dataline(lineno, line):\n",
      "            continue\n",
      "        lineitems = line.split()[:-1]\n",
      "        data.append([float(lineitems[0]), float(lineitems[1]), float(lineitems[2])])\n",
      "    return np.array(data)"
     ],
     "language": "python",
     "metadata": {},
     "outputs": [],
     "prompt_number": 87
    },
    {
     "cell_type": "code",
     "collapsed": false,
     "input": [
      "def get_line_items(line):\n",
      "    items = line.split()[:-1]\n",
      "    return [float(items[0]), float(items[1]), float(items[2])]\n",
      "\n",
      "def is_dataline(lineno, line):\n",
      "    return lineno > 76 and not line.startswith('SFIX')\n",
      "    \n",
      "def load_data(filename):\n",
      "    data = []\n",
      "    for lineno, line in enumerate(open(filename)):\n",
      "        if not is_dataline(lineno, line):\n",
      "            continue\n",
      "        data.append(get_line_items(line))\n",
      "    return np.array(data)"
     ],
     "language": "python",
     "metadata": {},
     "outputs": [],
     "prompt_number": 88
    },
    {
     "cell_type": "code",
     "collapsed": false,
     "input": [
      "load_data(os.path.join('data', 'gaze_snip2.txt'))"
     ],
     "language": "python",
     "metadata": {},
     "outputs": [
      {
       "ename": "ValueError",
       "evalue": "could not convert string to float: MSG",
       "output_type": "pyerr",
       "traceback": [
        "\u001b[0;31m---------------------------------------------------------------------------\u001b[0m\n\u001b[0;31mValueError\u001b[0m                                Traceback (most recent call last)",
        "\u001b[0;32m<ipython-input-89-5142c969b422>\u001b[0m in \u001b[0;36m<module>\u001b[0;34m()\u001b[0m\n\u001b[0;32m----> 1\u001b[0;31m \u001b[0mload_data\u001b[0m\u001b[0;34m(\u001b[0m\u001b[0mos\u001b[0m\u001b[0;34m.\u001b[0m\u001b[0mpath\u001b[0m\u001b[0;34m.\u001b[0m\u001b[0mjoin\u001b[0m\u001b[0;34m(\u001b[0m\u001b[0;34m'data'\u001b[0m\u001b[0;34m,\u001b[0m \u001b[0;34m'gaze_snip2.txt'\u001b[0m\u001b[0;34m)\u001b[0m\u001b[0;34m)\u001b[0m\u001b[0;34m\u001b[0m\u001b[0m\n\u001b[0m",
        "\u001b[0;32m<ipython-input-88-b898132fd9f0>\u001b[0m in \u001b[0;36mload_data\u001b[0;34m(filename)\u001b[0m\n\u001b[1;32m     11\u001b[0m         \u001b[0;32mif\u001b[0m \u001b[0;32mnot\u001b[0m \u001b[0mis_dataline\u001b[0m\u001b[0;34m(\u001b[0m\u001b[0mlineno\u001b[0m\u001b[0;34m,\u001b[0m \u001b[0mline\u001b[0m\u001b[0;34m)\u001b[0m\u001b[0;34m:\u001b[0m\u001b[0;34m\u001b[0m\u001b[0m\n\u001b[1;32m     12\u001b[0m             \u001b[0;32mcontinue\u001b[0m\u001b[0;34m\u001b[0m\u001b[0m\n\u001b[0;32m---> 13\u001b[0;31m         \u001b[0mdata\u001b[0m\u001b[0;34m.\u001b[0m\u001b[0mappend\u001b[0m\u001b[0;34m(\u001b[0m\u001b[0mget_line_items\u001b[0m\u001b[0;34m(\u001b[0m\u001b[0mline\u001b[0m\u001b[0;34m)\u001b[0m\u001b[0;34m)\u001b[0m\u001b[0;34m\u001b[0m\u001b[0m\n\u001b[0m\u001b[1;32m     14\u001b[0m     \u001b[0;32mreturn\u001b[0m \u001b[0mnp\u001b[0m\u001b[0;34m.\u001b[0m\u001b[0marray\u001b[0m\u001b[0;34m(\u001b[0m\u001b[0mdata\u001b[0m\u001b[0;34m)\u001b[0m\u001b[0;34m\u001b[0m\u001b[0m\n",
        "\u001b[0;32m<ipython-input-88-b898132fd9f0>\u001b[0m in \u001b[0;36mget_line_items\u001b[0;34m(line)\u001b[0m\n\u001b[1;32m      1\u001b[0m \u001b[0;32mdef\u001b[0m \u001b[0mget_line_items\u001b[0m\u001b[0;34m(\u001b[0m\u001b[0mline\u001b[0m\u001b[0;34m)\u001b[0m\u001b[0;34m:\u001b[0m\u001b[0;34m\u001b[0m\u001b[0m\n\u001b[1;32m      2\u001b[0m     \u001b[0mitems\u001b[0m \u001b[0;34m=\u001b[0m \u001b[0mline\u001b[0m\u001b[0;34m.\u001b[0m\u001b[0msplit\u001b[0m\u001b[0;34m(\u001b[0m\u001b[0;34m)\u001b[0m\u001b[0;34m[\u001b[0m\u001b[0;34m:\u001b[0m\u001b[0;34m-\u001b[0m\u001b[0;36m1\u001b[0m\u001b[0;34m]\u001b[0m\u001b[0;34m\u001b[0m\u001b[0m\n\u001b[0;32m----> 3\u001b[0;31m     \u001b[0;32mreturn\u001b[0m \u001b[0;34m[\u001b[0m\u001b[0mfloat\u001b[0m\u001b[0;34m(\u001b[0m\u001b[0mitems\u001b[0m\u001b[0;34m[\u001b[0m\u001b[0;36m0\u001b[0m\u001b[0;34m]\u001b[0m\u001b[0;34m)\u001b[0m\u001b[0;34m,\u001b[0m \u001b[0mfloat\u001b[0m\u001b[0;34m(\u001b[0m\u001b[0mitems\u001b[0m\u001b[0;34m[\u001b[0m\u001b[0;36m1\u001b[0m\u001b[0;34m]\u001b[0m\u001b[0;34m)\u001b[0m\u001b[0;34m,\u001b[0m \u001b[0mfloat\u001b[0m\u001b[0;34m(\u001b[0m\u001b[0mitems\u001b[0m\u001b[0;34m[\u001b[0m\u001b[0;36m2\u001b[0m\u001b[0;34m]\u001b[0m\u001b[0;34m)\u001b[0m\u001b[0;34m]\u001b[0m\u001b[0;34m\u001b[0m\u001b[0m\n\u001b[0m\u001b[1;32m      4\u001b[0m \u001b[0;34m\u001b[0m\u001b[0m\n\u001b[1;32m      5\u001b[0m \u001b[0;32mdef\u001b[0m \u001b[0mis_dataline\u001b[0m\u001b[0;34m(\u001b[0m\u001b[0mlineno\u001b[0m\u001b[0;34m,\u001b[0m \u001b[0mline\u001b[0m\u001b[0;34m)\u001b[0m\u001b[0;34m:\u001b[0m\u001b[0;34m\u001b[0m\u001b[0m\n",
        "\u001b[0;31mValueError\u001b[0m: could not convert string to float: MSG"
       ]
      }
     ],
     "prompt_number": 89
    },
    {
     "cell_type": "code",
     "collapsed": false,
     "input": [
      "def is_dataline(lineno, line):\n",
      "    return lineno > 76 and not line.startswith('SFIX') and not line.startswith('MSG')\n",
      "\n",
      "load_data(os.path.join('data', 'gaze_snip2.txt'))"
     ],
     "language": "python",
     "metadata": {},
     "outputs": [
      {
       "ename": "IndexError",
       "evalue": "list index out of range",
       "output_type": "pyerr",
       "traceback": [
        "\u001b[0;31m---------------------------------------------------------------------------\u001b[0m\n\u001b[0;31mIndexError\u001b[0m                                Traceback (most recent call last)",
        "\u001b[0;32m<ipython-input-90-5d1d3d2f3180>\u001b[0m in \u001b[0;36m<module>\u001b[0;34m()\u001b[0m\n\u001b[1;32m      2\u001b[0m     \u001b[0;32mreturn\u001b[0m \u001b[0mlineno\u001b[0m \u001b[0;34m>\u001b[0m \u001b[0;36m76\u001b[0m \u001b[0;32mand\u001b[0m \u001b[0;32mnot\u001b[0m \u001b[0mline\u001b[0m\u001b[0;34m.\u001b[0m\u001b[0mstartswith\u001b[0m\u001b[0;34m(\u001b[0m\u001b[0;34m'SFIX'\u001b[0m\u001b[0;34m)\u001b[0m \u001b[0;32mand\u001b[0m \u001b[0;32mnot\u001b[0m \u001b[0mline\u001b[0m\u001b[0;34m.\u001b[0m\u001b[0mstartswith\u001b[0m\u001b[0;34m(\u001b[0m\u001b[0;34m'MSG'\u001b[0m\u001b[0;34m)\u001b[0m\u001b[0;34m\u001b[0m\u001b[0m\n\u001b[1;32m      3\u001b[0m \u001b[0;34m\u001b[0m\u001b[0m\n\u001b[0;32m----> 4\u001b[0;31m \u001b[0mload_data\u001b[0m\u001b[0;34m(\u001b[0m\u001b[0mos\u001b[0m\u001b[0;34m.\u001b[0m\u001b[0mpath\u001b[0m\u001b[0;34m.\u001b[0m\u001b[0mjoin\u001b[0m\u001b[0;34m(\u001b[0m\u001b[0;34m'data'\u001b[0m\u001b[0;34m,\u001b[0m \u001b[0;34m'gaze_snip2.txt'\u001b[0m\u001b[0;34m)\u001b[0m\u001b[0;34m)\u001b[0m\u001b[0;34m\u001b[0m\u001b[0m\n\u001b[0m",
        "\u001b[0;32m<ipython-input-88-b898132fd9f0>\u001b[0m in \u001b[0;36mload_data\u001b[0;34m(filename)\u001b[0m\n\u001b[1;32m     11\u001b[0m         \u001b[0;32mif\u001b[0m \u001b[0;32mnot\u001b[0m \u001b[0mis_dataline\u001b[0m\u001b[0;34m(\u001b[0m\u001b[0mlineno\u001b[0m\u001b[0;34m,\u001b[0m \u001b[0mline\u001b[0m\u001b[0;34m)\u001b[0m\u001b[0;34m:\u001b[0m\u001b[0;34m\u001b[0m\u001b[0m\n\u001b[1;32m     12\u001b[0m             \u001b[0;32mcontinue\u001b[0m\u001b[0;34m\u001b[0m\u001b[0m\n\u001b[0;32m---> 13\u001b[0;31m         \u001b[0mdata\u001b[0m\u001b[0;34m.\u001b[0m\u001b[0mappend\u001b[0m\u001b[0;34m(\u001b[0m\u001b[0mget_line_items\u001b[0m\u001b[0;34m(\u001b[0m\u001b[0mline\u001b[0m\u001b[0;34m)\u001b[0m\u001b[0;34m)\u001b[0m\u001b[0;34m\u001b[0m\u001b[0m\n\u001b[0m\u001b[1;32m     14\u001b[0m     \u001b[0;32mreturn\u001b[0m \u001b[0mnp\u001b[0m\u001b[0;34m.\u001b[0m\u001b[0marray\u001b[0m\u001b[0;34m(\u001b[0m\u001b[0mdata\u001b[0m\u001b[0;34m)\u001b[0m\u001b[0;34m\u001b[0m\u001b[0m\n",
        "\u001b[0;32m<ipython-input-88-b898132fd9f0>\u001b[0m in \u001b[0;36mget_line_items\u001b[0;34m(line)\u001b[0m\n\u001b[1;32m      1\u001b[0m \u001b[0;32mdef\u001b[0m \u001b[0mget_line_items\u001b[0m\u001b[0;34m(\u001b[0m\u001b[0mline\u001b[0m\u001b[0;34m)\u001b[0m\u001b[0;34m:\u001b[0m\u001b[0;34m\u001b[0m\u001b[0m\n\u001b[1;32m      2\u001b[0m     \u001b[0mitems\u001b[0m \u001b[0;34m=\u001b[0m \u001b[0mline\u001b[0m\u001b[0;34m.\u001b[0m\u001b[0msplit\u001b[0m\u001b[0;34m(\u001b[0m\u001b[0;34m)\u001b[0m\u001b[0;34m[\u001b[0m\u001b[0;34m:\u001b[0m\u001b[0;34m-\u001b[0m\u001b[0;36m1\u001b[0m\u001b[0;34m]\u001b[0m\u001b[0;34m\u001b[0m\u001b[0m\n\u001b[0;32m----> 3\u001b[0;31m     \u001b[0;32mreturn\u001b[0m \u001b[0;34m[\u001b[0m\u001b[0mfloat\u001b[0m\u001b[0;34m(\u001b[0m\u001b[0mitems\u001b[0m\u001b[0;34m[\u001b[0m\u001b[0;36m0\u001b[0m\u001b[0;34m]\u001b[0m\u001b[0;34m)\u001b[0m\u001b[0;34m,\u001b[0m \u001b[0mfloat\u001b[0m\u001b[0;34m(\u001b[0m\u001b[0mitems\u001b[0m\u001b[0;34m[\u001b[0m\u001b[0;36m1\u001b[0m\u001b[0;34m]\u001b[0m\u001b[0;34m)\u001b[0m\u001b[0;34m,\u001b[0m \u001b[0mfloat\u001b[0m\u001b[0;34m(\u001b[0m\u001b[0mitems\u001b[0m\u001b[0;34m[\u001b[0m\u001b[0;36m2\u001b[0m\u001b[0;34m]\u001b[0m\u001b[0;34m)\u001b[0m\u001b[0;34m]\u001b[0m\u001b[0;34m\u001b[0m\u001b[0m\n\u001b[0m\u001b[1;32m      4\u001b[0m \u001b[0;34m\u001b[0m\u001b[0m\n\u001b[1;32m      5\u001b[0m \u001b[0;32mdef\u001b[0m \u001b[0mis_dataline\u001b[0m\u001b[0;34m(\u001b[0m\u001b[0mlineno\u001b[0m\u001b[0;34m,\u001b[0m \u001b[0mline\u001b[0m\u001b[0;34m)\u001b[0m\u001b[0;34m:\u001b[0m\u001b[0;34m\u001b[0m\u001b[0m\n",
        "\u001b[0;31mIndexError\u001b[0m: list index out of range"
       ]
      }
     ],
     "prompt_number": 90
    },
    {
     "cell_type": "code",
     "collapsed": false,
     "input": [
      "good_line = '4654784\t  638.4\t  271.8\t 4907.0\t...'\n",
      "first_item = good_line.split()[0]"
     ],
     "language": "python",
     "metadata": {},
     "outputs": [],
     "prompt_number": 91
    },
    {
     "cell_type": "code",
     "collapsed": false,
     "input": [
      "first_item # type <dot> and hit tab\n",
      "first_item.isdigit()"
     ],
     "language": "python",
     "metadata": {},
     "outputs": [
      {
       "output_type": "pyout",
       "prompt_number": 92,
       "text": [
        "True"
       ]
      }
     ],
     "prompt_number": 92
    },
    {
     "cell_type": "code",
     "collapsed": false,
     "input": [
      "print good_line[0]\n",
      "good_line[0].isdigit()"
     ],
     "language": "python",
     "metadata": {},
     "outputs": [
      {
       "output_type": "stream",
       "stream": "stdout",
       "text": [
        "4\n"
       ]
      },
      {
       "output_type": "pyout",
       "prompt_number": 93,
       "text": [
        "True"
       ]
      }
     ],
     "prompt_number": 93
    },
    {
     "cell_type": "code",
     "collapsed": false,
     "input": [
      "def is_dataline(lineno, line):\n",
      "    return line[0].isdigit()\n",
      "\n",
      "load_data(os.path.join('data', 'gaze_snip2.txt'))"
     ],
     "language": "python",
     "metadata": {},
     "outputs": [
      {
       "ename": "ValueError",
       "evalue": "could not convert string to float: .",
       "output_type": "pyerr",
       "traceback": [
        "\u001b[0;31m---------------------------------------------------------------------------\u001b[0m\n\u001b[0;31mValueError\u001b[0m                                Traceback (most recent call last)",
        "\u001b[0;32m<ipython-input-94-6482c12c293f>\u001b[0m in \u001b[0;36m<module>\u001b[0;34m()\u001b[0m\n\u001b[1;32m      2\u001b[0m     \u001b[0;32mreturn\u001b[0m \u001b[0mline\u001b[0m\u001b[0;34m[\u001b[0m\u001b[0;36m0\u001b[0m\u001b[0;34m]\u001b[0m\u001b[0;34m.\u001b[0m\u001b[0misdigit\u001b[0m\u001b[0;34m(\u001b[0m\u001b[0;34m)\u001b[0m\u001b[0;34m\u001b[0m\u001b[0m\n\u001b[1;32m      3\u001b[0m \u001b[0;34m\u001b[0m\u001b[0m\n\u001b[0;32m----> 4\u001b[0;31m \u001b[0mload_data\u001b[0m\u001b[0;34m(\u001b[0m\u001b[0mos\u001b[0m\u001b[0;34m.\u001b[0m\u001b[0mpath\u001b[0m\u001b[0;34m.\u001b[0m\u001b[0mjoin\u001b[0m\u001b[0;34m(\u001b[0m\u001b[0;34m'data'\u001b[0m\u001b[0;34m,\u001b[0m \u001b[0;34m'gaze_snip2.txt'\u001b[0m\u001b[0;34m)\u001b[0m\u001b[0;34m)\u001b[0m\u001b[0;34m\u001b[0m\u001b[0m\n\u001b[0m",
        "\u001b[0;32m<ipython-input-88-b898132fd9f0>\u001b[0m in \u001b[0;36mload_data\u001b[0;34m(filename)\u001b[0m\n\u001b[1;32m     11\u001b[0m         \u001b[0;32mif\u001b[0m \u001b[0;32mnot\u001b[0m \u001b[0mis_dataline\u001b[0m\u001b[0;34m(\u001b[0m\u001b[0mlineno\u001b[0m\u001b[0;34m,\u001b[0m \u001b[0mline\u001b[0m\u001b[0;34m)\u001b[0m\u001b[0;34m:\u001b[0m\u001b[0;34m\u001b[0m\u001b[0m\n\u001b[1;32m     12\u001b[0m             \u001b[0;32mcontinue\u001b[0m\u001b[0;34m\u001b[0m\u001b[0m\n\u001b[0;32m---> 13\u001b[0;31m         \u001b[0mdata\u001b[0m\u001b[0;34m.\u001b[0m\u001b[0mappend\u001b[0m\u001b[0;34m(\u001b[0m\u001b[0mget_line_items\u001b[0m\u001b[0;34m(\u001b[0m\u001b[0mline\u001b[0m\u001b[0;34m)\u001b[0m\u001b[0;34m)\u001b[0m\u001b[0;34m\u001b[0m\u001b[0m\n\u001b[0m\u001b[1;32m     14\u001b[0m     \u001b[0;32mreturn\u001b[0m \u001b[0mnp\u001b[0m\u001b[0;34m.\u001b[0m\u001b[0marray\u001b[0m\u001b[0;34m(\u001b[0m\u001b[0mdata\u001b[0m\u001b[0;34m)\u001b[0m\u001b[0;34m\u001b[0m\u001b[0m\n",
        "\u001b[0;32m<ipython-input-88-b898132fd9f0>\u001b[0m in \u001b[0;36mget_line_items\u001b[0;34m(line)\u001b[0m\n\u001b[1;32m      1\u001b[0m \u001b[0;32mdef\u001b[0m \u001b[0mget_line_items\u001b[0m\u001b[0;34m(\u001b[0m\u001b[0mline\u001b[0m\u001b[0;34m)\u001b[0m\u001b[0;34m:\u001b[0m\u001b[0;34m\u001b[0m\u001b[0m\n\u001b[1;32m      2\u001b[0m     \u001b[0mitems\u001b[0m \u001b[0;34m=\u001b[0m \u001b[0mline\u001b[0m\u001b[0;34m.\u001b[0m\u001b[0msplit\u001b[0m\u001b[0;34m(\u001b[0m\u001b[0;34m)\u001b[0m\u001b[0;34m[\u001b[0m\u001b[0;34m:\u001b[0m\u001b[0;34m-\u001b[0m\u001b[0;36m1\u001b[0m\u001b[0;34m]\u001b[0m\u001b[0;34m\u001b[0m\u001b[0m\n\u001b[0;32m----> 3\u001b[0;31m     \u001b[0;32mreturn\u001b[0m \u001b[0;34m[\u001b[0m\u001b[0mfloat\u001b[0m\u001b[0;34m(\u001b[0m\u001b[0mitems\u001b[0m\u001b[0;34m[\u001b[0m\u001b[0;36m0\u001b[0m\u001b[0;34m]\u001b[0m\u001b[0;34m)\u001b[0m\u001b[0;34m,\u001b[0m \u001b[0mfloat\u001b[0m\u001b[0;34m(\u001b[0m\u001b[0mitems\u001b[0m\u001b[0;34m[\u001b[0m\u001b[0;36m1\u001b[0m\u001b[0;34m]\u001b[0m\u001b[0;34m)\u001b[0m\u001b[0;34m,\u001b[0m \u001b[0mfloat\u001b[0m\u001b[0;34m(\u001b[0m\u001b[0mitems\u001b[0m\u001b[0;34m[\u001b[0m\u001b[0;36m2\u001b[0m\u001b[0;34m]\u001b[0m\u001b[0;34m)\u001b[0m\u001b[0;34m]\u001b[0m\u001b[0;34m\u001b[0m\u001b[0m\n\u001b[0m\u001b[1;32m      4\u001b[0m \u001b[0;34m\u001b[0m\u001b[0m\n\u001b[1;32m      5\u001b[0m \u001b[0;32mdef\u001b[0m \u001b[0mis_dataline\u001b[0m\u001b[0;34m(\u001b[0m\u001b[0mlineno\u001b[0m\u001b[0;34m,\u001b[0m \u001b[0mline\u001b[0m\u001b[0;34m)\u001b[0m\u001b[0;34m:\u001b[0m\u001b[0;34m\u001b[0m\u001b[0m\n",
        "\u001b[0;31mValueError\u001b[0m: could not convert string to float: ."
       ]
      }
     ],
     "prompt_number": 94
    },
    {
     "cell_type": "code",
     "collapsed": true,
     "input": [
      "def get_line_items(line):\n",
      "    items = line.split()[:-1]\n",
      "    try:\n",
      "        return [float(items[0]), float(items[1]), float(items[2])]\n",
      "    except ValueError:\n",
      "        return [float(items[0]), np.nan, np.nan]\n",
      "\n",
      "load_data(os.path.join('data', 'gaze_snip2.txt'))"
     ],
     "language": "python",
     "metadata": {},
     "outputs": [
      {
       "output_type": "pyout",
       "prompt_number": 95,
       "text": [
        "array([[  1.32141200e+07,              nan,              nan],\n",
        "       [  1.32141210e+07,              nan,              nan],\n",
        "       [  1.32141220e+07,              nan,              nan],\n",
        "       ..., \n",
        "       [  1.32159410e+07,   2.04190000e+03,   1.20180000e+03],\n",
        "       [  1.32159420e+07,   2.04200000e+03,   1.19610000e+03],\n",
        "       [  1.32159430e+07,   2.04220000e+03,   1.19100000e+03]])"
       ]
      }
     ],
     "prompt_number": 95
    },
    {
     "cell_type": "code",
     "collapsed": true,
     "input": [
      "def get_line_items(line):\n",
      "    items = line.split()[:-1]\n",
      "    try:\n",
      "        return [float(i) for i in items[:3]]\n",
      "    except ValueError:\n",
      "        return [float(items[0]), np.nan, np.nan]\n",
      "\n",
      "load_data(os.path.join('data', 'gaze_snip2.txt'))"
     ],
     "language": "python",
     "metadata": {},
     "outputs": [
      {
       "output_type": "pyout",
       "prompt_number": 96,
       "text": [
        "array([[  1.32141200e+07,              nan,              nan],\n",
        "       [  1.32141210e+07,              nan,              nan],\n",
        "       [  1.32141220e+07,              nan,              nan],\n",
        "       ..., \n",
        "       [  1.32159410e+07,   2.04190000e+03,   1.20180000e+03],\n",
        "       [  1.32159420e+07,   2.04200000e+03,   1.19610000e+03],\n",
        "       [  1.32159430e+07,   2.04220000e+03,   1.19100000e+03]])"
       ]
      }
     ],
     "prompt_number": 96
    },
    {
     "cell_type": "code",
     "collapsed": false,
     "input": [
      "def is_dataline(lineno, line):\n",
      "    return line[0].isdigit()\n",
      "\n",
      "def get_line_items(line):\n",
      "    items = line.split()[:-1]\n",
      "    try:\n",
      "        return [float(i) for i in items[:3]]\n",
      "    except ValueError:\n",
      "        return [float(items[0]), np.nan, np.nan]\n",
      "\n",
      "def load_data(filename):\n",
      "    data = []\n",
      "    for lineno, line in enumerate(open(filename)):\n",
      "        if not is_dataline(lineno, line):\n",
      "            continue\n",
      "        data.append(get_line_items(line))\n",
      "    return np.array(data)\n",
      "\n",
      "d1 = load_data(os.path.join('data', 'gaze_snip1.txt'))\n",
      "d2 = load_data(os.path.join('data', 'gaze_snip2.txt'))"
     ],
     "language": "python",
     "metadata": {},
     "outputs": [],
     "prompt_number": 97
    },
    {
     "cell_type": "code",
     "collapsed": false,
     "input": [
      "data = load_data(os.path.join('data', 'gaze.txt.gz'))"
     ],
     "language": "python",
     "metadata": {},
     "outputs": [
      {
       "ename": "ValueError",
       "evalue": "invalid literal for float(): 4\ufffd\u0019\b=\ufffdt\ufffd\ufffd\ufffd\ufffd8`g\ufffd\ufffd\u0016\ufffdi-\u00139\ufffd\ufffd\ufffdR\ufffdF\u0015\u0017\ufffd\u0006\ufffd\ufffd\ufffd\ufffd\u0016\u0014n\ufffd\u0012L\u01e6\"\ufffd,",
       "output_type": "pyerr",
       "traceback": [
        "\u001b[0;31m---------------------------------------------------------------------------\u001b[0m\n\u001b[0;31mValueError\u001b[0m                                Traceback (most recent call last)",
        "\u001b[0;32m<ipython-input-98-b185a5ed7998>\u001b[0m in \u001b[0;36m<module>\u001b[0;34m()\u001b[0m\n\u001b[0;32m----> 1\u001b[0;31m \u001b[0mdata\u001b[0m \u001b[0;34m=\u001b[0m \u001b[0mload_data\u001b[0m\u001b[0;34m(\u001b[0m\u001b[0mos\u001b[0m\u001b[0;34m.\u001b[0m\u001b[0mpath\u001b[0m\u001b[0;34m.\u001b[0m\u001b[0mjoin\u001b[0m\u001b[0;34m(\u001b[0m\u001b[0;34m'data'\u001b[0m\u001b[0;34m,\u001b[0m \u001b[0;34m'gaze.txt.gz'\u001b[0m\u001b[0;34m)\u001b[0m\u001b[0;34m)\u001b[0m\u001b[0;34m\u001b[0m\u001b[0m\n\u001b[0m",
        "\u001b[0;32m<ipython-input-97-293d0983d879>\u001b[0m in \u001b[0;36mload_data\u001b[0;34m(filename)\u001b[0m\n\u001b[1;32m     14\u001b[0m         \u001b[0;32mif\u001b[0m \u001b[0;32mnot\u001b[0m \u001b[0mis_dataline\u001b[0m\u001b[0;34m(\u001b[0m\u001b[0mlineno\u001b[0m\u001b[0;34m,\u001b[0m \u001b[0mline\u001b[0m\u001b[0;34m)\u001b[0m\u001b[0;34m:\u001b[0m\u001b[0;34m\u001b[0m\u001b[0m\n\u001b[1;32m     15\u001b[0m             \u001b[0;32mcontinue\u001b[0m\u001b[0;34m\u001b[0m\u001b[0m\n\u001b[0;32m---> 16\u001b[0;31m         \u001b[0mdata\u001b[0m\u001b[0;34m.\u001b[0m\u001b[0mappend\u001b[0m\u001b[0;34m(\u001b[0m\u001b[0mget_line_items\u001b[0m\u001b[0;34m(\u001b[0m\u001b[0mline\u001b[0m\u001b[0;34m)\u001b[0m\u001b[0;34m)\u001b[0m\u001b[0;34m\u001b[0m\u001b[0m\n\u001b[0m\u001b[1;32m     17\u001b[0m     \u001b[0;32mreturn\u001b[0m \u001b[0mnp\u001b[0m\u001b[0;34m.\u001b[0m\u001b[0marray\u001b[0m\u001b[0;34m(\u001b[0m\u001b[0mdata\u001b[0m\u001b[0;34m)\u001b[0m\u001b[0;34m\u001b[0m\u001b[0m\n\u001b[1;32m     18\u001b[0m \u001b[0;34m\u001b[0m\u001b[0m\n",
        "\u001b[0;32m<ipython-input-97-293d0983d879>\u001b[0m in \u001b[0;36mget_line_items\u001b[0;34m(line)\u001b[0m\n\u001b[1;32m      7\u001b[0m         \u001b[0;32mreturn\u001b[0m \u001b[0;34m[\u001b[0m\u001b[0mfloat\u001b[0m\u001b[0;34m(\u001b[0m\u001b[0mi\u001b[0m\u001b[0;34m)\u001b[0m \u001b[0;32mfor\u001b[0m \u001b[0mi\u001b[0m \u001b[0;32min\u001b[0m \u001b[0mitems\u001b[0m\u001b[0;34m[\u001b[0m\u001b[0;34m:\u001b[0m\u001b[0;36m3\u001b[0m\u001b[0;34m]\u001b[0m\u001b[0;34m]\u001b[0m\u001b[0;34m\u001b[0m\u001b[0m\n\u001b[1;32m      8\u001b[0m     \u001b[0;32mexcept\u001b[0m \u001b[0mValueError\u001b[0m\u001b[0;34m:\u001b[0m\u001b[0;34m\u001b[0m\u001b[0m\n\u001b[0;32m----> 9\u001b[0;31m         \u001b[0;32mreturn\u001b[0m \u001b[0;34m[\u001b[0m\u001b[0mfloat\u001b[0m\u001b[0;34m(\u001b[0m\u001b[0mitems\u001b[0m\u001b[0;34m[\u001b[0m\u001b[0;36m0\u001b[0m\u001b[0;34m]\u001b[0m\u001b[0;34m)\u001b[0m\u001b[0;34m,\u001b[0m \u001b[0mnp\u001b[0m\u001b[0;34m.\u001b[0m\u001b[0mnan\u001b[0m\u001b[0;34m,\u001b[0m \u001b[0mnp\u001b[0m\u001b[0;34m.\u001b[0m\u001b[0mnan\u001b[0m\u001b[0;34m]\u001b[0m\u001b[0;34m\u001b[0m\u001b[0m\n\u001b[0m\u001b[1;32m     10\u001b[0m \u001b[0;34m\u001b[0m\u001b[0m\n\u001b[1;32m     11\u001b[0m \u001b[0;32mdef\u001b[0m \u001b[0mload_data\u001b[0m\u001b[0;34m(\u001b[0m\u001b[0mfilename\u001b[0m\u001b[0;34m)\u001b[0m\u001b[0;34m:\u001b[0m\u001b[0;34m\u001b[0m\u001b[0m\n",
        "\u001b[0;31mValueError\u001b[0m: invalid literal for float(): 4\ufffd\u0019\b=\ufffdt\ufffd\ufffd\ufffd\ufffd8`g\ufffd\ufffd\u0016\ufffdi-\u00139\ufffd\ufffd\ufffdR\ufffdF\u0015\u0017\ufffd\u0006\ufffd\ufffd\ufffd\ufffd\u0016\u0014n\ufffd\u0012L\u01e6\"\ufffd,"
       ]
      }
     ],
     "prompt_number": 98
    },
    {
     "cell_type": "code",
     "collapsed": false,
     "input": [
      "open(os.path.join('data', 'gaze.txt.gz')).readline()"
     ],
     "language": "python",
     "metadata": {},
     "outputs": [
      {
       "output_type": "pyout",
       "prompt_number": 99,
       "text": [
        "'\\x1f\\x8b\\x08\\x08\\x16-\\x13R\\x02\\x03gaze.txt\\x00\\x94\\x9coO\\x1d\\xc7\\x92\\x87_c\\xc9\\xdfa\\xf6\\x9d\\x13\\xc3\\xd9\\xae\\xfe\\xdfh\\xb3\\x12\\xc6\\xc7\\x0e{\\xb1\\xb1\\x0e\\xc4{\\xbdZ)\"\\x988\\xdc\\xeb\\x18\\x0b;W\\xf6\\xb7\\xdf\\x9e\\x99\\xeaq\\xff\\x8a:\\x98u$ \\xf0tuwuUuU\\xcd\\xc0\\x8f?\\x0e\\x87\\'/_\\xaf7g\\xeb\\xa7\\xc3\\xb3\\xcd\\xc9\\x8b\\xe1\\xd3_\\xbf\\xfd\\xe3\\x7f\\xcf\\xff|{\\xb5\\xba|\\xfb\\xfb\\xf0\\xd7\\xa7\\xab\\x0f\\xef\\x86\\xfa\\xd5\\xf9\\xc7\\xab\\xc1\\xad\\xcc\\xf0\\xdfW\\x1f\\x9c\\x1d\\x9e^^\\x0cT\\x06kL\\x1e\\xae?\\x0c\\xcfn\\xae\\x86\\x93\\x8b\\xcf\\x83\\xa5\\x81\\xfc\\xbe\\xcd\\xfb.\\xd5\\x9f\\x11=|\\xf0\\xe3\\x8f\\xc3\\xd3\\x83\\xb3\\xf5> v\\x9f\\xc2\\xbe1\\xdf\\x90\\xb37\\xaf*\\xb2~\\xfa\\xec\\xd7gG\\xc7\\xeb\\xe1\\xc9\\xd1\\xcb\\x83\\xcd\\x9ba\\xfdz\\xfd\\xf2l8=x\\xf1\\xaa~\\xef\\xec\\xe0\\xf9\\xf3\\xf5\\xd3\\x89\\xae\\xab==:yY\\x07\\xbcY\\x1f\\x1f\\xbd\\xfc\\xdbpt4\\xccrNO~\\xd9\\x1c\\xae\\xbf\\xfd\\xe0\\xf0x\\xfav\\xc7\\x1d\\x1e\\x0f\\xff\\xf2\\xab@\\xc3\\x8b\\xf3\\x9b\\x81\\xdc\\xb8\\x0431\\x87\\x07/\\xd6\\x9b\\x83:\\xf4\\xeb\\xe5\\xf1\\xd5\\x87\\x7f\\x8e\\xe0\\xeb\\xcb\\x9bOWuw\\xb4\\xf2\\xc3\\xe9\\xe5\\x87O\\xd77?=\\xf9\\xaf\\x83y\\xa2\\xf5\\xe6\\xe8\\xe0xx\\xf9\\xcb\\x8b\\'\\xeb\\xcd~\\x85i\\xef\\xe0`\\xeds\\'\\xea\\xd7\\xaa\\xd7gG\\xcf\\xf7\\x87\\xe9\\x07\\xe4\\xcd\\xea\\xf4pZ\\xff\\xc3\\x07\\x0f\\x1f\\xbc8}\\xbec}\\xf4\\xd9\\xa6\\xe1\\xe9\\xd1\\xe9\\xab\\xe3\\x837\\x95?\\xd9<=\\x1dL\\xfd\\x8fb*\\x03\\x19_\\x98LTl4\\xc3\\xbf\\x1d\\xd69\\x1f>\\xf8\\xcf\\xf9_\\x9d\\xe7\\xf8\\xe8\\xc9\\xe6\\xe0\\xac\\xeabx\\xf4\\xf3kr\\xbb\\xaf\\xf6\\x0e7?\\x0c\\xcfN6\\xc3\\xf1\\xfa\\xd9\\xd9\\xfe\\xf0\\x1f\\xed\\x9f\"\\xe7\\xf0\\xfc\\xfd\\xd5o7\\xe7\\x9f\\xc7\\x1d~\\xbc\\xbe\\xfa\\xf0\\xf9\\xd3\\xfe0(\\xdc\\x9e-+\\xb3;\\xecy_O\\xbf\\xfd\\xab\\xdf\\x18\\xff\\x95<l\\x19\\x93W\\xa5\\x8e\\ty\\x95`\\xcc\\x9e%\\x97\\xb6\\x8f\\xf1\\xbb\\xd3t\\x0e\\xe7\\xb1\\x95\\xdb2&\\xc4\\x95\\x1d\\xd7fWa\\xe2\\xf7\\\\\\n'"
       ]
      }
     ],
     "prompt_number": 99
    },
    {
     "cell_type": "code",
     "collapsed": false,
     "input": [
      "import fileinput\n",
      "\n",
      "def load_data(filename):\n",
      "    fi = fileinput.FileInput(filename, openhook=fileinput.hook_compressed)\n",
      "    return load_data_in(fi)\n",
      "\n",
      "def load_data_in(file_like):\n",
      "    data = []\n",
      "    for lineno, line in enumerate(file_like):\n",
      "        if not is_dataline(lineno, line):\n",
      "            continue\n",
      "        data.append(get_line_items(line))\n",
      "    return np.array(data)\n",
      "\n",
      "d1 = load_data(os.path.join('data', 'gaze_snip1.txt'))\n",
      "d2 = load_data(os.path.join('data', 'gaze_snip1.txt.gz'))"
     ],
     "language": "python",
     "metadata": {},
     "outputs": [],
     "prompt_number": 105
    },
    {
     "cell_type": "code",
     "collapsed": false,
     "input": [
      "import os\n",
      "import fileinput\n",
      "\n",
      "def is_dataline(lineno, line):\n",
      "    return line[0].isdigit()\n",
      "\n",
      "def get_line_items(line):\n",
      "    items = line.split()[:-1]\n",
      "    try:\n",
      "        return [float(i) for i in items[:3]]\n",
      "    except ValueError:\n",
      "        return [float(items[0]), np.nan, np.nan]\n",
      "\n",
      "def load_data_in(file_like):\n",
      "    data = []\n",
      "    for lineno, line in enumerate(file_like):\n",
      "        if not is_dataline(lineno, line):\n",
      "            continue\n",
      "        data.append(get_line_items(line))\n",
      "    return np.array(data)\n",
      "\n",
      "def load_data(filename):\n",
      "    fi = fileinput.FileInput(filename, openhook=fileinput.hook_compressed)\n",
      "    return load_data_in(fi)\n",
      "\n",
      "data = load_data(os.path.join('data', 'gaze.txt.gz'))\n",
      "print \"Loaded %i samples\" % len(data)"
     ],
     "language": "python",
     "metadata": {},
     "outputs": [
      {
       "output_type": "stream",
       "stream": "stdout",
       "text": [
        "Loaded 768348 samples\n"
       ]
      }
     ],
     "prompt_number": 109
    },
    {
     "cell_type": "code",
     "collapsed": false,
     "input": [
      "np.histogram2d(data[:,1], data[:, 2])"
     ],
     "language": "python",
     "metadata": {},
     "outputs": [
      {
       "ename": "ValueError",
       "evalue": "cannot convert float NaN to integer",
       "output_type": "pyerr",
       "traceback": [
        "\u001b[0;31m---------------------------------------------------------------------------\u001b[0m\n\u001b[0;31mValueError\u001b[0m                                Traceback (most recent call last)",
        "\u001b[0;32m<ipython-input-110-154d3c8a1dc3>\u001b[0m in \u001b[0;36m<module>\u001b[0;34m()\u001b[0m\n\u001b[0;32m----> 1\u001b[0;31m \u001b[0mnp\u001b[0m\u001b[0;34m.\u001b[0m\u001b[0mhistogram2d\u001b[0m\u001b[0;34m(\u001b[0m\u001b[0mdata\u001b[0m\u001b[0;34m[\u001b[0m\u001b[0;34m:\u001b[0m\u001b[0;34m,\u001b[0m\u001b[0;36m1\u001b[0m\u001b[0;34m]\u001b[0m\u001b[0;34m,\u001b[0m \u001b[0mdata\u001b[0m\u001b[0;34m[\u001b[0m\u001b[0;34m:\u001b[0m\u001b[0;34m,\u001b[0m \u001b[0;36m2\u001b[0m\u001b[0;34m]\u001b[0m\u001b[0;34m)\u001b[0m\u001b[0;34m\u001b[0m\u001b[0m\n\u001b[0m",
        "\u001b[0;32m/usr/lib/pymodules/python2.7/numpy/lib/twodim_base.pyc\u001b[0m in \u001b[0;36mhistogram2d\u001b[0;34m(x, y, bins, range, normed, weights)\u001b[0m\n\u001b[1;32m    609\u001b[0m         \u001b[0mxedges\u001b[0m \u001b[0;34m=\u001b[0m \u001b[0myedges\u001b[0m \u001b[0;34m=\u001b[0m \u001b[0masarray\u001b[0m\u001b[0;34m(\u001b[0m\u001b[0mbins\u001b[0m\u001b[0;34m,\u001b[0m \u001b[0mfloat\u001b[0m\u001b[0;34m)\u001b[0m\u001b[0;34m\u001b[0m\u001b[0m\n\u001b[1;32m    610\u001b[0m         \u001b[0mbins\u001b[0m \u001b[0;34m=\u001b[0m \u001b[0;34m[\u001b[0m\u001b[0mxedges\u001b[0m\u001b[0;34m,\u001b[0m \u001b[0myedges\u001b[0m\u001b[0;34m]\u001b[0m\u001b[0;34m\u001b[0m\u001b[0m\n\u001b[0;32m--> 611\u001b[0;31m     \u001b[0mhist\u001b[0m\u001b[0;34m,\u001b[0m \u001b[0medges\u001b[0m \u001b[0;34m=\u001b[0m \u001b[0mhistogramdd\u001b[0m\u001b[0;34m(\u001b[0m\u001b[0;34m[\u001b[0m\u001b[0mx\u001b[0m\u001b[0;34m,\u001b[0m\u001b[0my\u001b[0m\u001b[0;34m]\u001b[0m\u001b[0;34m,\u001b[0m \u001b[0mbins\u001b[0m\u001b[0;34m,\u001b[0m \u001b[0mrange\u001b[0m\u001b[0;34m,\u001b[0m \u001b[0mnormed\u001b[0m\u001b[0;34m,\u001b[0m \u001b[0mweights\u001b[0m\u001b[0;34m)\u001b[0m\u001b[0;34m\u001b[0m\u001b[0m\n\u001b[0m\u001b[1;32m    612\u001b[0m     \u001b[0;32mreturn\u001b[0m \u001b[0mhist\u001b[0m\u001b[0;34m,\u001b[0m \u001b[0medges\u001b[0m\u001b[0;34m[\u001b[0m\u001b[0;36m0\u001b[0m\u001b[0;34m]\u001b[0m\u001b[0;34m,\u001b[0m \u001b[0medges\u001b[0m\u001b[0;34m[\u001b[0m\u001b[0;36m1\u001b[0m\u001b[0;34m]\u001b[0m\u001b[0;34m\u001b[0m\u001b[0m\n\u001b[1;32m    613\u001b[0m \u001b[0;34m\u001b[0m\u001b[0m\n",
        "\u001b[0;32m/usr/lib/pymodules/python2.7/numpy/lib/function_base.pyc\u001b[0m in \u001b[0;36mhistogramdd\u001b[0;34m(sample, bins, range, normed, weights)\u001b[0m\n\u001b[1;32m    356\u001b[0m         \u001b[0mmindiff\u001b[0m \u001b[0;34m=\u001b[0m \u001b[0mdedges\u001b[0m\u001b[0;34m[\u001b[0m\u001b[0mi\u001b[0m\u001b[0;34m]\u001b[0m\u001b[0;34m.\u001b[0m\u001b[0mmin\u001b[0m\u001b[0;34m(\u001b[0m\u001b[0;34m)\u001b[0m\u001b[0;34m\u001b[0m\u001b[0m\n\u001b[1;32m    357\u001b[0m         \u001b[0;32mif\u001b[0m \u001b[0;32mnot\u001b[0m \u001b[0mnp\u001b[0m\u001b[0;34m.\u001b[0m\u001b[0misinf\u001b[0m\u001b[0;34m(\u001b[0m\u001b[0mmindiff\u001b[0m\u001b[0;34m)\u001b[0m\u001b[0;34m:\u001b[0m\u001b[0;34m\u001b[0m\u001b[0m\n\u001b[0;32m--> 358\u001b[0;31m             \u001b[0mdecimal\u001b[0m \u001b[0;34m=\u001b[0m \u001b[0mint\u001b[0m\u001b[0;34m(\u001b[0m\u001b[0;34m-\u001b[0m\u001b[0mlog10\u001b[0m\u001b[0;34m(\u001b[0m\u001b[0mmindiff\u001b[0m\u001b[0;34m)\u001b[0m\u001b[0;34m)\u001b[0m \u001b[0;34m+\u001b[0m \u001b[0;36m6\u001b[0m\u001b[0;34m\u001b[0m\u001b[0m\n\u001b[0m\u001b[1;32m    359\u001b[0m             \u001b[0;31m# Find which points are on the rightmost edge.\u001b[0m\u001b[0;34m\u001b[0m\u001b[0;34m\u001b[0m\u001b[0m\n\u001b[1;32m    360\u001b[0m             on_edge = where(around(sample[:,i], decimal) == around(edges[i][-1],\n",
        "\u001b[0;31mValueError\u001b[0m: cannot convert float NaN to integer"
       ]
      }
     ],
     "prompt_number": 110
    },
    {
     "cell_type": "code",
     "collapsed": true,
     "input": [
      "def remove_blinks(data):\n",
      "    filtered = []\n",
      "    for samp in data:\n",
      "        if not np.isnan(samp).sum():\n",
      "            filtered.append(samp)\n",
      "    return np.array(filtered)\n",
      "\n",
      "filtered_data = remove_blinks(data)\n",
      "print \"Removed %i samples\" % (len(data) -  len(filtered_data))\n",
      "        "
     ],
     "language": "python",
     "metadata": {},
     "outputs": [
      {
       "output_type": "stream",
       "stream": "stdout",
       "text": [
        "Removed 28934 samples\n"
       ]
      }
     ],
     "prompt_number": 115
    },
    {
     "cell_type": "code",
     "collapsed": false,
     "input": [
      "%timeit remove_blinks(data)"
     ],
     "language": "python",
     "metadata": {},
     "outputs": [
      {
       "output_type": "stream",
       "stream": "stdout",
       "text": [
        "1 loops, best of 3: 14.4 s per loop\n"
       ]
      }
     ],
     "prompt_number": 116
    },
    {
     "cell_type": "code",
     "collapsed": false,
     "input": [
      "def remove_blinks_arr(data):\n",
      "    blink = np.isnan(data[:,1])\n",
      "    return data[np.logical_not(blink)]\n",
      "\n",
      "filtered_data = remove_blinks_arr(data)\n",
      "print \"Removed %i samples\" % (len(data) -  len(filtered_data))\n",
      "\n",
      "%timeit remove_blinks_arr(data)"
     ],
     "language": "python",
     "metadata": {},
     "outputs": [
      {
       "output_type": "stream",
       "stream": "stdout",
       "text": [
        "Removed 28934 samples\n",
        "10 loops, best of 3: 151 ms per loop"
       ]
      },
      {
       "output_type": "stream",
       "stream": "stdout",
       "text": [
        "\n"
       ]
      }
     ],
     "prompt_number": 135
    },
    {
     "cell_type": "code",
     "collapsed": false,
     "input": [
      "heatmap, xbound, ybound = np.histogram2d(filtered_data[:,1], filtered_data[:, 2])\n",
      "print xbound\n",
      "print ybound"
     ],
     "language": "python",
     "metadata": {},
     "outputs": [
      {
       "output_type": "stream",
       "stream": "stdout",
       "text": [
        "[-1583.7  -1151.25  -718.8   -286.35   146.1    578.55  1011.    1443.45\n",
        "  1875.9   2308.35  2740.8 ]\n",
        "[-1038.4  -735.1  -431.8  -128.5   174.8   478.1   781.4  1084.7  1388.\n",
        "  1691.3  1994.6]\n"
       ]
      }
     ],
     "prompt_number": 139
    },
    {
     "cell_type": "code",
     "collapsed": false,
     "input": [
      "def filter_data(data):\n",
      "    d = remove_blinks_arr(data)\n",
      "    np.clip(d[:, 1], 0, 1680, d[:, 1])\n",
      "    np.clip(d[:, 2], 0, 1050, d[:, 2])\n",
      "    return d\n",
      "\n",
      "filtered_data = filter_data(data)"
     ],
     "language": "python",
     "metadata": {},
     "outputs": [],
     "prompt_number": 216
    },
    {
     "cell_type": "code",
     "collapsed": false,
     "input": [
      "heatmap, xbound, ybound = np.histogram2d(filtered_data[:,1], filtered_data[:, 2], bins=50)\n",
      "pl.figure()\n",
      "pl.imshow(heatmap, interpolation='nearest')\n",
      "pl.xticks(np.arange(len(xbound))[::5] - 0.5, xbound[::5], rotation=90)\n",
      "pl.yticks(np.arange(len(ybound))[::5] - 0.5 , ybound[::5])\n",
      "pl.show()"
     ],
     "language": "python",
     "metadata": {},
     "outputs": [
      {
       "output_type": "display_data",
       "png": "[encoded data removed]"
      }
     ],
     "prompt_number": 181
    },
    {
     "cell_type": "code",
     "collapsed": false,
     "input": [
      "def make_heatmap_plot(x, y, bins=50, tick_step=5, interpolation='nearest'):\n",
      "    \"\"\"Plot spatial distribution of gaze coordinates\n",
      "\n",
      "    This function cannot handle NaNs.\n",
      "\n",
      "    Parameters\n",
      "    ----------\n",
      "    x : array\n",
      "      x-coordinates\n",
      "    y : array\n",
      "      y-coordinates (need to match length of x-coordinates)\n",
      "    bins : int\n",
      "      number of histogram bins\n",
      "    tick_steps : int\n",
      "      step size for labeling bin boundaries (e.g. 1: reports all,\n",
      "      5: labels every 5th)\n",
      "    interpolation : str\n",
      "      label of a supported interpolation method (e.g. 'bilinear', 'bicubic')\n",
      "      default: nearest neighbor interpolation\n",
      "\n",
      "    Returns\n",
      "    -------\n",
      "    fig\n",
      "      a reference to the generated matplotlib figure\n",
      "    \"\"\"\n",
      "    heatmap, xbound, ybound = np.histogram2d(x, y, bins=bins)\n",
      "    fig = pl.figure()\n",
      "    pl.imshow(heatmap, interpolation=interpolation)\n",
      "    pl.xticks(np.arange(len(xbound))[::tick_step] - 0.5, xbound[::tick_step], rotation=90)\n",
      "    pl.yticks(np.arange(len(ybound))[::tick_step] - 0.5 , ybound[::tick_step])\n",
      "    return fig\n",
      "\n",
      "fig = make_heatmap_plot(filtered_data[:, 1], filtered_data[:, 2])\n",
      "pl.show()\n",
      "\n"
     ],
     "language": "python",
     "metadata": {},
     "outputs": [
      {
       "output_type": "display_data",
       "png": "[encoded data removed]"
      }
     ],
     "prompt_number": 221
    },
    {
     "cell_type": "code",
     "collapsed": false,
     "input": [
      "fig = make_heatmap_plot(filtered_data[:, 1], filtered_data[:, 2], bins=5, tick_step=1, interpolation='bicubic')\n",
      "pl.savefig('heatmap.png')"
     ],
     "language": "python",
     "metadata": {},
     "outputs": [
      {
       "output_type": "display_data",
       "png": "[encoded data removed]"
      }
     ],
     "prompt_number": 220
    },
    {
     "cell_type": "code",
     "collapsed": false,
     "input": [
      "# make_heatmap_plot(\n",
      "help(make_heatmap_plot)"
     ],
     "language": "python",
     "metadata": {},
     "outputs": [
      {
       "output_type": "stream",
       "stream": "stdout",
       "text": [
        "Help on function make_heatmap_plot in module __main__:\n",
        "\n",
        "make_heatmap_plot(x, y, bins=50, tick_step=5, interpolation='nearest')\n",
        "    Plot spatial distribution of gaze coordinates\n",
        "    \n",
        "    This function cannot handle NaNs.\n",
        "    \n",
        "    Parameters\n",
        "    ----------\n",
        "    x : array\n",
        "      x-coordinates\n",
        "    y : array\n",
        "      y-coordinates (need to match length of x-coordinates)\n",
        "    bins : int\n",
        "      number of histogram bins\n",
        "    tick_steps : int\n",
        "      step size for labeling bin boundaries (e.g. 1: reports all,\n",
        "      5: labels every 5th)\n",
        "    interpolation : str\n",
        "      label of a supported interpolation method (e.g. 'bilinear', 'bicubic')\n",
        "      default: nearest neighbor interpolation\n",
        "    \n",
        "    Returns\n",
        "    -------\n",
        "    fig\n",
        "      a reference to the generated matplotlib figure\n",
        "\n"
       ]
      }
     ],
     "prompt_number": 222
    },
    {
     "cell_type": "markdown",
     "metadata": {},
     "source": [
      "Now as a script"
     ]
    },
    {
     "cell_type": "code",
     "collapsed": false,
     "input": [
      "%pycat gaze/utils.py"
     ],
     "language": "python",
     "metadata": {},
     "outputs": [],
     "prompt_number": 228
    },
    {
     "cell_type": "code",
     "collapsed": false,
     "input": [
      "%pycat plot_gaze_heatmap"
     ],
     "language": "python",
     "metadata": {},
     "outputs": [],
     "prompt_number": 230
    },
    {
     "cell_type": "code",
     "collapsed": false,
     "input": [
      "!./plot_gaze_heatmap data/gaze.txt.gz heatmap.png"
     ],
     "language": "python",
     "metadata": {},
     "outputs": [
      {
       "output_type": "stream",
       "stream": "stdout",
       "text": [
        "Loaded 768348 samples\r\n"
       ]
      },
      {
       "output_type": "stream",
       "stream": "stdout",
       "text": [
        "Removed 28934 samples\r\n"
       ]
      }
     ],
     "prompt_number": 233
    },
    {
     "cell_type": "code",
     "collapsed": false,
     "input": [
      "from IPython.display import Image\n",
      "Image(filename='heatmap.png')"
     ],
     "language": "python",
     "metadata": {},
     "outputs": [
      {
       "output_type": "pyout",
       "png": "[encoded data removed]",
       "prompt_number": 234,
       "text": [
        "<IPython.core.display.Image at 0x13a2868c>"
       ]
      }
     ],
     "prompt_number": 234
    },
    {
     "cell_type": "markdown",
     "metadata": {},
     "source": [
      "If X is NaN also Y is NaN\n"
     ]
    },
    {
     "cell_type": "code",
     "collapsed": false,
     "input": [],
     "language": "python",
     "metadata": {},
     "outputs": []
    }
   ],
   "metadata": {}
  }
 ]
}
