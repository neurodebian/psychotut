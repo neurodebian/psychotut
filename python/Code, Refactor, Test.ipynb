{
 "metadata": {
  "name": "Code, Refactor, Test"
 },
 "nbformat": 3,
 "nbformat_minor": 0,
 "worksheets": [
  {
   "cells": [
    {
     "cell_type": "heading",
     "level": 1,
     "metadata": {},
     "source": [
      "(Opportunities for) Good Practises in Scientific Programming"
     ]
    },
    {
     "cell_type": "markdown",
     "metadata": {},
     "source": [
      "This is not an introduction into the [Python](http://www.python.org) programming language (although we'll see a good chunk of its features along the way). Anyone who is looking for such an introduction can find many good ones for various audiences on the web. Here are a few examples, but there are many more:\n",
      "\n",
      "* Dive into Python\n",
      "* SciPy intro\n",
      "\n",
      "This is also not a comprehensive overview of code refactoring and testing techniques -- many books have been written about these topics and you are welcome to take a look into them, e.g.:\n",
      "\n",
      "* Refactoring to patterns\n",
      "\n",
      "Instead of being a comprehensive something on something, this is just **a protocol of a rather typical coding task** that has been, and will be, performed countless times in various flavors by many scientists. What may be different here, compared to most occasions, is that instead of stopping at the earliest possible stage that could be labeled \"task completed\", we'll spend just a few more minutes to help increase quality, longevity and re-usability of the resulting code.\n",
      "\n",
      "For this tutorial to be useful the reader (you!) should be already familiar with some programming language -- any, really. You should know what a variable and a function is, and that one can store numbers in lists and maybe arrays. If you have scripted anything in Matlab, you should have everything necessary to make sense of what follows below.\n",
      "\n",
      "**The actual task** in this example is to **write a parser for a text-based file format** produced by an [eye-tracker](). Our goal is to extract the time courses of gaze coordinates from the wealth of information in such a file and plot the spatial distribution of gaze positions across the entire recording session.\n",
      "\n",
      "We have three files to work with (REPLACE FILENAMES WITH LINKS TO GITHUB):\n",
      "\n",
      "- ``gaze_snip1.txt`` and ``gaze_snip2.txt``\n",
      "\n",
      "  Two example files with a few dozen lines to give a sense of the variability of the (undocumented) syntax of the file format.\n",
      "\n",
      "- ``gaze.txt.gz``\n",
      "\n",
      "  A compressed text file with data from a complete eye-tracking session -- several hundreds of thousands lines of raw data.\n",
      "  \n",
      "We'll start by working with the small example snippets to develop the parser and will eventually test it out on the big file with real data to see how it performs."
     ]
    },
    {
     "cell_type": "heading",
     "level": 2,
     "metadata": {},
     "source": [
      "Preparations"
     ]
    },
    {
     "cell_type": "markdown",
     "metadata": {},
     "source": [
      "To follow this tutorial, download the files listed above into a subdirectory named ``data``. Start an [IPython]() session and successively copy the respective code bits into the IPython console. If you have a recent IPython version (from 0.13 onwards) you can also download this notebook into the directory that contains the ``data`` folder. You can then work on this tutorial with the fantastic [IPython notebook](). Start a notebook server (by executing ``ipython notebook --pylab inline``) in this directory using a terminal. This will open a browser window where you can select the notebook. Afterwards you can start working directly in the browser -- pure magic.\n",
      "\n",
      "If you do not have IPython available it is possible to perform most tasks using a pure Python interpreter running in a terminal. However, this is **not recommended** as it is complicated, inconvenient, and will leave you with a false impression of scientific coding in Python. For interactive work in Python, use *Interactive Python*: IPython.\n",
      "\n",
      "A straightforward way to obtain a sustable computing environment for **any** platform is the [NeuroDebian]() virtual machine. Visit http://neuro.debian.net, select an operating system of your choice, and follow the installation instructions. The virtual machine will greet you with a welcome wizard when started for the first time. Work you way through it to update the system. When prompted, select 'Python scientific software stack' for installation. This will download and install additional 500MB of software, so please be patient.\n",
      "\n",
      "Depending on the version of the virtual machine, you may want to install the ``ipython-notebook`` package as well, in order to work directly with this notebook.\n",
      "\n",
      "And now we are good to go..."
     ]
    },
    {
     "cell_type": "heading",
     "level": 2,
     "metadata": {},
     "source": [
      "Prototyping the Parser"
     ]
    },
    {
     "cell_type": "markdown",
     "metadata": {},
     "source": [
      "Python is known for its utility for prototyping algorithms -- that is to quickly develop a rough sketch of an algorithm that actually runs to practically explore potential problems and runtime challenges. Quite often, however, scientific software never leaves this prototype stage, because it is \"good enough\" (TM) and the cost of a  proper/improved re-implementation does not outweight the perceived value of potential benefits.\n",
      "\n",
      "We'll do what is common (albeit not good) practice and simply start hacking...\n",
      "\n",
      "In Python libraries are called modules, and they can be loaded via the *import* statement. Python has **a lot** of built-in libraries for all kinds of things, hence it earned the tag-line \"batteries included\". For example, Python might be the only language that has support for converting between color spaces as part of its standard library (see module ``colorsys``). You can see a list of all modules included in the standard Python distribution in the [documentation](). One of the most frequently used modules is ``os``. It offer access to operating system features in a cross-platform fashion. In the first code snippet we combine a directory name with the filename of our first example file to compose a relative filepath -- one that uses the correct path delimiter on all platforms. "
     ]
    },
    {
     "cell_type": "code",
     "collapsed": false,
     "input": [
      "import os\n",
      "datafilename = os.path.join('data', 'gaze_snip1.txt')\n",
      "print datafilename"
     ],
     "language": "python",
     "metadata": {},
     "outputs": [
      {
       "output_type": "stream",
       "stream": "stdout",
       "text": [
        "data/gaze_snip1.txt\n"
       ]
      }
     ],
     "prompt_number": 1
    },
    {
     "cell_type": "markdown",
     "metadata": {},
     "source": [
      "You'll notice the ``os.path.join`` construct. With this code we are accessing the ``join()`` function in the ``path`` submodule of the ``os`` system module. In Python each module has its own namespace, meaning it is OK to have several functions with the same name provided by different modules. Consequently, name collisions in Python are pretty much a non-issue when compared to the situation in C or MATLAB."
     ]
    },
    {
     "cell_type": "markdown",
     "metadata": {},
     "source": [
      "Now we are ready to dive deep into Python's convenience. Opening a file and printing its content is almost trivial: The built-in ``open()`` function takes a filename and returns a file handler that, in turn, supports to iteratively return a text file's content line by line when used in a for loop. You'll notice the lack of any parentheses. Where the body of the loop would be wrapped in parentheses in other languages, Python uses the code indentation level to determine this information. This reduces the variablity of look and feel of code written by different developers."
     ]
    },
    {
     "cell_type": "code",
     "collapsed": false,
     "input": [
      "for line in open(datafilename):\n",
      "    print line,"
     ],
     "language": "python",
     "metadata": {},
     "outputs": [
      {
       "output_type": "stream",
       "stream": "stdout",
       "text": [
        "** CONVERTED FROM E:\\elcl\\DATA\\flba.edf using edfapi 3.1 Win32 Nov 24 2009 on Thu Oct 13 17:46:35 2011\r\n",
        "** DATE: Thu Oct 13 15:24:22 2011\r\n",
        "** TYPE: EDF_FILE BINARY EVENT SAMPLE TAGGED\r\n",
        "** VERSION: EYELINK II 1\r\n",
        "** SOURCE: EYELINK CL\r\n",
        "** EYELINK II CL v4.51 Mar 13 2010\r\n",
        "** CAMERA: EyeLink CL Version 1.4 Sensor=BJA\r\n",
        "** SERIAL NUMBER: CL1-AAE48\r\n",
        "** CAMERA_CONFIG: AAE48140.SCD\r\n",
        "**\r\n",
        "\r\n",
        "MSG\t4435590 DISPLAY_COORDS 0 0 1679 1049\r\n",
        "MSG\t4606298 !CAL \r\n",
        ">>>>>>> CALIBRATION (HV13,P-CR) FOR LEFT: <<<<<<<<<\r\n",
        "MSG\t4606298 !CAL Calibration points:  \r\n",
        "MSG\t4606298 !CAL -52.6, -47.1         0,     98   \r\n",
        "MSG\t4606298 !CAL -51.6, -62.7         0,  -2137   \r\n",
        "MSG\t4606298 !CAL -53.5, -31.8         0,   2271   \r\n",
        "MSG\t4606298 !CAL -85.5, -47.7     -3758,     98   \r\n",
        "MSG\t4606298 !CAL -20.6, -46.4      3758,     98   \r\n",
        "MSG\t4606298 !CAL -83.8, -62.1     -3812,  -2137   \r\n",
        "MSG\t4606298 !CAL -19.6, -60.5      3812,  -2137   \r\n",
        "MSG\t4606298 !CAL -87.0, -32.9     -3705,   2271   \r\n",
        "MSG\t4606298 !CAL -20.4, -30.7      3705,   2271   \r\n",
        "MSG\t4606298 !CAL -67.9, -55.9     -1892,  -1011   \r\n",
        "MSG\t4606298 !CAL -35.4, -53.9      1892,  -1011   \r\n",
        "MSG\t4606298 !CAL -69.8, -41.7     -1866,   1192   \r\n",
        "MSG\t4606299 !CAL -35.9, -39.1      1866,   1192   \r\n",
        "MSG\t4606299 !CAL eye check box: (L,R,T,B)\r\n",
        "\t  -94   -13   -66   -27\r\n",
        "\r\n",
        "MSG\t4606299 !CAL href cal range: (L,R,T,B)\r\n",
        "\t-5718  5718 -3239  3373\r\n",
        "\r\n",
        "MSG\t4606299 !CAL Cal coeff:(X=a+bx+cy+dxx+eyy,Y=f+gx+goaly+ixx+jyy)\r\n",
        "   4534.9  133.83 -107.54  0.67904 -1.9981 \r\n",
        "   3854.6  88.537 -131.96  1.707 -6.252\r\n",
        "MSG\t4606299 !CAL Gains: cx:112.131 lx:129.911 rx:136.262\r\n",
        "MSG\t4606299 !CAL Gains: cy:152.327 ty:108.867 by:98.616\r\n",
        "MSG\t4606299 !CAL Resolution (upd) at screen center: X=2.3, Y=1.7\r\n",
        "MSG\t4606299 !CAL Gain Change Proportion: X: 0.049 Y: 0.104\r\n",
        "MSG\t4606300 !CAL Gain Ratio (Gy/Gx) = 1.358\r\n",
        "MSG\t4606300 !CAL Cross-Gain Ratios: X=0.526, Y=3.081 \r\n",
        "MSG\t4606300 !CAL Cross-Gain too large: X=0.526, Y=3.081 \r\n",
        "\r\n",
        "MSG\t4606300 !CAL PCR gain ratio(x,y) = 2.445, 1.962\r\n",
        "MSG\t4606300 !CAL CR gain match(x,y) = 1.010, 1.010\r\n",
        "MSG\t4606300 !CAL Slip rotation correction OFF\r\n",
        "MSG\t4606301 !CAL CALIBRATION HV13 L LEFT    GOOD \r\n",
        "MSG\t4636369 !CAL VALIDATION HV13 L LEFT  GOOD ERROR 0.94 avg. 1.25 max  OFFSET 0.68 deg. -14.4,-32.5 pix.\r\n",
        "MSG\t4636369 VALIDATE L POINT 0  LEFT  at 840,524  OFFSET 1.08 deg.  -25.7,-50.9 pix.\r\n",
        "MSG\t4636370 VALIDATE L POINT 1  LEFT  at 840,89  OFFSET 0.54 deg.  -26.7,-9.5 pix.\r\n",
        "MSG\t4636370 VALIDATE L POINT 2  LEFT  at 840,960  OFFSET 1.25 deg.  39.2,-52.9 pix.\r\n",
        "MSG\t4636370 VALIDATE L POINT 3  LEFT  at 101,524  OFFSET 1.09 deg.  -46.9,-32.8 pix.\r\n",
        "MSG\t4636370 VALIDATE L POINT 4  LEFT  at 1578,524  OFFSET 0.52 deg.  9.3,25.9 pix.\r\n",
        "MSG\t4636370 VALIDATE L POINT 5  LEFT  at 189,141  OFFSET 0.80 deg.  -41.2,-8.1 pix.\r\n",
        "MSG\t4636370 VALIDATE L POINT 6  LEFT  at 1490,141  OFFSET 0.57 deg.  -28.9,-7.4 pix.\r\n",
        "MSG\t4636370 VALIDATE L POINT 7  LEFT  at 189,908  OFFSET 0.41 deg.  -11.2,18.4 pix.\r\n",
        "MSG\t4636370 VALIDATE L POINT 8  LEFT  at 1490,908  OFFSET 0.30 deg.  -13.9,7.6 pix.\r\n",
        "MSG\t4636370 VALIDATE L POINT 9  LEFT  at 470,307  OFFSET 0.45 deg.  -21.3,-10.4 pix.\r\n",
        "MSG\t4636370 VALIDATE L POINT 10  LEFT  at 1209,307  OFFSET 1.08 deg.  -7.9,-56.2 pix.\r\n",
        "MSG\t4636370 VALIDATE L POINT 11  LEFT  at 470,742  OFFSET 0.31 deg.  -6.2,15.1 pix.\r\n",
        "MSG\t4636370 VALIDATE L POINT 12  LEFT  at 1209,742  OFFSET 0.58 deg.  -11.4,-28.1 pix.\r\n",
        "MSG\t4654779 RECCFG CR 1000 2 1 L\r\n",
        "MSG\t4654779 ELCLCFG MTABLER\r\n",
        "MSG\t4654779 GAZE_COORDS 0.00 0.00 1679.00 1049.00\r\n",
        "MSG\t4654779 THRESHOLDS L 125 243\r\n",
        "MSG\t4654779 ELCL_PROC CENTROID (3)\r\n",
        "MSG\t4654779 ELCL_PCR_PARAM 5 3.0\r\n",
        "START\t4654780 \tLEFT\tSAMPLES\tEVENTS\r\n",
        "PRESCALER\t1\r\n",
        "VPRESCALER\t1\r\n",
        "PUPIL\tAREA\r\n",
        "EVENTS\tGAZE\tLEFT\tRATE\t1000.00\tTRACKING\tCR\tFILTER\t2\r\n",
        "SAMPLES\tGAZE\tLEFT\tRATE\t1000.00\tTRACKING\tCR\tFILTER\t2\r\n",
        "MSG\t4654780 !MODE RECORD CR 1000 2 1 L\r\n",
        "4654780\t  638.4\t  269.6\t 4914.0\t...\r\n",
        "4654781\t  638.3\t  269.7\t 4913.0\t...\r\n",
        "4654782\t  638.4\t  270.5\t 4910.0\t...\r\n",
        "4654783\t  638.5\t  271.2\t 4908.0\t...\r\n",
        "4654784\t  638.4\t  271.8\t 4907.0\t...\r\n",
        "4654785\t  638.1\t  271.7\t 4906.0\t...\r\n",
        "4654786\t  638.0\t  271.7\t 4904.0\t...\r\n",
        "SFIX L   4654787\r\n",
        "4654787\t  637.9\t  271.8\t 4902.0\t...\r\n",
        "4654788\t  637.9\t  271.8\t 4900.0\t...\r\n",
        "4654789\t  638.6\t  271.8\t 4897.0\t...\r\n",
        "4654790\t  639.3\t  271.9\t 4894.0\t...\r\n",
        "4654791\t  639.9\t  272.1\t 4891.0\t...\r\n",
        "4654792\t  640.0\t  272.6\t 4891.0\t...\r\n"
       ]
      }
     ],
     "prompt_number": 4
    },
    {
     "cell_type": "markdown",
     "metadata": {},
     "source": [
      "From the content of the first example snippet we could get the idea that the first 76 lines are some kind of header. So let's modify the code to skip the first 76 lines by introducing a line counter and an ``if`` condition."
     ]
    },
    {
     "cell_type": "code",
     "collapsed": false,
     "input": [
      "skiplines = 76\n",
      "for line in open(datafilename):\n",
      "    if skiplines > 0:\n",
      "        skiplines -= 1\n",
      "        continue\n",
      "    print line,"
     ],
     "language": "python",
     "metadata": {},
     "outputs": [
      {
       "output_type": "stream",
       "stream": "stdout",
       "text": [
        "4654780\t  638.4\t  269.6\t 4914.0\t...\r\n",
        "4654781\t  638.3\t  269.7\t 4913.0\t...\r\n",
        "4654782\t  638.4\t  270.5\t 4910.0\t...\r\n",
        "4654783\t  638.5\t  271.2\t 4908.0\t...\r\n",
        "4654784\t  638.4\t  271.8\t 4907.0\t...\r\n",
        "4654785\t  638.1\t  271.7\t 4906.0\t...\r\n",
        "4654786\t  638.0\t  271.7\t 4904.0\t...\r\n",
        "SFIX L   4654787\r\n",
        "4654787\t  637.9\t  271.8\t 4902.0\t...\r\n",
        "4654788\t  637.9\t  271.8\t 4900.0\t...\r\n",
        "4654789\t  638.6\t  271.8\t 4897.0\t...\r\n",
        "4654790\t  639.3\t  271.9\t 4894.0\t...\r\n",
        "4654791\t  639.9\t  272.1\t 4891.0\t...\r\n",
        "4654792\t  640.0\t  272.6\t 4891.0\t...\r\n"
       ]
      }
     ],
     "prompt_number": 5
    },
    {
     "cell_type": "markdown",
     "metadata": {},
     "source": [
      "Actually, with the built-in ``enumerate`` function Python has a much nore elegant way of adding a counter variable for any iterable. This snippet below does the exact same thing as before -- just with less and more readable code. Moreover, we cannot forget incrementing the counter when the code gets more complicated later on."
     ]
    },
    {
     "cell_type": "code",
     "collapsed": false,
     "input": [
      "for lineno, line in enumerate(open(datafilename)):\n",
      "    if lineno < 76:\n",
      "        continue\n",
      "    print line,"
     ],
     "language": "python",
     "metadata": {},
     "outputs": [
      {
       "output_type": "stream",
       "stream": "stdout",
       "text": [
        "4654780\t  638.4\t  269.6\t 4914.0\t...\r\n",
        "4654781\t  638.3\t  269.7\t 4913.0\t...\r\n",
        "4654782\t  638.4\t  270.5\t 4910.0\t...\r\n",
        "4654783\t  638.5\t  271.2\t 4908.0\t...\r\n",
        "4654784\t  638.4\t  271.8\t 4907.0\t...\r\n",
        "4654785\t  638.1\t  271.7\t 4906.0\t...\r\n",
        "4654786\t  638.0\t  271.7\t 4904.0\t...\r\n",
        "SFIX L   4654787\r\n",
        "4654787\t  637.9\t  271.8\t 4902.0\t...\r\n",
        "4654788\t  637.9\t  271.8\t 4900.0\t...\r\n",
        "4654789\t  638.6\t  271.8\t 4897.0\t...\r\n",
        "4654790\t  639.3\t  271.9\t 4894.0\t...\r\n",
        "4654791\t  639.9\t  272.1\t 4891.0\t...\r\n",
        "4654792\t  640.0\t  272.6\t 4891.0\t...\r\n"
       ]
      }
     ],
     "prompt_number": 6
    },
    {
     "cell_type": "markdown",
     "metadata": {},
     "source": [
      "This looks already pretty good with just a few lines of code, but there is a status message left in the output lines that we do not want. The most straightforward way to get rid of it is to amend the ``if`` clause and add another line exclusion condition."
     ]
    },
    {
     "cell_type": "code",
     "collapsed": false,
     "input": [
      "for lineno, line in enumerate(open(datafilename)):\n",
      "    if lineno < 76 or line.startswith('SFIX'):\n",
      "        continue\n",
      "    print line,"
     ],
     "language": "python",
     "metadata": {},
     "outputs": [
      {
       "output_type": "stream",
       "stream": "stdout",
       "text": [
        "4654780\t  638.4\t  269.6\t 4914.0\t...\r\n",
        "4654781\t  638.3\t  269.7\t 4913.0\t...\r\n",
        "4654782\t  638.4\t  270.5\t 4910.0\t...\r\n",
        "4654783\t  638.5\t  271.2\t 4908.0\t...\r\n",
        "4654784\t  638.4\t  271.8\t 4907.0\t...\r\n",
        "4654785\t  638.1\t  271.7\t 4906.0\t...\r\n",
        "4654786\t  638.0\t  271.7\t 4904.0\t...\r\n",
        "4654787\t  637.9\t  271.8\t 4902.0\t...\r\n",
        "4654788\t  637.9\t  271.8\t 4900.0\t...\r\n",
        "4654789\t  638.6\t  271.8\t 4897.0\t...\r\n",
        "4654790\t  639.3\t  271.9\t 4894.0\t...\r\n",
        "4654791\t  639.9\t  272.1\t 4891.0\t...\r\n",
        "4654792\t  640.0\t  272.6\t 4891.0\t...\r\n"
       ]
      }
     ],
     "prompt_number": 2
    },
    {
     "cell_type": "markdown",
     "metadata": {},
     "source": [
      "Done -- almost. But instead of just printing the relevant lines we need to store the data. In many languages *lists* are extensible containers that can hold an arbitrary amount of data. The same holds for Python -- with a few extra features that we will ignore for now. Lists definition and access to elements works like it is shown below. This is pretty similar to other languages. Note however, the handy way to access list elements relative to the end of the list by using negative index values."
     ]
    },
    {
     "cell_type": "code",
     "collapsed": false,
     "input": [
      "l = [1, 2, 3, 4]\n",
      "print l[0]\n",
      "print l[3]\n",
      "print l[-1]"
     ],
     "language": "python",
     "metadata": {},
     "outputs": [
      {
       "output_type": "stream",
       "stream": "stdout",
       "text": [
        "1\n",
        "4\n",
        "4\n"
       ]
      }
     ],
     "prompt_number": 8
    },
    {
     "cell_type": "markdown",
     "metadata": {},
     "source": [
      "There is more than one way to extend and modify Python lists. The only one we'll need is the ``append()`` method that -- the name suggests it -- appends a single element to the end of a list."
     ]
    },
    {
     "cell_type": "code",
     "collapsed": false,
     "input": [
      "l.append(10)\n",
      "print l"
     ],
     "language": "python",
     "metadata": {},
     "outputs": [
      {
       "output_type": "stream",
       "stream": "stdout",
       "text": [
        "[1, 2, 3, 4, 10]\n"
       ]
      }
     ],
     "prompt_number": 9
    },
    {
     "cell_type": "markdown",
     "metadata": {},
     "source": [
      "That should give us all we need: We create an empty list at the start and append all relevant data lines to it while looping over all lines in the file."
     ]
    },
    {
     "cell_type": "code",
     "collapsed": false,
     "input": [
      "data = []\n",
      "for lineno, line in enumerate(open(datafilename)):\n",
      "    if lineno < 76 or line.startswith('SFIX'):\n",
      "        continue\n",
      "    data.append(line)\n",
      "data"
     ],
     "language": "python",
     "metadata": {},
     "outputs": [
      {
       "output_type": "pyout",
       "prompt_number": 10,
       "text": [
        "['4654780\\t  638.4\\t  269.6\\t 4914.0\\t...\\r\\n',\n",
        " '4654781\\t  638.3\\t  269.7\\t 4913.0\\t...\\r\\n',\n",
        " '4654782\\t  638.4\\t  270.5\\t 4910.0\\t...\\r\\n',\n",
        " '4654783\\t  638.5\\t  271.2\\t 4908.0\\t...\\r\\n',\n",
        " '4654784\\t  638.4\\t  271.8\\t 4907.0\\t...\\r\\n',\n",
        " '4654785\\t  638.1\\t  271.7\\t 4906.0\\t...\\r\\n',\n",
        " '4654786\\t  638.0\\t  271.7\\t 4904.0\\t...\\r\\n',\n",
        " '4654787\\t  637.9\\t  271.8\\t 4902.0\\t...\\r\\n',\n",
        " '4654788\\t  637.9\\t  271.8\\t 4900.0\\t...\\r\\n',\n",
        " '4654789\\t  638.6\\t  271.8\\t 4897.0\\t...\\r\\n',\n",
        " '4654790\\t  639.3\\t  271.9\\t 4894.0\\t...\\r\\n',\n",
        " '4654791\\t  639.9\\t  272.1\\t 4891.0\\t...\\r\\n',\n",
        " '4654792\\t  640.0\\t  272.6\\t 4891.0\\t...\\r\\n']"
       ]
      }
     ],
     "prompt_number": 10
    },
    {
     "cell_type": "markdown",
     "metadata": {},
     "source": [
      "Well, that worked somewhat. We have a list element per data sample, but everything is still in text form interspersed with TAB and NEWLINE control characters. This is nothing we can do computing with. Luckily Python is fully equiped with pretty versatile text processing tools. All strings have a ``split()`` method that, by default, splits a string into its whitespace-delimited segments -- just what we need."
     ]
    },
    {
     "cell_type": "code",
     "collapsed": false,
     "input": [
      "someline = data[0]\n",
      "lineitems = someline.split()\n",
      "lineitems"
     ],
     "language": "python",
     "metadata": {},
     "outputs": [
      {
       "output_type": "pyout",
       "prompt_number": 11,
       "text": [
        "['4654780', '638.4', '269.6', '4914.0', '...']"
       ]
      }
     ],
     "prompt_number": 11
    },
    {
     "cell_type": "markdown",
     "metadata": {},
     "source": [
      "The last field in every lines seems to be some sort of garbage, so we'll strip it off. Python lists support slicing (subselection of elements) using a [START:STOP:STEP] notation, where START and STEP are optional. With the aforementioned option of using negative indices we have to possible ways to select the first four elements from a five element list."
     ]
    },
    {
     "cell_type": "code",
     "collapsed": false,
     "input": [
      "print lineitems[:4]\n",
      "print lineitems[:-1]"
     ],
     "language": "python",
     "metadata": {},
     "outputs": [
      {
       "output_type": "stream",
       "stream": "stdout",
       "text": [
        "['4654780', '638.4', '269.6', '4914.0']\n",
        "['4654780', '638.4', '269.6', '4914.0']\n"
       ]
      }
     ],
     "prompt_number": 12
    },
    {
     "cell_type": "markdown",
     "metadata": {},
     "source": [
      "Let's merge this functionality into our existing code, and we'll be able to produce a list with an element for each data sample, where each element is a 4-item list with the numbers we want."
     ]
    },
    {
     "cell_type": "code",
     "collapsed": false,
     "input": [
      "data = []\n",
      "for lineno, line in enumerate(open(datafilename)):\n",
      "    if lineno < 76 or line.startswith('SFIX'):\n",
      "        continue\n",
      "    data.append(line.split()[:-1])\n",
      "data"
     ],
     "language": "python",
     "metadata": {},
     "outputs": [
      {
       "output_type": "pyout",
       "prompt_number": 13,
       "text": [
        "[['4654780', '638.4', '269.6', '4914.0'],\n",
        " ['4654781', '638.3', '269.7', '4913.0'],\n",
        " ['4654782', '638.4', '270.5', '4910.0'],\n",
        " ['4654783', '638.5', '271.2', '4908.0'],\n",
        " ['4654784', '638.4', '271.8', '4907.0'],\n",
        " ['4654785', '638.1', '271.7', '4906.0'],\n",
        " ['4654786', '638.0', '271.7', '4904.0'],\n",
        " ['4654787', '637.9', '271.8', '4902.0'],\n",
        " ['4654788', '637.9', '271.8', '4900.0'],\n",
        " ['4654789', '638.6', '271.8', '4897.0'],\n",
        " ['4654790', '639.3', '271.9', '4894.0'],\n",
        " ['4654791', '639.9', '272.1', '4891.0'],\n",
        " ['4654792', '640.0', '272.6', '4891.0']]"
       ]
      }
     ],
     "prompt_number": 13
    },
    {
     "cell_type": "markdown",
     "metadata": {},
     "source": [
      "Let's try it out. We compute the duration of the recording from the first column. We have heard that this is the time stamp in milliseconds."
     ]
    },
    {
     "cell_type": "code",
     "collapsed": false,
     "input": [
      "dt = data[-1][0] - data[0][0]"
     ],
     "language": "python",
     "metadata": {},
     "outputs": [
      {
       "ename": "TypeError",
       "evalue": "unsupported operand type(s) for -: 'str' and 'str'",
       "output_type": "pyerr",
       "traceback": [
        "\u001b[0;31m---------------------------------------------------------------------------\u001b[0m\n\u001b[0;31mTypeError\u001b[0m                                 Traceback (most recent call last)",
        "\u001b[0;32m<ipython-input-14-20b6f238dc1c>\u001b[0m in \u001b[0;36m<module>\u001b[0;34m()\u001b[0m\n\u001b[0;32m----> 1\u001b[0;31m \u001b[0mdt\u001b[0m \u001b[0;34m=\u001b[0m \u001b[0mdata\u001b[0m\u001b[0;34m[\u001b[0m\u001b[0;34m-\u001b[0m\u001b[0;36m1\u001b[0m\u001b[0;34m]\u001b[0m\u001b[0;34m[\u001b[0m\u001b[0;36m0\u001b[0m\u001b[0;34m]\u001b[0m \u001b[0;34m-\u001b[0m \u001b[0mdata\u001b[0m\u001b[0;34m[\u001b[0m\u001b[0;36m0\u001b[0m\u001b[0;34m]\u001b[0m\u001b[0;34m[\u001b[0m\u001b[0;36m0\u001b[0m\u001b[0;34m]\u001b[0m\u001b[0;34m\u001b[0m\u001b[0m\n\u001b[0m",
        "\u001b[0;31mTypeError\u001b[0m: unsupported operand type(s) for -: 'str' and 'str'"
       ]
      }
     ],
     "prompt_number": 14
    },
    {
     "cell_type": "markdown",
     "metadata": {},
     "source": [
      "Arrgh, our \"numbers\" are still text (or strings), and we can do meaningful substraction with them. Whoever said that \"in Python you do not need to care about data types\" was obviously wrong. Python provides functions to convert text into basic data types such as integers (``int``) and floating point numbers (``float``)."
     ]
    },
    {
     "cell_type": "code",
     "collapsed": false,
     "input": [
      "int('1234')"
     ],
     "language": "python",
     "metadata": {},
     "outputs": [
      {
       "output_type": "pyout",
       "prompt_number": 15,
       "text": [
        "1234"
       ]
      }
     ],
     "prompt_number": 15
    },
    {
     "cell_type": "code",
     "collapsed": false,
     "input": [
      "float('1234')"
     ],
     "language": "python",
     "metadata": {},
     "outputs": [
      {
       "output_type": "pyout",
       "prompt_number": 16,
       "text": [
        "1234.0"
       ]
      }
     ],
     "prompt_number": 16
    },
    {
     "cell_type": "markdown",
     "metadata": {},
     "source": [
      "For convenience we will convert all our numbers into floats. And because it is a lot to type, we'll only do it for the first three in each line."
     ]
    },
    {
     "cell_type": "code",
     "collapsed": false,
     "input": [
      "data = []\n",
      "for lineno, line in enumerate(open(datafilename)):\n",
      "    if lineno < 76 or line.startswith('SFIX'):\n",
      "        continue\n",
      "    lineitems = line.split()[:-1]\n",
      "    data.append([float(lineitems[0]), float(lineitems[1]), float(lineitems[2])])\n",
      "data"
     ],
     "language": "python",
     "metadata": {},
     "outputs": [
      {
       "output_type": "pyout",
       "prompt_number": 17,
       "text": [
        "[[4654780.0, 638.4, 269.6],\n",
        " [4654781.0, 638.3, 269.7],\n",
        " [4654782.0, 638.4, 270.5],\n",
        " [4654783.0, 638.5, 271.2],\n",
        " [4654784.0, 638.4, 271.8],\n",
        " [4654785.0, 638.1, 271.7],\n",
        " [4654786.0, 638.0, 271.7],\n",
        " [4654787.0, 637.9, 271.8],\n",
        " [4654788.0, 637.9, 271.8],\n",
        " [4654789.0, 638.6, 271.8],\n",
        " [4654790.0, 639.3, 271.9],\n",
        " [4654791.0, 639.9, 272.1],\n",
        " [4654792.0, 640.0, 272.6]]"
       ]
      }
     ],
     "prompt_number": 17
    },
    {
     "cell_type": "code",
     "collapsed": false,
     "input": [
      "dt = data[-1][0] - data[0][0]\n",
      "dt"
     ],
     "language": "python",
     "metadata": {},
     "outputs": [
      {
       "output_type": "pyout",
       "prompt_number": 18,
       "text": [
        "12.0"
       ]
      }
     ],
     "prompt_number": 18
    },
    {
     "cell_type": "markdown",
     "metadata": {},
     "source": [
      "Finally something to compute with: the recording duration of our data snippet was 12 ms. Now let's plot the gaze coordinates. The ``X`` coordinate is in the second column, the ``Y` coordinate in the third. We have a list of lists, so let's first select all samples and then the second item in each."
     ]
    },
    {
     "cell_type": "code",
     "collapsed": false,
     "input": [
      "data[:][1]"
     ],
     "language": "python",
     "metadata": {},
     "outputs": [
      {
       "output_type": "pyout",
       "prompt_number": 19,
       "text": [
        "[4654781.0, 638.3, 269.7]"
       ]
      }
     ],
     "prompt_number": 19
    },
    {
     "cell_type": "markdown",
     "metadata": {},
     "source": [
      "Hmm, that did not work. What about"
     ]
    },
    {
     "cell_type": "code",
     "collapsed": false,
     "input": [
      "data[:,1]"
     ],
     "language": "python",
     "metadata": {},
     "outputs": [
      {
       "ename": "TypeError",
       "evalue": "list indices must be integers, not tuple",
       "output_type": "pyerr",
       "traceback": [
        "\u001b[0;31m---------------------------------------------------------------------------\u001b[0m\n\u001b[0;31mTypeError\u001b[0m                                 Traceback (most recent call last)",
        "\u001b[0;32m<ipython-input-20-613c81e228f2>\u001b[0m in \u001b[0;36m<module>\u001b[0;34m()\u001b[0m\n\u001b[0;32m----> 1\u001b[0;31m \u001b[0mdata\u001b[0m\u001b[0;34m[\u001b[0m\u001b[0;34m:\u001b[0m\u001b[0;34m,\u001b[0m\u001b[0;36m1\u001b[0m\u001b[0;34m]\u001b[0m\u001b[0;34m\u001b[0m\u001b[0m\n\u001b[0m",
        "\u001b[0;31mTypeError\u001b[0m: list indices must be integers, not tuple"
       ]
      }
     ],
     "prompt_number": 20
    },
    {
     "cell_type": "markdown",
     "metadata": {},
     "source": [
      "This doesn't seem to be right either. Nested lists do not seem to be the right container for our data, in order to access its content in the way we want to.\n",
      "\n",
      "A more appropriate container is an ``array``. This is a (multidimensional/multi-axis) field of number of the same type. Most language offer such a data container, because it is useful for storing lots of data and accessing it at low cost. In Python the ``numpy`` package provides arrays. Thankfully, converting our list of lists into a two-dimensional array is pretty simple."
     ]
    },
    {
     "cell_type": "code",
     "collapsed": false,
     "input": [
      "import numpy as np"
     ],
     "language": "python",
     "metadata": {},
     "outputs": [],
     "prompt_number": 21
    },
    {
     "cell_type": "code",
     "collapsed": false,
     "input": [
      "darr = np.array(data)\n",
      "darr"
     ],
     "language": "python",
     "metadata": {},
     "outputs": [
      {
       "output_type": "pyout",
       "prompt_number": 22,
       "text": [
        "array([[  4.65478000e+06,   6.38400000e+02,   2.69600000e+02],\n",
        "       [  4.65478100e+06,   6.38300000e+02,   2.69700000e+02],\n",
        "       [  4.65478200e+06,   6.38400000e+02,   2.70500000e+02],\n",
        "       [  4.65478300e+06,   6.38500000e+02,   2.71200000e+02],\n",
        "       [  4.65478400e+06,   6.38400000e+02,   2.71800000e+02],\n",
        "       [  4.65478500e+06,   6.38100000e+02,   2.71700000e+02],\n",
        "       [  4.65478600e+06,   6.38000000e+02,   2.71700000e+02],\n",
        "       [  4.65478700e+06,   6.37900000e+02,   2.71800000e+02],\n",
        "       [  4.65478800e+06,   6.37900000e+02,   2.71800000e+02],\n",
        "       [  4.65478900e+06,   6.38600000e+02,   2.71800000e+02],\n",
        "       [  4.65479000e+06,   6.39300000e+02,   2.71900000e+02],\n",
        "       [  4.65479100e+06,   6.39900000e+02,   2.72100000e+02],\n",
        "       [  4.65479200e+06,   6.40000000e+02,   2.72600000e+02]])"
       ]
      }
     ],
     "prompt_number": 22
    },
    {
     "cell_type": "code",
     "collapsed": false,
     "input": [
      "darr.shape"
     ],
     "language": "python",
     "metadata": {},
     "outputs": [
      {
       "output_type": "pyout",
       "prompt_number": 23,
       "text": [
        "(13, 3)"
       ]
      }
     ],
     "prompt_number": 23
    },
    {
     "cell_type": "markdown",
     "metadata": {},
     "source": [
      "Arrays support additional modes of slicing (this a more complicated topic that you should [read more about]()), so what caused an error before now does the right thing."
     ]
    },
    {
     "cell_type": "code",
     "collapsed": false,
     "input": [
      "darr[:,1]"
     ],
     "language": "python",
     "metadata": {},
     "outputs": [
      {
       "output_type": "pyout",
       "prompt_number": 24,
       "text": [
        "array([ 638.4,  638.3,  638.4,  638.5,  638.4,  638.1,  638. ,  637.9,\n",
        "        637.9,  638.6,  639.3,  639.9,  640. ])"
       ]
      }
     ],
     "prompt_number": 24
    },
    {
     "cell_type": "markdown",
     "metadata": {},
     "source": [
      "Making a plot of the gaze trajectory over the 12 ms is now pretty easy. We are using the ``pylab`` package's ``plot`` function to plot X against Y coordinates for each data sample."
     ]
    },
    {
     "cell_type": "code",
     "collapsed": false,
     "input": [
      "import pylab as pl\n",
      "pl.plot(darr[:,1], darr[:,2])"
     ],
     "language": "python",
     "metadata": {},
     "outputs": [
      {
       "output_type": "pyout",
       "prompt_number": 25,
       "text": [
        "[<matplotlib.lines.Line2D at 0xab811ac>]"
       ]
      },
      {
       "output_type": "display_data",
       "png": "[encoded data removed]"
      }
     ],
     "prompt_number": 25
    },
    {
     "cell_type": "markdown",
     "metadata": {},
     "source": [
      "It seems like we have all pieces to do what we want, so let's put them together. Here is the part for data import."
     ]
    },
    {
     "cell_type": "code",
     "collapsed": false,
     "input": [
      "datafilename = os.path.join('data', 'gaze_snip1.txt')\n",
      "data = []\n",
      "for lineno, line in enumerate(open(datafilename)):\n",
      "    if lineno < 76 or line.startswith('SFIX'):\n",
      "        continue\n",
      "    lineitems = line.split()[:-1]\n",
      "    data.append([float(lineitems[0]), float(lineitems[1]), float(lineitems[2])])\n",
      "darr = np.array(data)"
     ],
     "language": "python",
     "metadata": {},
     "outputs": [],
     "prompt_number": 26
    },
    {
     "cell_type": "markdown",
     "metadata": {},
     "source": [
      "Let's see how it performs on our second data file. We only need to edit the file name."
     ]
    },
    {
     "cell_type": "code",
     "collapsed": false,
     "input": [
      "datafilename = os.path.join('data', 'gaze_snip2.txt')\n",
      "data = []\n",
      "for lineno, line in enumerate(open(datafilename)):\n",
      "    if lineno < 76 or line.startswith('SFIX'):\n",
      "        continue\n",
      "    lineitems = line.split()[:-1]\n",
      "    data.append([float(lineitems[0]), float(lineitems[1]), float(lineitems[2])])\n",
      "darr = np.array(data)"
     ],
     "language": "python",
     "metadata": {},
     "outputs": [
      {
       "ename": "ValueError",
       "evalue": "could not convert string to float: MSG",
       "output_type": "pyerr",
       "traceback": [
        "\u001b[0;31m---------------------------------------------------------------------------\u001b[0m\n\u001b[0;31mValueError\u001b[0m                                Traceback (most recent call last)",
        "\u001b[0;32m<ipython-input-27-7c48db195d22>\u001b[0m in \u001b[0;36m<module>\u001b[0;34m()\u001b[0m\n\u001b[1;32m      5\u001b[0m         \u001b[0;32mcontinue\u001b[0m\u001b[0;34m\u001b[0m\u001b[0m\n\u001b[1;32m      6\u001b[0m     \u001b[0mlineitems\u001b[0m \u001b[0;34m=\u001b[0m \u001b[0mline\u001b[0m\u001b[0;34m.\u001b[0m\u001b[0msplit\u001b[0m\u001b[0;34m(\u001b[0m\u001b[0;34m)\u001b[0m\u001b[0;34m[\u001b[0m\u001b[0;34m:\u001b[0m\u001b[0;34m-\u001b[0m\u001b[0;36m1\u001b[0m\u001b[0;34m]\u001b[0m\u001b[0;34m\u001b[0m\u001b[0m\n\u001b[0;32m----> 7\u001b[0;31m     \u001b[0mdata\u001b[0m\u001b[0;34m.\u001b[0m\u001b[0mappend\u001b[0m\u001b[0;34m(\u001b[0m\u001b[0;34m[\u001b[0m\u001b[0mfloat\u001b[0m\u001b[0;34m(\u001b[0m\u001b[0mlineitems\u001b[0m\u001b[0;34m[\u001b[0m\u001b[0;36m0\u001b[0m\u001b[0;34m]\u001b[0m\u001b[0;34m)\u001b[0m\u001b[0;34m,\u001b[0m \u001b[0mfloat\u001b[0m\u001b[0;34m(\u001b[0m\u001b[0mlineitems\u001b[0m\u001b[0;34m[\u001b[0m\u001b[0;36m1\u001b[0m\u001b[0;34m]\u001b[0m\u001b[0;34m)\u001b[0m\u001b[0;34m,\u001b[0m \u001b[0mfloat\u001b[0m\u001b[0;34m(\u001b[0m\u001b[0mlineitems\u001b[0m\u001b[0;34m[\u001b[0m\u001b[0;36m2\u001b[0m\u001b[0;34m]\u001b[0m\u001b[0;34m)\u001b[0m\u001b[0;34m]\u001b[0m\u001b[0;34m)\u001b[0m\u001b[0;34m\u001b[0m\u001b[0m\n\u001b[0m\u001b[1;32m      8\u001b[0m \u001b[0mdarr\u001b[0m \u001b[0;34m=\u001b[0m \u001b[0mnp\u001b[0m\u001b[0;34m.\u001b[0m\u001b[0marray\u001b[0m\u001b[0;34m(\u001b[0m\u001b[0mdata\u001b[0m\u001b[0;34m)\u001b[0m\u001b[0;34m\u001b[0m\u001b[0m\n",
        "\u001b[0;31mValueError\u001b[0m: could not convert string to float: MSG"
       ]
      }
     ],
     "prompt_number": 27
    },
    {
     "cell_type": "markdown",
     "metadata": {},
     "source": [
      "Hmm, not so good. It seems like our concept of the file format is not optimal. At some point the parser is trying to convert a text string into a floating point number. It fails and raises an exception. Exceptions, like in C++ or other language are a way to communicate errors.\n",
      "\n",
      "An interesting aspect of exceptions is that they can be intercepted and acted upon. So let's modify the code to catch this ``ValueError`` and take a look at the line that causes our program to fail."
     ]
    },
    {
     "cell_type": "code",
     "collapsed": false,
     "input": [
      "datafilename = os.path.join('data', 'gaze_snip2.txt')\n",
      "data = []\n",
      "for lineno, line in enumerate(open(datafilename)):\n",
      "    if lineno < 76 or line.startswith('SFIX'):\n",
      "        continue\n",
      "    lineitems = line.split()[:-1]\n",
      "    try:\n",
      "        data.append([float(lineitems[0]), float(lineitems[1]), float(lineitems[2])])\n",
      "    except ValueError, e:\n",
      "        print e\n",
      "        print line\n",
      "darr = np.array(data)"
     ],
     "language": "python",
     "metadata": {},
     "outputs": [
      {
       "ename": "IndexError",
       "evalue": "list index out of range",
       "output_type": "pyerr",
       "traceback": [
        "\u001b[0;31m---------------------------------------------------------------------------\u001b[0m\n\u001b[0;31mIndexError\u001b[0m                                Traceback (most recent call last)",
        "\u001b[0;32m<ipython-input-28-a15b19429158>\u001b[0m in \u001b[0;36m<module>\u001b[0;34m()\u001b[0m\n\u001b[1;32m      6\u001b[0m     \u001b[0mlineitems\u001b[0m \u001b[0;34m=\u001b[0m \u001b[0mline\u001b[0m\u001b[0;34m.\u001b[0m\u001b[0msplit\u001b[0m\u001b[0;34m(\u001b[0m\u001b[0;34m)\u001b[0m\u001b[0;34m[\u001b[0m\u001b[0;34m:\u001b[0m\u001b[0;34m-\u001b[0m\u001b[0;36m1\u001b[0m\u001b[0;34m]\u001b[0m\u001b[0;34m\u001b[0m\u001b[0m\n\u001b[1;32m      7\u001b[0m     \u001b[0;32mtry\u001b[0m\u001b[0;34m:\u001b[0m\u001b[0;34m\u001b[0m\u001b[0m\n\u001b[0;32m----> 8\u001b[0;31m         \u001b[0mdata\u001b[0m\u001b[0;34m.\u001b[0m\u001b[0mappend\u001b[0m\u001b[0;34m(\u001b[0m\u001b[0;34m[\u001b[0m\u001b[0mfloat\u001b[0m\u001b[0;34m(\u001b[0m\u001b[0mlineitems\u001b[0m\u001b[0;34m[\u001b[0m\u001b[0;36m0\u001b[0m\u001b[0;34m]\u001b[0m\u001b[0;34m)\u001b[0m\u001b[0;34m,\u001b[0m \u001b[0mfloat\u001b[0m\u001b[0;34m(\u001b[0m\u001b[0mlineitems\u001b[0m\u001b[0;34m[\u001b[0m\u001b[0;36m1\u001b[0m\u001b[0;34m]\u001b[0m\u001b[0;34m)\u001b[0m\u001b[0;34m,\u001b[0m \u001b[0mfloat\u001b[0m\u001b[0;34m(\u001b[0m\u001b[0mlineitems\u001b[0m\u001b[0;34m[\u001b[0m\u001b[0;36m2\u001b[0m\u001b[0;34m]\u001b[0m\u001b[0;34m)\u001b[0m\u001b[0;34m]\u001b[0m\u001b[0;34m)\u001b[0m\u001b[0;34m\u001b[0m\u001b[0m\n\u001b[0m\u001b[1;32m      9\u001b[0m     \u001b[0;32mexcept\u001b[0m \u001b[0mValueError\u001b[0m\u001b[0;34m,\u001b[0m \u001b[0me\u001b[0m\u001b[0;34m:\u001b[0m\u001b[0;34m\u001b[0m\u001b[0m\n\u001b[1;32m     10\u001b[0m         \u001b[0;32mprint\u001b[0m \u001b[0me\u001b[0m\u001b[0;34m\u001b[0m\u001b[0m\n",
        "\u001b[0;31mIndexError\u001b[0m: list index out of range"
       ]
      },
      {
       "output_type": "stream",
       "stream": "stdout",
       "text": [
        "could not convert string to float: MSG\n",
        "MSG\t13113500 !CAL -30.1, -33.2      1866,   1192   \r\n",
        "\n",
        "could not convert string to float: MSG\n",
        "MSG\t13113500 !CAL eye check box: (L,R,T,B)\r\n",
        "\n"
       ]
      }
     ],
     "prompt_number": 28
    },
    {
     "cell_type": "markdown",
     "metadata": {},
     "source": [
      "Indeed, it doesn't look like a gaze coordinate sample at all. Let's take a look at this other file. We can use IPython's ability to execute arbitrary shell command (by using an explamation mark as a prefix), but you can also open the file in a text editor."
     ]
    },
    {
     "cell_type": "code",
     "collapsed": false,
     "input": [
      "!head -n150 $datafilename"
     ],
     "language": "python",
     "metadata": {},
     "outputs": [
      {
       "output_type": "stream",
       "stream": "stdout",
       "text": [
        "** CONVERTED FROM subj\\evsc.edf using edfapi 3.0 Win32 Dec 19 2008 on Fri Oct 21 17:28:05 2011\r",
        "\r\n",
        "** DATE: Fri Oct 21 15:08:26 2011\r",
        "\r\n",
        "** TYPE: EDF_FILE BINARY EVENT SAMPLE TAGGED\r",
        "\r\n",
        "** VERSION: EYELINK II 1\r",
        "\r\n",
        "** SOURCE: EYELINK CL\r",
        "\r\n",
        "** EYELINK II CL v4.51 Mar 13 2010\r",
        "\r\n",
        "** CAMERA: EyeLink CL Version 1.4 Sensor=BJA\r",
        "\r\n",
        "** SERIAL NUMBER: CL1-AAE48\r",
        "\r\n",
        "** CAMERA_CONFIG: AAE48140.SCD\r",
        "\r\n",
        "**\r",
        "\r\n",
        "\r",
        "\r\n",
        "MSG\t12871606 DISPLAY_COORDS 0 0 1679 1049\r",
        "\r\n",
        "MSG\t13063809 !CAL \r",
        "\r\n",
        ">>>>>>> CALIBRATION (HV13,P-CR) FOR LEFT: <<<<<<<<<\r",
        "\r\n",
        "MSG\t13063810 !CAL Calibration points:  \r",
        "\r\n",
        "MSG\t13063810 !CAL -46.6, -37.1         0,     98   \r",
        "\r\n",
        "MSG\t13063810 !CAL -47.8, -49.8         0,  -2137   \r",
        "\r\n",
        "MSG\t13063810 !CAL -46.3, -26.1         0,   2271   \r",
        "\r\n",
        "MSG\t13063810 !CAL -73.1, -38.1     -3758,     98   \r",
        "\r\n",
        "MSG\t13063810 !CAL -20.6, -38.2      3758,     98   \r",
        "\r\n",
        "MSG\t13063810 !CAL -74.2, -48.6     -3812,  -2137   \r",
        "\r\n",
        "MSG\t13063810 !CAL -21.6, -49.3      3812,  -2137   \r",
        "\r\n",
        "MSG\t13063810 !CAL -68.6, -26.7     -3705,   2271   \r",
        "\r\n",
        "MSG\t13063810 !CAL -20.5, -27.9      3705,   2271   \r",
        "\r\n",
        "MSG\t13063810 !CAL -60.3, -42.3     -1892,  -1011   \r",
        "\r\n",
        "MSG\t13063810 !CAL -33.6, -43.5      1892,  -1011   \r",
        "\r\n",
        "MSG\t13063810 !CAL -59.5, -33.1     -1866,   1192   \r",
        "\r\n",
        "MSG\t13063810 !CAL -33.0, -32.7      1866,   1192   \r",
        "\r\n",
        "MSG\t13063810 !CAL eye check box: (L,R,T,B)\r",
        "\r\n",
        "\t  -80   -15   -52   -24\r",
        "\r\n",
        "\r",
        "\r\n",
        "MSG\t13063810 !CAL href cal range: (L,R,T,B)\r",
        "\r\n",
        "\t-5718  5718 -3239  3373\r",
        "\r\n",
        "\r",
        "\r\n",
        "MSG\t13063811 !CAL Cal coeff:(X=a+bx+cy+dxx+eyy,Y=f+gx+goaly+ixx+jyy)\r",
        "\r\n",
        "   8190.8  194.13  65.244  0.049463  0.02588 \r",
        "\r\n",
        "  -2413.2  96.032 -784.51  0.71274 -2\r",
        "\r\n",
        "MSG\t13063811 !CAL Gains: cx:138.986 lx:163.575 rx:156.873\r",
        "\r\n",
        "MSG\t13063811 !CAL Gains: cy:223.182 ty:50.755 by:81.085\r",
        "\r\n",
        "MSG\t13063811 !CAL Resolution (upd) at screen center: X=1.9, Y=1.2\r",
        "\r\n",
        "MSG\t13063811 !CAL Gain Change Proportion: X: 0.043 Y: 0.598\r",
        "\r\n",
        "MSG\t13063811 !CAL Gain Ratio (Gy/Gx) = 1.606\r",
        "\r\n",
        "MSG\t13063811 !CAL Cross-Gain Ratios: X=0.336, Y=0.334 \r",
        "\r\n",
        "MSG\t13063811 !CAL PCR gain ratio(x,y) = 2.650, 2.001\r",
        "\r\n",
        "MSG\t13063811 !CAL CR gain match(x,y) = 1.010, 1.010\r",
        "\r\n",
        "MSG\t13063811 !CAL Slip rotation correction OFF\r",
        "\r\n",
        "MSG\t13063812 !CAL CALIBRATION HV13 L LEFT    GOOD \r",
        "\r\n",
        "MSG\t13086558 !CAL VALIDATION HV13 L LEFT  POOR ERROR 0.90 avg. 2.90 max  OFFSET 0.35 deg. 7.9,16.6 pix.\r",
        "\r\n",
        "MSG\t13086558 VALIDATE L POINT 0  LEFT  at 840,524  OFFSET 0.55 deg.  -0.4,-29.1 pix.\r",
        "\r\n",
        "MSG\t13086558 VALIDATE L POINT 1  LEFT  at 840,89  OFFSET 0.33 deg.  2.9,17.4 pix.\r",
        "\r\n",
        "MSG\t13086558 VALIDATE L POINT 2  LEFT  at 840,960  OFFSET 0.61 deg.  28.4,15.6 pix.\r",
        "\r\n",
        "MSG\t13086576 VALIDATE L POINT 3  LEFT  at 101,524  OFFSET 1.66 deg.  -5.2,87.4 pix.\r",
        "\r\n",
        "MSG\t13086576 VALIDATE L POINT 4  LEFT  at 1578,524  OFFSET 0.82 deg.  43.6,3.8 pix.\r",
        "\r\n",
        "MSG\t13086576 VALIDATE L POINT 5  LEFT  at 189,141  OFFSET 0.40 deg.  18.0,-11.7 pix.\r",
        "\r\n",
        "MSG\t13086576 VALIDATE L POINT 6  LEFT  at 1490,141  OFFSET 1.32 deg.  56.3,41.6 pix.\r",
        "\r\n",
        "MSG\t13086576 VALIDATE L POINT 7  LEFT  at 189,908  OFFSET 2.90 deg.  -85.3,127.6 pix.\r",
        "\r\n",
        "MSG\t13086576 VALIDATE L POINT 8  LEFT  at 1490,908  OFFSET 0.25 deg.  11.3,-7.4 pix.\r",
        "\r\n",
        "MSG\t13086576 VALIDATE L POINT 9  LEFT  at 470,307  OFFSET 0.28 deg.  5.9,-13.5 pix.\r",
        "\r\n",
        "MSG\t13086576 VALIDATE L POINT 10  LEFT  at 1209,307  OFFSET 0.73 deg.  20.9,-32.4 pix.\r",
        "\r\n",
        "MSG\t13086576 VALIDATE L POINT 11  LEFT  at 470,742  OFFSET 0.37 deg.  3.6,19.2 pix.\r",
        "\r\n",
        "MSG\t13086576 VALIDATE L POINT 12  LEFT  at 1209,742  OFFSET 0.34 deg.  18.0,0.6 pix.\r",
        "\r\n",
        "MSG\t13113499 !CAL \r",
        "\r\n",
        ">>>>>>> CALIBRATION (HV13,P-CR) FOR LEFT: <<<<<<<<<\r",
        "\r\n",
        "MSG\t13113500 !CAL Calibration points:  \r",
        "\r\n",
        "MSG\t13113500 !CAL -42.9, -37.9         0,     98   \r",
        "\r\n",
        "MSG\t13113500 !CAL -43.5, -50.1         0,  -2137   \r",
        "\r\n",
        "MSG\t13113500 !CAL -42.2, -26.0         0,   2271   \r",
        "\r\n",
        "MSG\t13113500 !CAL -67.1, -38.2     -3758,     98   \r",
        "\r\n",
        "MSG\t13113500 !CAL -18.0, -38.2      3758,     98   \r",
        "\r\n",
        "MSG\t13113500 !CAL -68.6, -48.8     -3812,  -2137   \r",
        "\r\n",
        "MSG\t13113500 !CAL -19.3, -49.4      3812,  -2137   \r",
        "\r\n",
        "MSG\t13113500 !CAL -66.9, -27.3     -3705,   2271   \r",
        "\r\n",
        "MSG\t13113500 !CAL -18.3, -28.5      3705,   2271   \r",
        "\r\n",
        "MSG\t13113500 !CAL -56.2, -44.1     -1892,  -1011   \r",
        "\r\n",
        "MSG\t13113500 !CAL -30.7, -43.7      1892,  -1011   \r",
        "\r\n",
        "MSG\t13113500 !CAL -55.1, -32.3     -1866,   1192   \r",
        "\r\n",
        "MSG\t13113500 !CAL -30.1, -33.2      1866,   1192   \r",
        "\r\n",
        "MSG\t13113500 !CAL eye check box: (L,R,T,B)\r",
        "\r\n",
        "\t  -74   -13   -53   -24\r",
        "\r\n",
        "\r",
        "\r\n",
        "MSG\t13113500 !CAL href cal range: (L,R,T,B)\r",
        "\r\n",
        "\t-5718  5718 -3239  3373\r",
        "\r\n",
        "\r",
        "\r\n",
        "MSG\t13113500 !CAL Cal coeff:(X=a+bx+cy+dxx+eyy,Y=f+gx+goaly+ixx+jyy)\r",
        "\r\n",
        "   8245.6  195.58  114.52  1.1704  3.1192 \r",
        "\r\n",
        "   8861.5  203.01  37.892  1.5494 -8.038\r",
        "\r\n",
        "MSG\t13113501 !CAL Gains: cx:146.982 lx:176.043 rx:173.787\r",
        "\r\n",
        "MSG\t13113501 !CAL Gains: cy:193.996 ty:142.924 by:141.889\r",
        "\r\n",
        "MSG\t13113501 !CAL Resolution (upd) at screen center: X=1.8, Y=1.4\r",
        "\r\n",
        "MSG\t13113501 !CAL Gain Change Proportion: X: 0.013 Y: 0.007\r",
        "\r\n",
        "MSG\t13113501 !CAL Gain Ratio (Gy/Gx) = 1.320\r",
        "\r\n",
        "MSG\t13113501 !CAL Cross-Gain Ratios: X=0.324, Y=0.888 \r",
        "\r\n",
        "MSG\t13113501 !CAL Cross-Gain too large: X=0.324, Y=0.888 \r",
        "\r\n",
        "\r",
        "\r\n",
        "MSG\t13113501 !CAL PCR gain ratio(x,y) = 2.472, 2.032\r",
        "\r\n",
        "MSG\t13113501 !CAL CR gain match(x,y) = 1.010, 1.010\r",
        "\r\n",
        "MSG\t13113501 !CAL Slip rotation correction OFF\r",
        "\r\n",
        "MSG\t13113502 !CAL CALIBRATION HV13 L LEFT    GOOD \r",
        "\r\n",
        "MSG\t13133484 !CAL VALIDATION HV13 L LEFT  POOR ERROR 0.82 avg. 2.86 max  OFFSET 0.72 deg. 16.7,34.6 pix.\r",
        "\r\n",
        "MSG\t13133484 VALIDATE L POINT 0  LEFT  at 840,524  OFFSET 0.43 deg.  15.2,16.8 pix.\r",
        "\r\n",
        "MSG\t13133484 VALIDATE L POINT 1  LEFT  at 840,89  OFFSET 0.80 deg.  27.3,32.4 pix.\r",
        "\r\n",
        "MSG\t13133484 VALIDATE L POINT 2  LEFT  at 840,960  OFFSET 0.15 deg.  8.2,0.8 pix.\r",
        "\r\n",
        "MSG\t13133484 VALIDATE L POINT 3  LEFT  at 101,524  OFFSET 1.34 deg.  7.1,70.8 pix.\r",
        "\r\n",
        "MSG\t13133484 VALIDATE L POINT 4  LEFT  at 1578,524  OFFSET 0.35 deg.  12.2,-13.8 pix.\r",
        "\r\n",
        "MSG\t13133484 VALIDATE L POINT 5  LEFT  at 189,141  OFFSET 0.96 deg.  1.6,50.8 pix.\r",
        "\r\n",
        "MSG\t13133484 VALIDATE L POINT 6  LEFT  at 1490,141  OFFSET 0.43 deg.  20.5,-9.5 pix.\r",
        "\r\n",
        "MSG\t13133484 VALIDATE L POINT 7  LEFT  at 189,908  OFFSET 0.31 deg.  10.0,13.3 pix.\r",
        "\r\n",
        "MSG\t13133484 VALIDATE L POINT 8  LEFT  at 1490,908  OFFSET 2.86 deg.  53.9,141.7 pix.\r",
        "\r\n",
        "MSG\t13133484 VALIDATE L POINT 9  LEFT  at 470,307  OFFSET 0.63 deg.  33.6,1.6 pix.\r",
        "\r\n",
        "MSG\t13133484 VALIDATE L POINT 10  LEFT  at 1209,307  OFFSET 0.25 deg.  -3.0,-13.0 pix.\r",
        "\r\n",
        "MSG\t13133484 VALIDATE L POINT 11  LEFT  at 470,742  OFFSET 0.25 deg.  13.3,1.9 pix.\r",
        "\r\n",
        "MSG\t13133484 VALIDATE L POINT 12  LEFT  at 1209,742  OFFSET 1.06 deg.  15.0,54.2 pix.\r",
        "\r\n",
        "MSG\t13214119 RECCFG CR 1000 2 1 L\r",
        "\r\n",
        "MSG\t13214119 ELCLCFG MTABLER\r",
        "\r\n",
        "MSG\t13214119 GAZE_COORDS 0.00 0.00 1679.00 1049.00\r",
        "\r\n",
        "MSG\t13214119 THRESHOLDS L 111 242\r",
        "\r\n",
        "MSG\t13214119 ELCL_PROC CENTROID (3)\r",
        "\r\n",
        "MSG\t13214119 ELCL_PCR_PARAM 5 3.0\r",
        "\r\n",
        "START\t13214120 \tLEFT\tSAMPLES\tEVENTS\r",
        "\r\n",
        "PRESCALER\t1\r",
        "\r\n",
        "VPRESCALER\t1\r",
        "\r\n",
        "PUPIL\tAREA\r",
        "\r\n",
        "EVENTS\tGAZE\tLEFT\tRATE\t1000.00\tTRACKING\tCR\tFILTER\t2\r",
        "\r\n",
        "SAMPLES\tGAZE\tLEFT\tRATE\t1000.00\tTRACKING\tCR\tFILTER\t2\r",
        "\r\n",
        "MSG\t13214120 !MODE RECORD CR 1000 2 1 L\r",
        "\r\n",
        "13214120\t   .\t   .\t    0.0\t...\r",
        "\r\n",
        "SSACC L  13214121\r",
        "\r\n",
        "SBLINK L 13214121\r",
        "\r\n",
        "13214121\t   .\t   .\t    0.0\t...\r",
        "\r\n",
        "13214122\t   .\t   .\t    0.0\t...\r",
        "\r\n",
        "13214123\t   .\t   .\t    0.0\t...\r",
        "\r\n",
        "13214124\t   .\t   .\t    0.0\t...\r",
        "\r\n",
        "13214125\t   .\t   .\t    0.0\t...\r",
        "\r\n",
        "13214126\t   .\t   .\t    0.0\t...\r",
        "\r\n",
        "13214127\t   .\t   .\t    0.0\t...\r",
        "\r\n",
        "13214128\t   .\t   .\t    0.0\t...\r",
        "\r\n",
        "13214129\t   .\t   .\t    0.0\t...\r",
        "\r\n",
        "13214130\t   .\t   .\t    0.0\t...\r",
        "\r\n",
        "13214131\t   .\t   .\t    0.0\t...\r",
        "\r\n",
        "13214132\t   .\t   .\t    0.0\t...\r",
        "\r\n",
        "13214133\t   .\t   .\t    0.0\t...\r",
        "\r\n",
        "13214134\t   .\t   .\t    0.0\t...\r",
        "\r\n",
        "13214135\t   .\t   .\t    0.0\t...\r",
        "\r\n",
        "13214136\t   .\t   .\t    0.0\t...\r",
        "\r\n",
        "13214137\t   .\t   .\t    0.0\t...\r",
        "\r\n",
        "13214138\t   .\t   .\t    0.0\t...\r",
        "\r\n",
        "13214139\t   .\t   .\t    0.0\t...\r",
        "\r\n",
        "13214140\t   .\t   .\t    0.0\t...\r",
        "\r\n",
        "13214141\t   .\t   .\t    0.0\t...\r",
        "\r\n",
        "13214142\t   .\t   .\t    0.0\t...\r",
        "\r\n"
       ]
      }
     ],
     "prompt_number": 29
    },
    {
     "cell_type": "markdown",
     "metadata": {},
     "source": [
      "Well, this file looks significantly different form the first one. Especially our assumption that the first 76 lines are a (static) header seems to be wrong. We need to find the common pattern and adjust our code accordingly."
     ]
    },
    {
     "cell_type": "heading",
     "level": 2,
     "metadata": {},
     "source": [
      "Refactor for Re-use"
     ]
    },
    {
     "cell_type": "markdown",
     "metadata": {},
     "source": [
      "This is a good point to look at our code and refactor it. Refactoring means to restructure the code, identify or establish reusable component with the goal to make the code more readable, and easier to maintain.\n",
      "\n",
      "The first annoying thing that we need to address is that we need to edit to parser code in order to read another file. If we would want to read two data files and process them together for further analysis, we would even need to copy the parser code. However, code copies are **always bad** as errors need to be fixed in multiple locations -- human errors are just a matter of time.\n",
      "\n",
      "It is much better to place the parser code into a reusable function. A function that takes one argument: the name of the file that is to be read."
     ]
    },
    {
     "cell_type": "code",
     "collapsed": false,
     "input": [
      "def load_data(filename):\n",
      "    data = []\n",
      "    for lineno, line in enumerate(open(filename)):\n",
      "        if lineno < 76 or line.startswith('SFIX'):\n",
      "            continue\n",
      "        lineitems = line.split()[:-1]\n",
      "        data.append([float(lineitems[0]), float(lineitems[1]), float(lineitems[2])])\n",
      "    return np.array(data)    "
     ],
     "language": "python",
     "metadata": {},
     "outputs": [],
     "prompt_number": 30
    },
    {
     "cell_type": "markdown",
     "metadata": {},
     "source": [
      "Loading the first data snippet is not affected by this change."
     ]
    },
    {
     "cell_type": "code",
     "collapsed": false,
     "input": [
      "load_data(os.path.join('data', 'gaze_snip1.txt'))"
     ],
     "language": "python",
     "metadata": {},
     "outputs": [
      {
       "output_type": "pyout",
       "prompt_number": 31,
       "text": [
        "array([[  4.65478000e+06,   6.38400000e+02,   2.69600000e+02],\n",
        "       [  4.65478100e+06,   6.38300000e+02,   2.69700000e+02],\n",
        "       [  4.65478200e+06,   6.38400000e+02,   2.70500000e+02],\n",
        "       [  4.65478300e+06,   6.38500000e+02,   2.71200000e+02],\n",
        "       [  4.65478400e+06,   6.38400000e+02,   2.71800000e+02],\n",
        "       [  4.65478500e+06,   6.38100000e+02,   2.71700000e+02],\n",
        "       [  4.65478600e+06,   6.38000000e+02,   2.71700000e+02],\n",
        "       [  4.65478700e+06,   6.37900000e+02,   2.71800000e+02],\n",
        "       [  4.65478800e+06,   6.37900000e+02,   2.71800000e+02],\n",
        "       [  4.65478900e+06,   6.38600000e+02,   2.71800000e+02],\n",
        "       [  4.65479000e+06,   6.39300000e+02,   2.71900000e+02],\n",
        "       [  4.65479100e+06,   6.39900000e+02,   2.72100000e+02],\n",
        "       [  4.65479200e+06,   6.40000000e+02,   2.72600000e+02]])"
       ]
      }
     ],
     "prompt_number": 31
    },
    {
     "cell_type": "markdown",
     "metadata": {},
     "source": [
      "While we are at restructuring the code, let's look at the rest. We already know that our assumption of 76 header lines is wrong. Now imagine what a colleague would think that sees this code for the first time. She sees a magic number \"76\" and a magic string \"SFIX\" that cause a line to be ignored from further processing.\n",
      "\n",
      "We could make it a lot easier for our colleagues by actually spelling out what we intend to do. Let's take all our line exclusion conditions and move them into a function ``is_dataline()`` that takes line number and actual line content as arguments. Here is what it looks like now."
     ]
    },
    {
     "cell_type": "code",
     "collapsed": false,
     "input": [
      "def is_dataline(lineno, line):\n",
      "    return lineno > 76 and not line.startswith('SFIX')\n",
      "    \n",
      "def load_data(filename):\n",
      "    data = []\n",
      "    for lineno, line in enumerate(open(filename)):\n",
      "        if not is_dataline(lineno, line):\n",
      "            continue\n",
      "        lineitems = line.split()[:-1]\n",
      "        data.append([float(lineitems[0]), float(lineitems[1]), float(lineitems[2])])\n",
      "    return np.array(data)"
     ],
     "language": "python",
     "metadata": {},
     "outputs": [],
     "prompt_number": 32
    },
    {
     "cell_type": "markdown",
     "metadata": {},
     "source": [
      "With this move we have removed two mystical values (76 and ``SFIX``) from our code in ``load_data()`` and at the same time made it obvious what kind of lines are supposed to be ignore. Our colleagues will appreciate this move if they every need to work on our code.\n",
      "\n",
      "Something similar can be done with the next two lines. Here we decide what to store from each line. If we also move this code into its own function, we end up with code for ``load_data()`` that is very simple to read."
     ]
    },
    {
     "cell_type": "code",
     "collapsed": false,
     "input": [
      "def get_line_items(line):\n",
      "    items = line.split()[:-1]\n",
      "    return [float(items[0]), float(items[1]), float(items[2])]\n",
      "\n",
      "def is_dataline(lineno, line):\n",
      "    return lineno > 76 and not line.startswith('SFIX')\n",
      "    \n",
      "def load_data(filename):\n",
      "    data = []\n",
      "    for lineno, line in enumerate(open(filename)):\n",
      "        if not is_dataline(lineno, line):\n",
      "            continue\n",
      "        data.append(get_line_items(line))\n",
      "    return np.array(data)"
     ],
     "language": "python",
     "metadata": {},
     "outputs": [],
     "prompt_number": 33
    },
    {
     "cell_type": "markdown",
     "metadata": {},
     "source": [
      "But we need to remember that our nicely refactored code still doesn't work on the second file."
     ]
    },
    {
     "cell_type": "code",
     "collapsed": false,
     "input": [
      "load_data(os.path.join('data', 'gaze_snip2.txt'))"
     ],
     "language": "python",
     "metadata": {},
     "outputs": [
      {
       "ename": "ValueError",
       "evalue": "could not convert string to float: MSG",
       "output_type": "pyerr",
       "traceback": [
        "\u001b[0;31m---------------------------------------------------------------------------\u001b[0m\n\u001b[0;31mValueError\u001b[0m                                Traceback (most recent call last)",
        "\u001b[0;32m<ipython-input-34-5142c969b422>\u001b[0m in \u001b[0;36m<module>\u001b[0;34m()\u001b[0m\n\u001b[0;32m----> 1\u001b[0;31m \u001b[0mload_data\u001b[0m\u001b[0;34m(\u001b[0m\u001b[0mos\u001b[0m\u001b[0;34m.\u001b[0m\u001b[0mpath\u001b[0m\u001b[0;34m.\u001b[0m\u001b[0mjoin\u001b[0m\u001b[0;34m(\u001b[0m\u001b[0;34m'data'\u001b[0m\u001b[0;34m,\u001b[0m \u001b[0;34m'gaze_snip2.txt'\u001b[0m\u001b[0;34m)\u001b[0m\u001b[0;34m)\u001b[0m\u001b[0;34m\u001b[0m\u001b[0m\n\u001b[0m",
        "\u001b[0;32m<ipython-input-33-b898132fd9f0>\u001b[0m in \u001b[0;36mload_data\u001b[0;34m(filename)\u001b[0m\n\u001b[1;32m     11\u001b[0m         \u001b[0;32mif\u001b[0m \u001b[0;32mnot\u001b[0m \u001b[0mis_dataline\u001b[0m\u001b[0;34m(\u001b[0m\u001b[0mlineno\u001b[0m\u001b[0;34m,\u001b[0m \u001b[0mline\u001b[0m\u001b[0;34m)\u001b[0m\u001b[0;34m:\u001b[0m\u001b[0;34m\u001b[0m\u001b[0m\n\u001b[1;32m     12\u001b[0m             \u001b[0;32mcontinue\u001b[0m\u001b[0;34m\u001b[0m\u001b[0m\n\u001b[0;32m---> 13\u001b[0;31m         \u001b[0mdata\u001b[0m\u001b[0;34m.\u001b[0m\u001b[0mappend\u001b[0m\u001b[0;34m(\u001b[0m\u001b[0mget_line_items\u001b[0m\u001b[0;34m(\u001b[0m\u001b[0mline\u001b[0m\u001b[0;34m)\u001b[0m\u001b[0;34m)\u001b[0m\u001b[0;34m\u001b[0m\u001b[0m\n\u001b[0m\u001b[1;32m     14\u001b[0m     \u001b[0;32mreturn\u001b[0m \u001b[0mnp\u001b[0m\u001b[0;34m.\u001b[0m\u001b[0marray\u001b[0m\u001b[0;34m(\u001b[0m\u001b[0mdata\u001b[0m\u001b[0;34m)\u001b[0m\u001b[0;34m\u001b[0m\u001b[0m\n",
        "\u001b[0;32m<ipython-input-33-b898132fd9f0>\u001b[0m in \u001b[0;36mget_line_items\u001b[0;34m(line)\u001b[0m\n\u001b[1;32m      1\u001b[0m \u001b[0;32mdef\u001b[0m \u001b[0mget_line_items\u001b[0m\u001b[0;34m(\u001b[0m\u001b[0mline\u001b[0m\u001b[0;34m)\u001b[0m\u001b[0;34m:\u001b[0m\u001b[0;34m\u001b[0m\u001b[0m\n\u001b[1;32m      2\u001b[0m     \u001b[0mitems\u001b[0m \u001b[0;34m=\u001b[0m \u001b[0mline\u001b[0m\u001b[0;34m.\u001b[0m\u001b[0msplit\u001b[0m\u001b[0;34m(\u001b[0m\u001b[0;34m)\u001b[0m\u001b[0;34m[\u001b[0m\u001b[0;34m:\u001b[0m\u001b[0;34m-\u001b[0m\u001b[0;36m1\u001b[0m\u001b[0;34m]\u001b[0m\u001b[0;34m\u001b[0m\u001b[0m\n\u001b[0;32m----> 3\u001b[0;31m     \u001b[0;32mreturn\u001b[0m \u001b[0;34m[\u001b[0m\u001b[0mfloat\u001b[0m\u001b[0;34m(\u001b[0m\u001b[0mitems\u001b[0m\u001b[0;34m[\u001b[0m\u001b[0;36m0\u001b[0m\u001b[0;34m]\u001b[0m\u001b[0;34m)\u001b[0m\u001b[0;34m,\u001b[0m \u001b[0mfloat\u001b[0m\u001b[0;34m(\u001b[0m\u001b[0mitems\u001b[0m\u001b[0;34m[\u001b[0m\u001b[0;36m1\u001b[0m\u001b[0;34m]\u001b[0m\u001b[0;34m)\u001b[0m\u001b[0;34m,\u001b[0m \u001b[0mfloat\u001b[0m\u001b[0;34m(\u001b[0m\u001b[0mitems\u001b[0m\u001b[0;34m[\u001b[0m\u001b[0;36m2\u001b[0m\u001b[0;34m]\u001b[0m\u001b[0;34m)\u001b[0m\u001b[0;34m]\u001b[0m\u001b[0;34m\u001b[0m\u001b[0m\n\u001b[0m\u001b[1;32m      4\u001b[0m \u001b[0;34m\u001b[0m\u001b[0m\n\u001b[1;32m      5\u001b[0m \u001b[0;32mdef\u001b[0m \u001b[0mis_dataline\u001b[0m\u001b[0;34m(\u001b[0m\u001b[0mlineno\u001b[0m\u001b[0;34m,\u001b[0m \u001b[0mline\u001b[0m\u001b[0;34m)\u001b[0m\u001b[0;34m:\u001b[0m\u001b[0;34m\u001b[0m\u001b[0m\n",
        "\u001b[0;31mValueError\u001b[0m: could not convert string to float: MSG"
       ]
      }
     ],
     "prompt_number": 34
    },
    {
     "cell_type": "markdown",
     "metadata": {},
     "source": [
      "Clearly we are trying to process a line that should not be processed. All we need to do is to amend the exclusion conditions to get rid of such lines."
     ]
    },
    {
     "cell_type": "code",
     "collapsed": false,
     "input": [
      "def is_dataline(lineno, line):\n",
      "    return lineno > 76 and not line.startswith('SFIX') and not line.startswith('MSG')\n",
      "\n",
      "load_data(os.path.join('data', 'gaze_snip2.txt'))"
     ],
     "language": "python",
     "metadata": {},
     "outputs": [
      {
       "ename": "IndexError",
       "evalue": "list index out of range",
       "output_type": "pyerr",
       "traceback": [
        "\u001b[0;31m---------------------------------------------------------------------------\u001b[0m\n\u001b[0;31mIndexError\u001b[0m                                Traceback (most recent call last)",
        "\u001b[0;32m<ipython-input-35-5d1d3d2f3180>\u001b[0m in \u001b[0;36m<module>\u001b[0;34m()\u001b[0m\n\u001b[1;32m      2\u001b[0m     \u001b[0;32mreturn\u001b[0m \u001b[0mlineno\u001b[0m \u001b[0;34m>\u001b[0m \u001b[0;36m76\u001b[0m \u001b[0;32mand\u001b[0m \u001b[0;32mnot\u001b[0m \u001b[0mline\u001b[0m\u001b[0;34m.\u001b[0m\u001b[0mstartswith\u001b[0m\u001b[0;34m(\u001b[0m\u001b[0;34m'SFIX'\u001b[0m\u001b[0;34m)\u001b[0m \u001b[0;32mand\u001b[0m \u001b[0;32mnot\u001b[0m \u001b[0mline\u001b[0m\u001b[0;34m.\u001b[0m\u001b[0mstartswith\u001b[0m\u001b[0;34m(\u001b[0m\u001b[0;34m'MSG'\u001b[0m\u001b[0;34m)\u001b[0m\u001b[0;34m\u001b[0m\u001b[0m\n\u001b[1;32m      3\u001b[0m \u001b[0;34m\u001b[0m\u001b[0m\n\u001b[0;32m----> 4\u001b[0;31m \u001b[0mload_data\u001b[0m\u001b[0;34m(\u001b[0m\u001b[0mos\u001b[0m\u001b[0;34m.\u001b[0m\u001b[0mpath\u001b[0m\u001b[0;34m.\u001b[0m\u001b[0mjoin\u001b[0m\u001b[0;34m(\u001b[0m\u001b[0;34m'data'\u001b[0m\u001b[0;34m,\u001b[0m \u001b[0;34m'gaze_snip2.txt'\u001b[0m\u001b[0;34m)\u001b[0m\u001b[0;34m)\u001b[0m\u001b[0;34m\u001b[0m\u001b[0m\n\u001b[0m",
        "\u001b[0;32m<ipython-input-33-b898132fd9f0>\u001b[0m in \u001b[0;36mload_data\u001b[0;34m(filename)\u001b[0m\n\u001b[1;32m     11\u001b[0m         \u001b[0;32mif\u001b[0m \u001b[0;32mnot\u001b[0m \u001b[0mis_dataline\u001b[0m\u001b[0;34m(\u001b[0m\u001b[0mlineno\u001b[0m\u001b[0;34m,\u001b[0m \u001b[0mline\u001b[0m\u001b[0;34m)\u001b[0m\u001b[0;34m:\u001b[0m\u001b[0;34m\u001b[0m\u001b[0m\n\u001b[1;32m     12\u001b[0m             \u001b[0;32mcontinue\u001b[0m\u001b[0;34m\u001b[0m\u001b[0m\n\u001b[0;32m---> 13\u001b[0;31m         \u001b[0mdata\u001b[0m\u001b[0;34m.\u001b[0m\u001b[0mappend\u001b[0m\u001b[0;34m(\u001b[0m\u001b[0mget_line_items\u001b[0m\u001b[0;34m(\u001b[0m\u001b[0mline\u001b[0m\u001b[0;34m)\u001b[0m\u001b[0;34m)\u001b[0m\u001b[0;34m\u001b[0m\u001b[0m\n\u001b[0m\u001b[1;32m     14\u001b[0m     \u001b[0;32mreturn\u001b[0m \u001b[0mnp\u001b[0m\u001b[0;34m.\u001b[0m\u001b[0marray\u001b[0m\u001b[0;34m(\u001b[0m\u001b[0mdata\u001b[0m\u001b[0;34m)\u001b[0m\u001b[0;34m\u001b[0m\u001b[0m\n",
        "\u001b[0;32m<ipython-input-33-b898132fd9f0>\u001b[0m in \u001b[0;36mget_line_items\u001b[0;34m(line)\u001b[0m\n\u001b[1;32m      1\u001b[0m \u001b[0;32mdef\u001b[0m \u001b[0mget_line_items\u001b[0m\u001b[0;34m(\u001b[0m\u001b[0mline\u001b[0m\u001b[0;34m)\u001b[0m\u001b[0;34m:\u001b[0m\u001b[0;34m\u001b[0m\u001b[0m\n\u001b[1;32m      2\u001b[0m     \u001b[0mitems\u001b[0m \u001b[0;34m=\u001b[0m \u001b[0mline\u001b[0m\u001b[0;34m.\u001b[0m\u001b[0msplit\u001b[0m\u001b[0;34m(\u001b[0m\u001b[0;34m)\u001b[0m\u001b[0;34m[\u001b[0m\u001b[0;34m:\u001b[0m\u001b[0;34m-\u001b[0m\u001b[0;36m1\u001b[0m\u001b[0;34m]\u001b[0m\u001b[0;34m\u001b[0m\u001b[0m\n\u001b[0;32m----> 3\u001b[0;31m     \u001b[0;32mreturn\u001b[0m \u001b[0;34m[\u001b[0m\u001b[0mfloat\u001b[0m\u001b[0;34m(\u001b[0m\u001b[0mitems\u001b[0m\u001b[0;34m[\u001b[0m\u001b[0;36m0\u001b[0m\u001b[0;34m]\u001b[0m\u001b[0;34m)\u001b[0m\u001b[0;34m,\u001b[0m \u001b[0mfloat\u001b[0m\u001b[0;34m(\u001b[0m\u001b[0mitems\u001b[0m\u001b[0;34m[\u001b[0m\u001b[0;36m1\u001b[0m\u001b[0;34m]\u001b[0m\u001b[0;34m)\u001b[0m\u001b[0;34m,\u001b[0m \u001b[0mfloat\u001b[0m\u001b[0;34m(\u001b[0m\u001b[0mitems\u001b[0m\u001b[0;34m[\u001b[0m\u001b[0;36m2\u001b[0m\u001b[0;34m]\u001b[0m\u001b[0;34m)\u001b[0m\u001b[0;34m]\u001b[0m\u001b[0;34m\u001b[0m\u001b[0m\n\u001b[0m\u001b[1;32m      4\u001b[0m \u001b[0;34m\u001b[0m\u001b[0m\n\u001b[1;32m      5\u001b[0m \u001b[0;32mdef\u001b[0m \u001b[0mis_dataline\u001b[0m\u001b[0;34m(\u001b[0m\u001b[0mlineno\u001b[0m\u001b[0;34m,\u001b[0m \u001b[0mline\u001b[0m\u001b[0;34m)\u001b[0m\u001b[0;34m:\u001b[0m\u001b[0;34m\u001b[0m\u001b[0m\n",
        "\u001b[0;31mIndexError\u001b[0m: list index out of range"
       ]
      }
     ],
     "prompt_number": 35
    },
    {
     "cell_type": "markdown",
     "metadata": {},
     "source": [
      "Well, not quite -- but a different error at least.\n",
      "\n",
      "But before we look into this further let's take a step back and reconsider what we just did... We made an isolated change in the ``is_dataline()`` function, because we redefined what we consider a line for a gaze sample to be. A colleague, our our future self looking at this change in six months would have had a much harder time figuring out what it is about, if the change would be hidden somewhere in the code of a long ``load_data()`` function, right?\n",
      "\n",
      "Now back to the bug. If we stare long and hard on the content of the second file, we'll see that there are many lines past the 76th that contain no relevant data. Maybe it is time for a more radical change.\n",
      "\n",
      "What could be a better criterion for identifying a line with data?\n",
      "\n",
      ".\n",
      ".\n",
      ".\n",
      ".\n",
      "\n",
      "They all seem to start with a digit, right?"
     ]
    },
    {
     "cell_type": "code",
     "collapsed": false,
     "input": [
      "good_line = '4654784\t  638.4\t  271.8\t 4907.0\t...'\n",
      "first_item = good_line.split()[0]"
     ],
     "language": "python",
     "metadata": {},
     "outputs": [],
     "prompt_number": 36
    },
    {
     "cell_type": "code",
     "collapsed": false,
     "input": [
      "first_item # type <dot> and hit tab\n",
      "first_item.isdigit()"
     ],
     "language": "python",
     "metadata": {},
     "outputs": [
      {
       "output_type": "pyout",
       "prompt_number": 37,
       "text": [
        "True"
       ]
      }
     ],
     "prompt_number": 37
    },
    {
     "cell_type": "code",
     "collapsed": false,
     "input": [
      "print good_line[0]\n",
      "good_line[0].isdigit()"
     ],
     "language": "python",
     "metadata": {},
     "outputs": [
      {
       "output_type": "stream",
       "stream": "stdout",
       "text": [
        "4\n"
       ]
      },
      {
       "output_type": "pyout",
       "prompt_number": 38,
       "text": [
        "True"
       ]
      }
     ],
     "prompt_number": 38
    },
    {
     "cell_type": "code",
     "collapsed": false,
     "input": [
      "def is_dataline(lineno, line):\n",
      "    return line[0].isdigit()\n",
      "\n",
      "load_data(os.path.join('data', 'gaze_snip2.txt'))"
     ],
     "language": "python",
     "metadata": {},
     "outputs": [
      {
       "ename": "ValueError",
       "evalue": "could not convert string to float: .",
       "output_type": "pyerr",
       "traceback": [
        "\u001b[0;31m---------------------------------------------------------------------------\u001b[0m\n\u001b[0;31mValueError\u001b[0m                                Traceback (most recent call last)",
        "\u001b[0;32m<ipython-input-39-6482c12c293f>\u001b[0m in \u001b[0;36m<module>\u001b[0;34m()\u001b[0m\n\u001b[1;32m      2\u001b[0m     \u001b[0;32mreturn\u001b[0m \u001b[0mline\u001b[0m\u001b[0;34m[\u001b[0m\u001b[0;36m0\u001b[0m\u001b[0;34m]\u001b[0m\u001b[0;34m.\u001b[0m\u001b[0misdigit\u001b[0m\u001b[0;34m(\u001b[0m\u001b[0;34m)\u001b[0m\u001b[0;34m\u001b[0m\u001b[0m\n\u001b[1;32m      3\u001b[0m \u001b[0;34m\u001b[0m\u001b[0m\n\u001b[0;32m----> 4\u001b[0;31m \u001b[0mload_data\u001b[0m\u001b[0;34m(\u001b[0m\u001b[0mos\u001b[0m\u001b[0;34m.\u001b[0m\u001b[0mpath\u001b[0m\u001b[0;34m.\u001b[0m\u001b[0mjoin\u001b[0m\u001b[0;34m(\u001b[0m\u001b[0;34m'data'\u001b[0m\u001b[0;34m,\u001b[0m \u001b[0;34m'gaze_snip2.txt'\u001b[0m\u001b[0;34m)\u001b[0m\u001b[0;34m)\u001b[0m\u001b[0;34m\u001b[0m\u001b[0m\n\u001b[0m",
        "\u001b[0;32m<ipython-input-33-b898132fd9f0>\u001b[0m in \u001b[0;36mload_data\u001b[0;34m(filename)\u001b[0m\n\u001b[1;32m     11\u001b[0m         \u001b[0;32mif\u001b[0m \u001b[0;32mnot\u001b[0m \u001b[0mis_dataline\u001b[0m\u001b[0;34m(\u001b[0m\u001b[0mlineno\u001b[0m\u001b[0;34m,\u001b[0m \u001b[0mline\u001b[0m\u001b[0;34m)\u001b[0m\u001b[0;34m:\u001b[0m\u001b[0;34m\u001b[0m\u001b[0m\n\u001b[1;32m     12\u001b[0m             \u001b[0;32mcontinue\u001b[0m\u001b[0;34m\u001b[0m\u001b[0m\n\u001b[0;32m---> 13\u001b[0;31m         \u001b[0mdata\u001b[0m\u001b[0;34m.\u001b[0m\u001b[0mappend\u001b[0m\u001b[0;34m(\u001b[0m\u001b[0mget_line_items\u001b[0m\u001b[0;34m(\u001b[0m\u001b[0mline\u001b[0m\u001b[0;34m)\u001b[0m\u001b[0;34m)\u001b[0m\u001b[0;34m\u001b[0m\u001b[0m\n\u001b[0m\u001b[1;32m     14\u001b[0m     \u001b[0;32mreturn\u001b[0m \u001b[0mnp\u001b[0m\u001b[0;34m.\u001b[0m\u001b[0marray\u001b[0m\u001b[0;34m(\u001b[0m\u001b[0mdata\u001b[0m\u001b[0;34m)\u001b[0m\u001b[0;34m\u001b[0m\u001b[0m\n",
        "\u001b[0;32m<ipython-input-33-b898132fd9f0>\u001b[0m in \u001b[0;36mget_line_items\u001b[0;34m(line)\u001b[0m\n\u001b[1;32m      1\u001b[0m \u001b[0;32mdef\u001b[0m \u001b[0mget_line_items\u001b[0m\u001b[0;34m(\u001b[0m\u001b[0mline\u001b[0m\u001b[0;34m)\u001b[0m\u001b[0;34m:\u001b[0m\u001b[0;34m\u001b[0m\u001b[0m\n\u001b[1;32m      2\u001b[0m     \u001b[0mitems\u001b[0m \u001b[0;34m=\u001b[0m \u001b[0mline\u001b[0m\u001b[0;34m.\u001b[0m\u001b[0msplit\u001b[0m\u001b[0;34m(\u001b[0m\u001b[0;34m)\u001b[0m\u001b[0;34m[\u001b[0m\u001b[0;34m:\u001b[0m\u001b[0;34m-\u001b[0m\u001b[0;36m1\u001b[0m\u001b[0;34m]\u001b[0m\u001b[0;34m\u001b[0m\u001b[0m\n\u001b[0;32m----> 3\u001b[0;31m     \u001b[0;32mreturn\u001b[0m \u001b[0;34m[\u001b[0m\u001b[0mfloat\u001b[0m\u001b[0;34m(\u001b[0m\u001b[0mitems\u001b[0m\u001b[0;34m[\u001b[0m\u001b[0;36m0\u001b[0m\u001b[0;34m]\u001b[0m\u001b[0;34m)\u001b[0m\u001b[0;34m,\u001b[0m \u001b[0mfloat\u001b[0m\u001b[0;34m(\u001b[0m\u001b[0mitems\u001b[0m\u001b[0;34m[\u001b[0m\u001b[0;36m1\u001b[0m\u001b[0;34m]\u001b[0m\u001b[0;34m)\u001b[0m\u001b[0;34m,\u001b[0m \u001b[0mfloat\u001b[0m\u001b[0;34m(\u001b[0m\u001b[0mitems\u001b[0m\u001b[0;34m[\u001b[0m\u001b[0;36m2\u001b[0m\u001b[0;34m]\u001b[0m\u001b[0;34m)\u001b[0m\u001b[0;34m]\u001b[0m\u001b[0;34m\u001b[0m\u001b[0m\n\u001b[0m\u001b[1;32m      4\u001b[0m \u001b[0;34m\u001b[0m\u001b[0m\n\u001b[1;32m      5\u001b[0m \u001b[0;32mdef\u001b[0m \u001b[0mis_dataline\u001b[0m\u001b[0;34m(\u001b[0m\u001b[0mlineno\u001b[0m\u001b[0;34m,\u001b[0m \u001b[0mline\u001b[0m\u001b[0;34m)\u001b[0m\u001b[0;34m:\u001b[0m\u001b[0;34m\u001b[0m\u001b[0m\n",
        "\u001b[0;31mValueError\u001b[0m: could not convert string to float: ."
       ]
      }
     ],
     "prompt_number": 39
    },
    {
     "cell_type": "code",
     "collapsed": true,
     "input": [
      "def get_line_items(line):\n",
      "    items = line.split()[:-1]\n",
      "    try:\n",
      "        return [float(items[0]), float(items[1]), float(items[2])]\n",
      "    except ValueError:\n",
      "        return [float(items[0]), np.nan, np.nan]\n",
      "\n",
      "load_data(os.path.join('data', 'gaze_snip2.txt'))"
     ],
     "language": "python",
     "metadata": {},
     "outputs": [
      {
       "output_type": "pyout",
       "prompt_number": 40,
       "text": [
        "array([[  1.32141200e+07,              nan,              nan],\n",
        "       [  1.32141210e+07,              nan,              nan],\n",
        "       [  1.32141220e+07,              nan,              nan],\n",
        "       ..., \n",
        "       [  1.32159410e+07,   2.04190000e+03,   1.20180000e+03],\n",
        "       [  1.32159420e+07,   2.04200000e+03,   1.19610000e+03],\n",
        "       [  1.32159430e+07,   2.04220000e+03,   1.19100000e+03]])"
       ]
      }
     ],
     "prompt_number": 40
    },
    {
     "cell_type": "code",
     "collapsed": true,
     "input": [
      "def get_line_items(line):\n",
      "    items = line.split()[:-1]\n",
      "    try:\n",
      "        return [float(i) for i in items[:3]]\n",
      "    except ValueError:\n",
      "        return [float(items[0]), np.nan, np.nan]\n",
      "\n",
      "load_data(os.path.join('data', 'gaze_snip2.txt'))"
     ],
     "language": "python",
     "metadata": {},
     "outputs": [
      {
       "output_type": "pyout",
       "prompt_number": 41,
       "text": [
        "array([[  1.32141200e+07,              nan,              nan],\n",
        "       [  1.32141210e+07,              nan,              nan],\n",
        "       [  1.32141220e+07,              nan,              nan],\n",
        "       ..., \n",
        "       [  1.32159410e+07,   2.04190000e+03,   1.20180000e+03],\n",
        "       [  1.32159420e+07,   2.04200000e+03,   1.19610000e+03],\n",
        "       [  1.32159430e+07,   2.04220000e+03,   1.19100000e+03]])"
       ]
      }
     ],
     "prompt_number": 41
    },
    {
     "cell_type": "code",
     "collapsed": false,
     "input": [
      "def is_dataline(line):\n",
      "    return line[0].isdigit()\n",
      "\n",
      "def get_line_items(line):\n",
      "    items = line.split()[:-1]\n",
      "    try:\n",
      "        return [float(i) for i in items[:3]]\n",
      "    except ValueError:\n",
      "        return [float(items[0]), np.nan, np.nan]\n",
      "\n",
      "def load_data(filename):\n",
      "    data = []\n",
      "    for line in open(filename):\n",
      "        if not is_dataline(line):\n",
      "            continue\n",
      "        data.append(get_line_items(line))\n",
      "    return np.array(data)\n",
      "\n",
      "d1 = load_data(os.path.join('data', 'gaze_snip1.txt'))\n",
      "d2 = load_data(os.path.join('data', 'gaze_snip2.txt'))"
     ],
     "language": "python",
     "metadata": {},
     "outputs": [],
     "prompt_number": 87
    },
    {
     "cell_type": "code",
     "collapsed": false,
     "input": [
      "data = load_data(os.path.join('data', 'gaze.txt.gz'))"
     ],
     "language": "python",
     "metadata": {},
     "outputs": [
      {
       "ename": "ValueError",
       "evalue": "invalid literal for float(): 4\ufffd\u0019\b=\ufffdt\ufffd\ufffd\ufffd\ufffd8`g\ufffd\ufffd\u0016\ufffdi-\u00139\ufffd\ufffd\ufffdR\ufffdF\u0015\u0017\ufffd\u0006\ufffd\ufffd\ufffd\ufffd\u0016\u0014n\ufffd\u0012L\u01e6\"\ufffd,",
       "output_type": "pyerr",
       "traceback": [
        "\u001b[0;31m---------------------------------------------------------------------------\u001b[0m\n\u001b[0;31mValueError\u001b[0m                                Traceback (most recent call last)",
        "\u001b[0;32m<ipython-input-43-b185a5ed7998>\u001b[0m in \u001b[0;36m<module>\u001b[0;34m()\u001b[0m\n\u001b[0;32m----> 1\u001b[0;31m \u001b[0mdata\u001b[0m \u001b[0;34m=\u001b[0m \u001b[0mload_data\u001b[0m\u001b[0;34m(\u001b[0m\u001b[0mos\u001b[0m\u001b[0;34m.\u001b[0m\u001b[0mpath\u001b[0m\u001b[0;34m.\u001b[0m\u001b[0mjoin\u001b[0m\u001b[0;34m(\u001b[0m\u001b[0;34m'data'\u001b[0m\u001b[0;34m,\u001b[0m \u001b[0;34m'gaze.txt.gz'\u001b[0m\u001b[0;34m)\u001b[0m\u001b[0;34m)\u001b[0m\u001b[0;34m\u001b[0m\u001b[0m\n\u001b[0m",
        "\u001b[0;32m<ipython-input-42-293d0983d879>\u001b[0m in \u001b[0;36mload_data\u001b[0;34m(filename)\u001b[0m\n\u001b[1;32m     14\u001b[0m         \u001b[0;32mif\u001b[0m \u001b[0;32mnot\u001b[0m \u001b[0mis_dataline\u001b[0m\u001b[0;34m(\u001b[0m\u001b[0mlineno\u001b[0m\u001b[0;34m,\u001b[0m \u001b[0mline\u001b[0m\u001b[0;34m)\u001b[0m\u001b[0;34m:\u001b[0m\u001b[0;34m\u001b[0m\u001b[0m\n\u001b[1;32m     15\u001b[0m             \u001b[0;32mcontinue\u001b[0m\u001b[0;34m\u001b[0m\u001b[0m\n\u001b[0;32m---> 16\u001b[0;31m         \u001b[0mdata\u001b[0m\u001b[0;34m.\u001b[0m\u001b[0mappend\u001b[0m\u001b[0;34m(\u001b[0m\u001b[0mget_line_items\u001b[0m\u001b[0;34m(\u001b[0m\u001b[0mline\u001b[0m\u001b[0;34m)\u001b[0m\u001b[0;34m)\u001b[0m\u001b[0;34m\u001b[0m\u001b[0m\n\u001b[0m\u001b[1;32m     17\u001b[0m     \u001b[0;32mreturn\u001b[0m \u001b[0mnp\u001b[0m\u001b[0;34m.\u001b[0m\u001b[0marray\u001b[0m\u001b[0;34m(\u001b[0m\u001b[0mdata\u001b[0m\u001b[0;34m)\u001b[0m\u001b[0;34m\u001b[0m\u001b[0m\n\u001b[1;32m     18\u001b[0m \u001b[0;34m\u001b[0m\u001b[0m\n",
        "\u001b[0;32m<ipython-input-42-293d0983d879>\u001b[0m in \u001b[0;36mget_line_items\u001b[0;34m(line)\u001b[0m\n\u001b[1;32m      7\u001b[0m         \u001b[0;32mreturn\u001b[0m \u001b[0;34m[\u001b[0m\u001b[0mfloat\u001b[0m\u001b[0;34m(\u001b[0m\u001b[0mi\u001b[0m\u001b[0;34m)\u001b[0m \u001b[0;32mfor\u001b[0m \u001b[0mi\u001b[0m \u001b[0;32min\u001b[0m \u001b[0mitems\u001b[0m\u001b[0;34m[\u001b[0m\u001b[0;34m:\u001b[0m\u001b[0;36m3\u001b[0m\u001b[0;34m]\u001b[0m\u001b[0;34m]\u001b[0m\u001b[0;34m\u001b[0m\u001b[0m\n\u001b[1;32m      8\u001b[0m     \u001b[0;32mexcept\u001b[0m \u001b[0mValueError\u001b[0m\u001b[0;34m:\u001b[0m\u001b[0;34m\u001b[0m\u001b[0m\n\u001b[0;32m----> 9\u001b[0;31m         \u001b[0;32mreturn\u001b[0m \u001b[0;34m[\u001b[0m\u001b[0mfloat\u001b[0m\u001b[0;34m(\u001b[0m\u001b[0mitems\u001b[0m\u001b[0;34m[\u001b[0m\u001b[0;36m0\u001b[0m\u001b[0;34m]\u001b[0m\u001b[0;34m)\u001b[0m\u001b[0;34m,\u001b[0m \u001b[0mnp\u001b[0m\u001b[0;34m.\u001b[0m\u001b[0mnan\u001b[0m\u001b[0;34m,\u001b[0m \u001b[0mnp\u001b[0m\u001b[0;34m.\u001b[0m\u001b[0mnan\u001b[0m\u001b[0;34m]\u001b[0m\u001b[0;34m\u001b[0m\u001b[0m\n\u001b[0m\u001b[1;32m     10\u001b[0m \u001b[0;34m\u001b[0m\u001b[0m\n\u001b[1;32m     11\u001b[0m \u001b[0;32mdef\u001b[0m \u001b[0mload_data\u001b[0m\u001b[0;34m(\u001b[0m\u001b[0mfilename\u001b[0m\u001b[0;34m)\u001b[0m\u001b[0;34m:\u001b[0m\u001b[0;34m\u001b[0m\u001b[0m\n",
        "\u001b[0;31mValueError\u001b[0m: invalid literal for float(): 4\ufffd\u0019\b=\ufffdt\ufffd\ufffd\ufffd\ufffd8`g\ufffd\ufffd\u0016\ufffdi-\u00139\ufffd\ufffd\ufffdR\ufffdF\u0015\u0017\ufffd\u0006\ufffd\ufffd\ufffd\ufffd\u0016\u0014n\ufffd\u0012L\u01e6\"\ufffd,"
       ]
      }
     ],
     "prompt_number": 43
    },
    {
     "cell_type": "code",
     "collapsed": false,
     "input": [
      "open(os.path.join('data', 'gaze.txt.gz')).readline()"
     ],
     "language": "python",
     "metadata": {},
     "outputs": [
      {
       "output_type": "pyout",
       "prompt_number": 44,
       "text": [
        "'\\x1f\\x8b\\x08\\x08\\x16-\\x13R\\x02\\x03gaze.txt\\x00\\x94\\x9coO\\x1d\\xc7\\x92\\x87_c\\xc9\\xdfa\\xf6\\x9d\\x13\\xc3\\xd9\\xae\\xfe\\xdfh\\xb3\\x12\\xc6\\xc7\\x0e{\\xb1\\xb1\\x0e\\xc4{\\xbdZ)\"\\x988\\xdc\\xeb\\x18\\x0b;W\\xf6\\xb7\\xdf\\x9e\\x99\\xeaq\\xff\\x8a:\\x98u$ \\xf0tuwuUuU\\xcd\\xc0\\x8f?\\x0e\\x87\\'/_\\xaf7g\\xeb\\xa7\\xc3\\xb3\\xcd\\xc9\\x8b\\xe1\\xd3_\\xbf\\xfd\\xe3\\x7f\\xcf\\xff|{\\xb5\\xba|\\xfb\\xfb\\xf0\\xd7\\xa7\\xab\\x0f\\xef\\x86\\xfa\\xd5\\xf9\\xc7\\xab\\xc1\\xad\\xcc\\xf0\\xdfW\\x1f\\x9c\\x1d\\x9e^^\\x0cT\\x06kL\\x1e\\xae?\\x0c\\xcfn\\xae\\x86\\x93\\x8b\\xcf\\x83\\xa5\\x81\\xfc\\xbe\\xcd\\xfb.\\xd5\\x9f\\x11=|\\xf0\\xe3\\x8f\\xc3\\xd3\\x83\\xb3\\xf5> v\\x9f\\xc2\\xbe1\\xdf\\x90\\xb37\\xaf*\\xb2~\\xfa\\xec\\xd7gG\\xc7\\xeb\\xe1\\xc9\\xd1\\xcb\\x83\\xcd\\x9ba\\xfdz\\xfd\\xf2l8=x\\xf1\\xaa~\\xef\\xec\\xe0\\xf9\\xf3\\xf5\\xd3\\x89\\xae\\xab==:yY\\x07\\xbcY\\x1f\\x1f\\xbd\\xfc\\xdbpt4\\xccrNO~\\xd9\\x1c\\xae\\xbf\\xfd\\xe0\\xf0x\\xfav\\xc7\\x1d\\x1e\\x0f\\xff\\xf2\\xab@\\xc3\\x8b\\xf3\\x9b\\x81\\xdc\\xb8\\x0431\\x87\\x07/\\xd6\\x9b\\x83:\\xf4\\xeb\\xe5\\xf1\\xd5\\x87\\x7f\\x8e\\xe0\\xeb\\xcb\\x9bOWuw\\xb4\\xf2\\xc3\\xe9\\xe5\\x87O\\xd77?=\\xf9\\xaf\\x83y\\xa2\\xf5\\xe6\\xe8\\xe0xx\\xf9\\xcb\\x8b\\'\\xeb\\xcd~\\x85i\\xef\\xe0`\\xeds\\'\\xea\\xd7\\xaa\\xd7gG\\xcf\\xf7\\x87\\xe9\\x07\\xe4\\xcd\\xea\\xf4pZ\\xff\\xc3\\x07\\x0f\\x1f\\xbc8}\\xbec}\\xf4\\xd9\\xa6\\xe1\\xe9\\xd1\\xe9\\xab\\xe3\\x837\\x95?\\xd9<=\\x1dL\\xfd\\x8fb*\\x03\\x19_\\x98LTl4\\xc3\\xbf\\x1d\\xd69\\x1f>\\xf8\\xcf\\xf9_\\x9d\\xe7\\xf8\\xe8\\xc9\\xe6\\xe0\\xac\\xeabx\\xf4\\xf3kr\\xbb\\xaf\\xf6\\x0e7?\\x0c\\xcfN6\\xc3\\xf1\\xfa\\xd9\\xd9\\xfe\\xf0\\x1f\\xed\\x9f\"\\xe7\\xf0\\xfc\\xfd\\xd5o7\\xe7\\x9f\\xc7\\x1d~\\xbc\\xbe\\xfa\\xf0\\xf9\\xd3\\xfe0(\\xdc\\x9e-+\\xb3;\\xecy_O\\xbf\\xfd\\xab\\xdf\\x18\\xff\\x95<l\\x19\\x93W\\xa5\\x8e\\ty\\x95`\\xcc\\x9e%\\x97\\xb6\\x8f\\xf1\\xbb\\xd3t\\x0e\\xe7\\xb1\\x95\\xdb2&\\xc4\\x95\\x1d\\xd7fWa\\xe2\\xf7\\\\\\n'"
       ]
      }
     ],
     "prompt_number": 44
    },
    {
     "cell_type": "code",
     "collapsed": false,
     "input": [
      "import fileinput\n",
      "\n",
      "def load_data(filename):\n",
      "    fi = fileinput.FileInput(filename, openhook=fileinput.hook_compressed)\n",
      "    return load_data_in(fi)\n",
      "\n",
      "def load_data_in(file_like):\n",
      "    data = []\n",
      "    for line in file_like:\n",
      "        if not is_dataline(line):\n",
      "            continue\n",
      "        data.append(get_line_items(line))\n",
      "    return np.array(data)\n",
      "\n",
      "d1 = load_data(os.path.join('data', 'gaze_snip1.txt'))\n",
      "d2 = load_data(os.path.join('data', 'gaze_snip1.txt.gz'))"
     ],
     "language": "python",
     "metadata": {},
     "outputs": [],
     "prompt_number": 88
    },
    {
     "cell_type": "code",
     "collapsed": false,
     "input": [
      "import os\n",
      "import fileinput\n",
      "\n",
      "def is_dataline(lineno, line):\n",
      "    return line[0].isdigit()\n",
      "\n",
      "def get_line_items(line):\n",
      "    items = line.split()[:-1]\n",
      "    try:\n",
      "        return [float(i) for i in items[:3]]\n",
      "    except ValueError:\n",
      "        return [float(items[0]), np.nan, np.nan]\n",
      "\n",
      "def load_data_in(file_like):\n",
      "    data = []\n",
      "    for lineno, line in enumerate(file_like):\n",
      "        if not is_dataline(lineno, line):\n",
      "            continue\n",
      "        data.append(get_line_items(line))\n",
      "    return np.array(data)\n",
      "\n",
      "def load_data(filename):\n",
      "    fi = fileinput.FileInput(filename, openhook=fileinput.hook_compressed)\n",
      "    return load_data_in(fi)\n",
      "\n",
      "data = load_data(os.path.join('data', 'gaze.txt.gz'))\n",
      "print \"Loaded %i samples\" % len(data)"
     ],
     "language": "python",
     "metadata": {},
     "outputs": [
      {
       "output_type": "stream",
       "stream": "stdout",
       "text": [
        "Loaded 768348 samples\n"
       ]
      }
     ],
     "prompt_number": 46
    },
    {
     "cell_type": "code",
     "collapsed": false,
     "input": [
      "np.histogram2d(data[:,1], data[:, 2])"
     ],
     "language": "python",
     "metadata": {},
     "outputs": [
      {
       "ename": "ValueError",
       "evalue": "cannot convert float NaN to integer",
       "output_type": "pyerr",
       "traceback": [
        "\u001b[0;31m---------------------------------------------------------------------------\u001b[0m\n\u001b[0;31mValueError\u001b[0m                                Traceback (most recent call last)",
        "\u001b[0;32m<ipython-input-47-154d3c8a1dc3>\u001b[0m in \u001b[0;36m<module>\u001b[0;34m()\u001b[0m\n\u001b[0;32m----> 1\u001b[0;31m \u001b[0mnp\u001b[0m\u001b[0;34m.\u001b[0m\u001b[0mhistogram2d\u001b[0m\u001b[0;34m(\u001b[0m\u001b[0mdata\u001b[0m\u001b[0;34m[\u001b[0m\u001b[0;34m:\u001b[0m\u001b[0;34m,\u001b[0m\u001b[0;36m1\u001b[0m\u001b[0;34m]\u001b[0m\u001b[0;34m,\u001b[0m \u001b[0mdata\u001b[0m\u001b[0;34m[\u001b[0m\u001b[0;34m:\u001b[0m\u001b[0;34m,\u001b[0m \u001b[0;36m2\u001b[0m\u001b[0;34m]\u001b[0m\u001b[0;34m)\u001b[0m\u001b[0;34m\u001b[0m\u001b[0m\n\u001b[0m",
        "\u001b[0;32m/usr/lib/pymodules/python2.7/numpy/lib/twodim_base.pyc\u001b[0m in \u001b[0;36mhistogram2d\u001b[0;34m(x, y, bins, range, normed, weights)\u001b[0m\n\u001b[1;32m    609\u001b[0m         \u001b[0mxedges\u001b[0m \u001b[0;34m=\u001b[0m \u001b[0myedges\u001b[0m \u001b[0;34m=\u001b[0m \u001b[0masarray\u001b[0m\u001b[0;34m(\u001b[0m\u001b[0mbins\u001b[0m\u001b[0;34m,\u001b[0m \u001b[0mfloat\u001b[0m\u001b[0;34m)\u001b[0m\u001b[0;34m\u001b[0m\u001b[0m\n\u001b[1;32m    610\u001b[0m         \u001b[0mbins\u001b[0m \u001b[0;34m=\u001b[0m \u001b[0;34m[\u001b[0m\u001b[0mxedges\u001b[0m\u001b[0;34m,\u001b[0m \u001b[0myedges\u001b[0m\u001b[0;34m]\u001b[0m\u001b[0;34m\u001b[0m\u001b[0m\n\u001b[0;32m--> 611\u001b[0;31m     \u001b[0mhist\u001b[0m\u001b[0;34m,\u001b[0m \u001b[0medges\u001b[0m \u001b[0;34m=\u001b[0m \u001b[0mhistogramdd\u001b[0m\u001b[0;34m(\u001b[0m\u001b[0;34m[\u001b[0m\u001b[0mx\u001b[0m\u001b[0;34m,\u001b[0m\u001b[0my\u001b[0m\u001b[0;34m]\u001b[0m\u001b[0;34m,\u001b[0m \u001b[0mbins\u001b[0m\u001b[0;34m,\u001b[0m \u001b[0mrange\u001b[0m\u001b[0;34m,\u001b[0m \u001b[0mnormed\u001b[0m\u001b[0;34m,\u001b[0m \u001b[0mweights\u001b[0m\u001b[0;34m)\u001b[0m\u001b[0;34m\u001b[0m\u001b[0m\n\u001b[0m\u001b[1;32m    612\u001b[0m     \u001b[0;32mreturn\u001b[0m \u001b[0mhist\u001b[0m\u001b[0;34m,\u001b[0m \u001b[0medges\u001b[0m\u001b[0;34m[\u001b[0m\u001b[0;36m0\u001b[0m\u001b[0;34m]\u001b[0m\u001b[0;34m,\u001b[0m \u001b[0medges\u001b[0m\u001b[0;34m[\u001b[0m\u001b[0;36m1\u001b[0m\u001b[0;34m]\u001b[0m\u001b[0;34m\u001b[0m\u001b[0m\n\u001b[1;32m    613\u001b[0m \u001b[0;34m\u001b[0m\u001b[0m\n",
        "\u001b[0;32m/usr/lib/pymodules/python2.7/numpy/lib/function_base.pyc\u001b[0m in \u001b[0;36mhistogramdd\u001b[0;34m(sample, bins, range, normed, weights)\u001b[0m\n\u001b[1;32m    356\u001b[0m         \u001b[0mmindiff\u001b[0m \u001b[0;34m=\u001b[0m \u001b[0mdedges\u001b[0m\u001b[0;34m[\u001b[0m\u001b[0mi\u001b[0m\u001b[0;34m]\u001b[0m\u001b[0;34m.\u001b[0m\u001b[0mmin\u001b[0m\u001b[0;34m(\u001b[0m\u001b[0;34m)\u001b[0m\u001b[0;34m\u001b[0m\u001b[0m\n\u001b[1;32m    357\u001b[0m         \u001b[0;32mif\u001b[0m \u001b[0;32mnot\u001b[0m \u001b[0mnp\u001b[0m\u001b[0;34m.\u001b[0m\u001b[0misinf\u001b[0m\u001b[0;34m(\u001b[0m\u001b[0mmindiff\u001b[0m\u001b[0;34m)\u001b[0m\u001b[0;34m:\u001b[0m\u001b[0;34m\u001b[0m\u001b[0m\n\u001b[0;32m--> 358\u001b[0;31m             \u001b[0mdecimal\u001b[0m \u001b[0;34m=\u001b[0m \u001b[0mint\u001b[0m\u001b[0;34m(\u001b[0m\u001b[0;34m-\u001b[0m\u001b[0mlog10\u001b[0m\u001b[0;34m(\u001b[0m\u001b[0mmindiff\u001b[0m\u001b[0;34m)\u001b[0m\u001b[0;34m)\u001b[0m \u001b[0;34m+\u001b[0m \u001b[0;36m6\u001b[0m\u001b[0;34m\u001b[0m\u001b[0m\n\u001b[0m\u001b[1;32m    359\u001b[0m             \u001b[0;31m# Find which points are on the rightmost edge.\u001b[0m\u001b[0;34m\u001b[0m\u001b[0;34m\u001b[0m\u001b[0m\n\u001b[1;32m    360\u001b[0m             on_edge = where(around(sample[:,i], decimal) == around(edges[i][-1],\n",
        "\u001b[0;31mValueError\u001b[0m: cannot convert float NaN to integer"
       ]
      }
     ],
     "prompt_number": 47
    },
    {
     "cell_type": "code",
     "collapsed": true,
     "input": [
      "def remove_blinks(data):\n",
      "    filtered = []\n",
      "    for samp in data:\n",
      "        if not np.isnan(samp).sum():\n",
      "            filtered.append(samp)\n",
      "    return np.array(filtered)\n",
      "\n",
      "filtered_data = remove_blinks(data)\n",
      "print \"Removed %i samples\" % (len(data) -  len(filtered_data))\n",
      "        "
     ],
     "language": "python",
     "metadata": {},
     "outputs": []
    },
    {
     "cell_type": "code",
     "collapsed": false,
     "input": [
      "%timeit remove_blinks(data)"
     ],
     "language": "python",
     "metadata": {},
     "outputs": []
    },
    {
     "cell_type": "code",
     "collapsed": false,
     "input": [
      "def remove_blinks_arr(data):\n",
      "    blink = np.isnan(data[:,1])\n",
      "    return data[np.logical_not(blink)]\n",
      "\n",
      "filtered_data = remove_blinks_arr(data)\n",
      "print \"Removed %i samples\" % (len(data) -  len(filtered_data))\n",
      "\n",
      "%timeit remove_blinks_arr(data)"
     ],
     "language": "python",
     "metadata": {},
     "outputs": []
    },
    {
     "cell_type": "code",
     "collapsed": false,
     "input": [
      "heatmap, xbound, ybound = np.histogram2d(filtered_data[:,1], filtered_data[:, 2])\n",
      "print xbound\n",
      "print ybound"
     ],
     "language": "python",
     "metadata": {},
     "outputs": []
    },
    {
     "cell_type": "code",
     "collapsed": false,
     "input": [
      "def filter_data(data):\n",
      "    d = remove_blinks_arr(data)\n",
      "    np.clip(d[:, 1], 0, 1680, d[:, 1])\n",
      "    np.clip(d[:, 2], 0, 1050, d[:, 2])\n",
      "    return d\n",
      "\n",
      "filtered_data = filter_data(data)"
     ],
     "language": "python",
     "metadata": {},
     "outputs": []
    },
    {
     "cell_type": "code",
     "collapsed": false,
     "input": [
      "heatmap, xbound, ybound = np.histogram2d(filtered_data[:,1], filtered_data[:, 2], bins=50)\n",
      "pl.figure()\n",
      "pl.imshow(heatmap, interpolation='nearest')\n",
      "pl.xticks(np.arange(len(xbound))[::5] - 0.5, xbound[::5], rotation=90)\n",
      "pl.yticks(np.arange(len(ybound))[::5] - 0.5 , ybound[::5])\n",
      "pl.show()"
     ],
     "language": "python",
     "metadata": {},
     "outputs": []
    },
    {
     "cell_type": "code",
     "collapsed": false,
     "input": [
      "def make_heatmap_plot(x, y, bins=50, tick_step=5, interpolation='nearest'):\n",
      "    \"\"\"Plot spatial distribution of gaze coordinates\n",
      "\n",
      "    This function cannot handle NaNs.\n",
      "\n",
      "    Parameters\n",
      "    ----------\n",
      "    x : array\n",
      "      x-coordinates\n",
      "    y : array\n",
      "      y-coordinates (need to match length of x-coordinates)\n",
      "    bins : int\n",
      "      number of histogram bins\n",
      "    tick_steps : int\n",
      "      step size for labeling bin boundaries (e.g. 1: reports all,\n",
      "      5: labels every 5th)\n",
      "    interpolation : str\n",
      "      label of a supported interpolation method (e.g. 'bilinear', 'bicubic')\n",
      "      default: nearest neighbor interpolation\n",
      "\n",
      "    Returns\n",
      "    -------\n",
      "    fig\n",
      "      a reference to the generated matplotlib figure\n",
      "    \"\"\"\n",
      "    heatmap, xbound, ybound = np.histogram2d(x, y, bins=bins)\n",
      "    fig = pl.figure()\n",
      "    pl.imshow(heatmap, interpolation=interpolation)\n",
      "    pl.xticks(np.arange(len(xbound))[::tick_step] - 0.5, xbound[::tick_step], rotation=90)\n",
      "    pl.yticks(np.arange(len(ybound))[::tick_step] - 0.5 , ybound[::tick_step])\n",
      "    return fig\n",
      "\n",
      "fig = make_heatmap_plot(filtered_data[:, 1], filtered_data[:, 2])\n",
      "pl.show()\n",
      "\n"
     ],
     "language": "python",
     "metadata": {},
     "outputs": []
    },
    {
     "cell_type": "code",
     "collapsed": false,
     "input": [
      "fig = make_heatmap_plot(filtered_data[:, 1], filtered_data[:, 2], bins=5, tick_step=1, interpolation='bicubic')\n",
      "pl.savefig('heatmap.png')"
     ],
     "language": "python",
     "metadata": {},
     "outputs": []
    },
    {
     "cell_type": "code",
     "collapsed": false,
     "input": [
      "# make_heatmap_plot(\n",
      "help(make_heatmap_plot)"
     ],
     "language": "python",
     "metadata": {},
     "outputs": []
    },
    {
     "cell_type": "markdown",
     "metadata": {},
     "source": [
      "Now as a script"
     ]
    },
    {
     "cell_type": "code",
     "collapsed": false,
     "input": [
      "%pycat gaze/utils.py"
     ],
     "language": "python",
     "metadata": {},
     "outputs": [],
     "prompt_number": 228
    },
    {
     "cell_type": "code",
     "collapsed": false,
     "input": [
      "%pycat plot_gaze_heatmap"
     ],
     "language": "python",
     "metadata": {},
     "outputs": [],
     "prompt_number": 230
    },
    {
     "cell_type": "code",
     "collapsed": false,
     "input": [
      "!./plot_gaze_heatmap data/gaze.txt.gz heatmap.png"
     ],
     "language": "python",
     "metadata": {},
     "outputs": [
      {
       "output_type": "stream",
       "stream": "stdout",
       "text": [
        "Loaded 768348 samples\r\n"
       ]
      },
      {
       "output_type": "stream",
       "stream": "stdout",
       "text": [
        "Removed 28934 samples\r\n"
       ]
      }
     ],
     "prompt_number": 233
    },
    {
     "cell_type": "code",
     "collapsed": false,
     "input": [
      "from IPython.display import Image\n",
      "Image(filename='heatmap.png')"
     ],
     "language": "python",
     "metadata": {},
     "outputs": [
      {
       "output_type": "pyout",
       "png": "[encoded data removed]",
       "prompt_number": 234,
       "text": [
        "<IPython.core.display.Image at 0x13a2868c>"
       ]
      }
     ],
     "prompt_number": 234
    },
    {
     "cell_type": "heading",
     "level": 2,
     "metadata": {},
     "source": [
      "Tests"
     ]
    },
    {
     "cell_type": "code",
     "collapsed": false,
     "input": [
      "assert(4 / 2 == 2)"
     ],
     "language": "python",
     "metadata": {},
     "outputs": [],
     "prompt_number": 81
    },
    {
     "cell_type": "code",
     "collapsed": false,
     "input": [
      "assert(1 + 1 == 3)"
     ],
     "language": "python",
     "metadata": {},
     "outputs": [
      {
       "ename": "AssertionError",
       "evalue": "",
       "output_type": "pyerr",
       "traceback": [
        "\u001b[0;31m---------------------------------------------------------------------------\u001b[0m\n\u001b[0;31mAssertionError\u001b[0m                            Traceback (most recent call last)",
        "\u001b[0;32m<ipython-input-82-547afe182034>\u001b[0m in \u001b[0;36m<module>\u001b[0;34m()\u001b[0m\n\u001b[0;32m----> 1\u001b[0;31m \u001b[0;32massert\u001b[0m\u001b[0;34m(\u001b[0m\u001b[0;36m1\u001b[0m \u001b[0;34m+\u001b[0m \u001b[0;36m1\u001b[0m \u001b[0;34m==\u001b[0m \u001b[0;36m3\u001b[0m\u001b[0;34m)\u001b[0m\u001b[0;34m\u001b[0m\u001b[0m\n\u001b[0m",
        "\u001b[0;31mAssertionError\u001b[0m: "
       ]
      }
     ],
     "prompt_number": 82
    },
    {
     "cell_type": "heading",
     "level": 3,
     "metadata": {},
     "source": [
      "Regression tests"
     ]
    },
    {
     "cell_type": "code",
     "collapsed": false,
     "input": [
      "hand_checked_data = load_data(os.path.join('data', 'gaze.txt.gz'))\n",
      "np.save('hand_checked_gaze_data.npy', hand_checked_data)"
     ],
     "language": "python",
     "metadata": {},
     "outputs": [],
     "prompt_number": 49
    },
    {
     "cell_type": "code",
     "collapsed": false,
     "input": [
      "new_data = load_data(os.path.join('data', 'gaze.txt.gz'))"
     ],
     "language": "python",
     "metadata": {},
     "outputs": []
    },
    {
     "cell_type": "code",
     "collapsed": false,
     "input": [
      "assert(new_data == hand_checked_data)"
     ],
     "language": "python",
     "metadata": {},
     "outputs": [
      {
       "ename": "ValueError",
       "evalue": "The truth value of an array with more than one element is ambiguous. Use a.any() or a.all()",
       "output_type": "pyerr",
       "traceback": [
        "\u001b[0;31m---------------------------------------------------------------------------\u001b[0m\n\u001b[0;31mValueError\u001b[0m                                Traceback (most recent call last)",
        "\u001b[0;32m<ipython-input-83-8cd40ad8bf49>\u001b[0m in \u001b[0;36m<module>\u001b[0;34m()\u001b[0m\n\u001b[0;32m----> 1\u001b[0;31m \u001b[0;32massert\u001b[0m\u001b[0;34m(\u001b[0m\u001b[0mnew_data\u001b[0m \u001b[0;34m==\u001b[0m \u001b[0mhand_checked_data\u001b[0m\u001b[0;34m)\u001b[0m\u001b[0;34m\u001b[0m\u001b[0m\n\u001b[0m",
        "\u001b[0;31mValueError\u001b[0m: The truth value of an array with more than one element is ambiguous. Use a.any() or a.all()"
       ]
      }
     ],
     "prompt_number": 83
    },
    {
     "cell_type": "code",
     "collapsed": false,
     "input": [
      "match = new_data == hand_checked_data\n",
      "match"
     ],
     "language": "python",
     "metadata": {},
     "outputs": [
      {
       "output_type": "pyout",
       "prompt_number": 84,
       "text": [
        "array([[ True,  True,  True],\n",
        "       [ True,  True,  True],\n",
        "       [ True,  True,  True],\n",
        "       ..., \n",
        "       [ True,  True,  True],\n",
        "       [ True,  True,  True],\n",
        "       [ True,  True,  True]], dtype=bool)"
       ]
      }
     ],
     "prompt_number": 84
    },
    {
     "cell_type": "code",
     "collapsed": false,
     "input": [
      "np.prod(hand_checked_data.shape) - np.sum(match)"
     ],
     "language": "python",
     "metadata": {},
     "outputs": [
      {
       "output_type": "pyout",
       "prompt_number": 64,
       "text": [
        "57868"
       ]
      }
     ],
     "prompt_number": 64
    },
    {
     "cell_type": "code",
     "collapsed": false,
     "input": [
      "hand_checked_data[np.logical_not(match)]"
     ],
     "language": "python",
     "metadata": {},
     "outputs": [
      {
       "output_type": "pyout",
       "prompt_number": 68,
       "text": [
        "array([ nan,  nan,  nan, ...,  nan,  nan,  nan])"
       ]
      }
     ],
     "prompt_number": 68
    },
    {
     "cell_type": "code",
     "collapsed": false,
     "input": [
      "np.nan == np.nan"
     ],
     "language": "python",
     "metadata": {},
     "outputs": [
      {
       "output_type": "pyout",
       "prompt_number": 72,
       "text": [
        "False"
       ]
      }
     ],
     "prompt_number": 72
    },
    {
     "cell_type": "code",
     "collapsed": false,
     "input": [
      "from numpy.testing import assert_array_equal\n",
      "assert_array_equal([2,3,4], [2,3,5])"
     ],
     "language": "python",
     "metadata": {},
     "outputs": [
      {
       "ename": "AssertionError",
       "evalue": "\nArrays are not equal\n\n(mismatch 33.3333333333%)\n x: array([2, 3, 4])\n y: array([2, 3, 5])",
       "output_type": "pyerr",
       "traceback": [
        "\u001b[0;31m---------------------------------------------------------------------------\u001b[0m\n\u001b[0;31mAssertionError\u001b[0m                            Traceback (most recent call last)",
        "\u001b[0;32m<ipython-input-79-cc46a086673a>\u001b[0m in \u001b[0;36m<module>\u001b[0;34m()\u001b[0m\n\u001b[1;32m      1\u001b[0m \u001b[0;32mfrom\u001b[0m \u001b[0mnumpy\u001b[0m\u001b[0;34m.\u001b[0m\u001b[0mtesting\u001b[0m \u001b[0;32mimport\u001b[0m \u001b[0massert_array_equal\u001b[0m\u001b[0;34m\u001b[0m\u001b[0m\n\u001b[0;32m----> 2\u001b[0;31m \u001b[0massert_array_equal\u001b[0m\u001b[0;34m(\u001b[0m\u001b[0;34m[\u001b[0m\u001b[0;36m2\u001b[0m\u001b[0;34m,\u001b[0m\u001b[0;36m3\u001b[0m\u001b[0;34m,\u001b[0m\u001b[0;36m4\u001b[0m\u001b[0;34m]\u001b[0m\u001b[0;34m,\u001b[0m \u001b[0;34m[\u001b[0m\u001b[0;36m2\u001b[0m\u001b[0;34m,\u001b[0m\u001b[0;36m3\u001b[0m\u001b[0;34m,\u001b[0m\u001b[0;36m5\u001b[0m\u001b[0;34m]\u001b[0m\u001b[0;34m)\u001b[0m\u001b[0;34m\u001b[0m\u001b[0m\n\u001b[0m",
        "\u001b[0;32m/usr/lib/pymodules/python2.7/numpy/testing/utils.pyc\u001b[0m in \u001b[0;36massert_array_equal\u001b[0;34m(x, y, err_msg, verbose)\u001b[0m\n\u001b[1;32m    717\u001b[0m     \"\"\"\n\u001b[1;32m    718\u001b[0m     assert_array_compare(operator.__eq__, x, y, err_msg=err_msg,\n\u001b[0;32m--> 719\u001b[0;31m                          verbose=verbose, header='Arrays are not equal')\n\u001b[0m\u001b[1;32m    720\u001b[0m \u001b[0;34m\u001b[0m\u001b[0m\n\u001b[1;32m    721\u001b[0m \u001b[0;32mdef\u001b[0m \u001b[0massert_array_almost_equal\u001b[0m\u001b[0;34m(\u001b[0m\u001b[0mx\u001b[0m\u001b[0;34m,\u001b[0m \u001b[0my\u001b[0m\u001b[0;34m,\u001b[0m \u001b[0mdecimal\u001b[0m\u001b[0;34m=\u001b[0m\u001b[0;36m6\u001b[0m\u001b[0;34m,\u001b[0m \u001b[0merr_msg\u001b[0m\u001b[0;34m=\u001b[0m\u001b[0;34m''\u001b[0m\u001b[0;34m,\u001b[0m \u001b[0mverbose\u001b[0m\u001b[0;34m=\u001b[0m\u001b[0mTrue\u001b[0m\u001b[0;34m)\u001b[0m\u001b[0;34m:\u001b[0m\u001b[0;34m\u001b[0m\u001b[0m\n",
        "\u001b[0;32m/usr/lib/pymodules/python2.7/numpy/testing/utils.pyc\u001b[0m in \u001b[0;36massert_array_compare\u001b[0;34m(comparison, x, y, err_msg, verbose, header)\u001b[0m\n\u001b[1;32m    643\u001b[0m                                 names=('x', 'y'))\n\u001b[1;32m    644\u001b[0m             \u001b[0;32mif\u001b[0m \u001b[0;32mnot\u001b[0m \u001b[0mcond\u001b[0m \u001b[0;34m:\u001b[0m\u001b[0;34m\u001b[0m\u001b[0m\n\u001b[0;32m--> 645\u001b[0;31m                 \u001b[0;32mraise\u001b[0m \u001b[0mAssertionError\u001b[0m\u001b[0;34m(\u001b[0m\u001b[0mmsg\u001b[0m\u001b[0;34m)\u001b[0m\u001b[0;34m\u001b[0m\u001b[0m\n\u001b[0m\u001b[1;32m    646\u001b[0m     \u001b[0;32mexcept\u001b[0m \u001b[0mValueError\u001b[0m\u001b[0;34m,\u001b[0m \u001b[0me\u001b[0m\u001b[0;34m:\u001b[0m\u001b[0;34m\u001b[0m\u001b[0m\n\u001b[1;32m    647\u001b[0m         \u001b[0;32mimport\u001b[0m \u001b[0mtraceback\u001b[0m\u001b[0;34m\u001b[0m\u001b[0m\n",
        "\u001b[0;31mAssertionError\u001b[0m: \nArrays are not equal\n\n(mismatch 33.3333333333%)\n x: array([2, 3, 4])\n y: array([2, 3, 5])"
       ]
      }
     ],
     "prompt_number": 79
    },
    {
     "cell_type": "code",
     "collapsed": false,
     "input": [
      "assert_array_equal(hand_checked_data, new_data)"
     ],
     "language": "python",
     "metadata": {},
     "outputs": [],
     "prompt_number": 80
    },
    {
     "cell_type": "code",
     "collapsed": false,
     "input": [
      "%pycat gaze/tests/test_regression.py"
     ],
     "language": "python",
     "metadata": {},
     "outputs": [],
     "prompt_number": 85
    },
    {
     "cell_type": "code",
     "collapsed": false,
     "input": [
      "%%bash\n",
      "PYTHONPATH=. python gaze/tests/test_regression.py"
     ],
     "language": "python",
     "metadata": {},
     "outputs": [],
     "prompt_number": 91
    },
    {
     "cell_type": "heading",
     "level": 3,
     "metadata": {},
     "source": [
      "Unit tests"
     ]
    },
    {
     "cell_type": "code",
     "collapsed": false,
     "input": [
      "assert(is_dataline(\"13214122\t   .\t   .\t    0.0\t...\"))"
     ],
     "language": "python",
     "metadata": {},
     "outputs": [],
     "prompt_number": 92
    },
    {
     "cell_type": "code",
     "collapsed": false,
     "input": [
      "assert(not is_dataline(\"MSG\t4435590 DISPLAY_COORDS 0 0 1679 1049\"))"
     ],
     "language": "python",
     "metadata": {},
     "outputs": [],
     "prompt_number": 94
    },
    {
     "cell_type": "code",
     "collapsed": false,
     "input": [
      "assert(is_dataline(\"1\"))"
     ],
     "language": "python",
     "metadata": {},
     "outputs": [],
     "prompt_number": 95
    },
    {
     "cell_type": "code",
     "collapsed": false,
     "input": [
      "assert(not is_dataline(\" 1\"))"
     ],
     "language": "python",
     "metadata": {},
     "outputs": [],
     "prompt_number": 97
    },
    {
     "cell_type": "code",
     "collapsed": false,
     "input": [
      "assert(get_line_items(\"1 2 3 4\") == [1, 2, 3])"
     ],
     "language": "python",
     "metadata": {},
     "outputs": [],
     "prompt_number": 100
    },
    {
     "cell_type": "code",
     "collapsed": false,
     "input": [
      "assert(get_line_items(\"1 2 3\") == [1, 2, 3])"
     ],
     "language": "python",
     "metadata": {},
     "outputs": [
      {
       "ename": "AssertionError",
       "evalue": "",
       "output_type": "pyerr",
       "traceback": [
        "\u001b[0;31m---------------------------------------------------------------------------\u001b[0m\n\u001b[0;31mAssertionError\u001b[0m                            Traceback (most recent call last)",
        "\u001b[0;32m<ipython-input-102-363a192b0e26>\u001b[0m in \u001b[0;36m<module>\u001b[0;34m()\u001b[0m\n\u001b[0;32m----> 1\u001b[0;31m \u001b[0;32massert\u001b[0m\u001b[0;34m(\u001b[0m\u001b[0mget_line_items\u001b[0m\u001b[0;34m(\u001b[0m\u001b[0;34m\"1 2 3\"\u001b[0m\u001b[0;34m)\u001b[0m \u001b[0;34m==\u001b[0m \u001b[0;34m[\u001b[0m\u001b[0;36m1\u001b[0m\u001b[0;34m,\u001b[0m \u001b[0;36m2\u001b[0m\u001b[0;34m,\u001b[0m \u001b[0;36m3\u001b[0m\u001b[0;34m]\u001b[0m\u001b[0;34m)\u001b[0m\u001b[0;34m\u001b[0m\u001b[0m\n\u001b[0m",
        "\u001b[0;31mAssertionError\u001b[0m: "
       ]
      }
     ],
     "prompt_number": 102
    },
    {
     "cell_type": "code",
     "collapsed": false,
     "input": [
      "import nose.tools as nt\n",
      "nt.assert_equal(get_line_items(\"1 2 3\"), [1, 2, 3])\n"
     ],
     "language": "python",
     "metadata": {},
     "outputs": [
      {
       "ename": "AssertionError",
       "evalue": "Lists differ: [1.0, 2.0] != [1, 2, 3]\n\nSecond list contains 1 additional elements.\nFirst extra element 2:\n3\n\n- [1.0, 2.0]\n+ [1, 2, 3]",
       "output_type": "pyerr",
       "traceback": [
        "\u001b[0;31m---------------------------------------------------------------------------\u001b[0m\n\u001b[0;31mAssertionError\u001b[0m                            Traceback (most recent call last)",
        "\u001b[0;32m<ipython-input-106-29b32915f66f>\u001b[0m in \u001b[0;36m<module>\u001b[0;34m()\u001b[0m\n\u001b[1;32m      1\u001b[0m \u001b[0;32mimport\u001b[0m \u001b[0mnose\u001b[0m\u001b[0;34m.\u001b[0m\u001b[0mtools\u001b[0m \u001b[0;32mas\u001b[0m \u001b[0mnt\u001b[0m\u001b[0;34m\u001b[0m\u001b[0m\n\u001b[0;32m----> 2\u001b[0;31m \u001b[0mnt\u001b[0m\u001b[0;34m.\u001b[0m\u001b[0massert_equal\u001b[0m\u001b[0;34m(\u001b[0m\u001b[0mget_line_items\u001b[0m\u001b[0;34m(\u001b[0m\u001b[0;34m\"1 2 3\"\u001b[0m\u001b[0;34m)\u001b[0m\u001b[0;34m,\u001b[0m \u001b[0;34m[\u001b[0m\u001b[0;36m1\u001b[0m\u001b[0;34m,\u001b[0m \u001b[0;36m2\u001b[0m\u001b[0;34m,\u001b[0m \u001b[0;36m3\u001b[0m\u001b[0;34m]\u001b[0m\u001b[0;34m)\u001b[0m\u001b[0;34m\u001b[0m\u001b[0m\n\u001b[0m",
        "\u001b[0;32m/usr/lib/python2.7/unittest/case.pyc\u001b[0m in \u001b[0;36massertEqual\u001b[0;34m(self, first, second, msg)\u001b[0m\n\u001b[1;32m    513\u001b[0m         \"\"\"\n\u001b[1;32m    514\u001b[0m         \u001b[0massertion_func\u001b[0m \u001b[0;34m=\u001b[0m \u001b[0mself\u001b[0m\u001b[0;34m.\u001b[0m\u001b[0m_getAssertEqualityFunc\u001b[0m\u001b[0;34m(\u001b[0m\u001b[0mfirst\u001b[0m\u001b[0;34m,\u001b[0m \u001b[0msecond\u001b[0m\u001b[0;34m)\u001b[0m\u001b[0;34m\u001b[0m\u001b[0m\n\u001b[0;32m--> 515\u001b[0;31m         \u001b[0massertion_func\u001b[0m\u001b[0;34m(\u001b[0m\u001b[0mfirst\u001b[0m\u001b[0;34m,\u001b[0m \u001b[0msecond\u001b[0m\u001b[0;34m,\u001b[0m \u001b[0mmsg\u001b[0m\u001b[0;34m=\u001b[0m\u001b[0mmsg\u001b[0m\u001b[0;34m)\u001b[0m\u001b[0;34m\u001b[0m\u001b[0m\n\u001b[0m\u001b[1;32m    516\u001b[0m \u001b[0;34m\u001b[0m\u001b[0m\n\u001b[1;32m    517\u001b[0m     \u001b[0;32mdef\u001b[0m \u001b[0massertNotEqual\u001b[0m\u001b[0;34m(\u001b[0m\u001b[0mself\u001b[0m\u001b[0;34m,\u001b[0m \u001b[0mfirst\u001b[0m\u001b[0;34m,\u001b[0m \u001b[0msecond\u001b[0m\u001b[0;34m,\u001b[0m \u001b[0mmsg\u001b[0m\u001b[0;34m=\u001b[0m\u001b[0mNone\u001b[0m\u001b[0;34m)\u001b[0m\u001b[0;34m:\u001b[0m\u001b[0;34m\u001b[0m\u001b[0m\n",
        "\u001b[0;32m/usr/lib/python2.7/unittest/case.pyc\u001b[0m in \u001b[0;36massertListEqual\u001b[0;34m(self, list1, list2, msg)\u001b[0m\n\u001b[1;32m    742\u001b[0m \u001b[0;34m\u001b[0m\u001b[0m\n\u001b[1;32m    743\u001b[0m         \"\"\"\n\u001b[0;32m--> 744\u001b[0;31m         \u001b[0mself\u001b[0m\u001b[0;34m.\u001b[0m\u001b[0massertSequenceEqual\u001b[0m\u001b[0;34m(\u001b[0m\u001b[0mlist1\u001b[0m\u001b[0;34m,\u001b[0m \u001b[0mlist2\u001b[0m\u001b[0;34m,\u001b[0m \u001b[0mmsg\u001b[0m\u001b[0;34m,\u001b[0m \u001b[0mseq_type\u001b[0m\u001b[0;34m=\u001b[0m\u001b[0mlist\u001b[0m\u001b[0;34m)\u001b[0m\u001b[0;34m\u001b[0m\u001b[0m\n\u001b[0m\u001b[1;32m    745\u001b[0m \u001b[0;34m\u001b[0m\u001b[0m\n\u001b[1;32m    746\u001b[0m     \u001b[0;32mdef\u001b[0m \u001b[0massertTupleEqual\u001b[0m\u001b[0;34m(\u001b[0m\u001b[0mself\u001b[0m\u001b[0;34m,\u001b[0m \u001b[0mtuple1\u001b[0m\u001b[0;34m,\u001b[0m \u001b[0mtuple2\u001b[0m\u001b[0;34m,\u001b[0m \u001b[0mmsg\u001b[0m\u001b[0;34m=\u001b[0m\u001b[0mNone\u001b[0m\u001b[0;34m)\u001b[0m\u001b[0;34m:\u001b[0m\u001b[0;34m\u001b[0m\u001b[0m\n",
        "\u001b[0;32m/usr/lib/python2.7/unittest/case.pyc\u001b[0m in \u001b[0;36massertSequenceEqual\u001b[0;34m(self, seq1, seq2, msg, seq_type)\u001b[0m\n\u001b[1;32m    724\u001b[0m         \u001b[0mstandardMsg\u001b[0m \u001b[0;34m=\u001b[0m \u001b[0mself\u001b[0m\u001b[0;34m.\u001b[0m\u001b[0m_truncateMessage\u001b[0m\u001b[0;34m(\u001b[0m\u001b[0mstandardMsg\u001b[0m\u001b[0;34m,\u001b[0m \u001b[0mdiffMsg\u001b[0m\u001b[0;34m)\u001b[0m\u001b[0;34m\u001b[0m\u001b[0m\n\u001b[1;32m    725\u001b[0m         \u001b[0mmsg\u001b[0m \u001b[0;34m=\u001b[0m \u001b[0mself\u001b[0m\u001b[0;34m.\u001b[0m\u001b[0m_formatMessage\u001b[0m\u001b[0;34m(\u001b[0m\u001b[0mmsg\u001b[0m\u001b[0;34m,\u001b[0m \u001b[0mstandardMsg\u001b[0m\u001b[0;34m)\u001b[0m\u001b[0;34m\u001b[0m\u001b[0m\n\u001b[0;32m--> 726\u001b[0;31m         \u001b[0mself\u001b[0m\u001b[0;34m.\u001b[0m\u001b[0mfail\u001b[0m\u001b[0;34m(\u001b[0m\u001b[0mmsg\u001b[0m\u001b[0;34m)\u001b[0m\u001b[0;34m\u001b[0m\u001b[0m\n\u001b[0m\u001b[1;32m    727\u001b[0m \u001b[0;34m\u001b[0m\u001b[0m\n\u001b[1;32m    728\u001b[0m     \u001b[0;32mdef\u001b[0m \u001b[0m_truncateMessage\u001b[0m\u001b[0;34m(\u001b[0m\u001b[0mself\u001b[0m\u001b[0;34m,\u001b[0m \u001b[0mmessage\u001b[0m\u001b[0;34m,\u001b[0m \u001b[0mdiff\u001b[0m\u001b[0;34m)\u001b[0m\u001b[0;34m:\u001b[0m\u001b[0;34m\u001b[0m\u001b[0m\n",
        "\u001b[0;32m/usr/lib/python2.7/unittest/case.pyc\u001b[0m in \u001b[0;36mfail\u001b[0;34m(self, msg)\u001b[0m\n\u001b[1;32m    410\u001b[0m     \u001b[0;32mdef\u001b[0m \u001b[0mfail\u001b[0m\u001b[0;34m(\u001b[0m\u001b[0mself\u001b[0m\u001b[0;34m,\u001b[0m \u001b[0mmsg\u001b[0m\u001b[0;34m=\u001b[0m\u001b[0mNone\u001b[0m\u001b[0;34m)\u001b[0m\u001b[0;34m:\u001b[0m\u001b[0;34m\u001b[0m\u001b[0m\n\u001b[1;32m    411\u001b[0m         \u001b[0;34m\"\"\"Fail immediately, with the given message.\"\"\"\u001b[0m\u001b[0;34m\u001b[0m\u001b[0m\n\u001b[0;32m--> 412\u001b[0;31m         \u001b[0;32mraise\u001b[0m \u001b[0mself\u001b[0m\u001b[0;34m.\u001b[0m\u001b[0mfailureException\u001b[0m\u001b[0;34m(\u001b[0m\u001b[0mmsg\u001b[0m\u001b[0;34m)\u001b[0m\u001b[0;34m\u001b[0m\u001b[0m\n\u001b[0m\u001b[1;32m    413\u001b[0m \u001b[0;34m\u001b[0m\u001b[0m\n\u001b[1;32m    414\u001b[0m     \u001b[0;32mdef\u001b[0m \u001b[0massertFalse\u001b[0m\u001b[0;34m(\u001b[0m\u001b[0mself\u001b[0m\u001b[0;34m,\u001b[0m \u001b[0mexpr\u001b[0m\u001b[0;34m,\u001b[0m \u001b[0mmsg\u001b[0m\u001b[0;34m=\u001b[0m\u001b[0mNone\u001b[0m\u001b[0;34m)\u001b[0m\u001b[0;34m:\u001b[0m\u001b[0;34m\u001b[0m\u001b[0m\n",
        "\u001b[0;31mAssertionError\u001b[0m: Lists differ: [1.0, 2.0] != [1, 2, 3]\n\nSecond list contains 1 additional elements.\nFirst extra element 2:\n3\n\n- [1.0, 2.0]\n+ [1, 2, 3]"
       ]
      }
     ],
     "prompt_number": 106
    },
    {
     "cell_type": "code",
     "collapsed": false,
     "input": [
      "nt.assert_list_equal(get_line_items(\"1 2 3\"), [1, 2])"
     ],
     "language": "python",
     "metadata": {},
     "outputs": [],
     "prompt_number": 109
    },
    {
     "cell_type": "code",
     "collapsed": false,
     "input": [
      "nt.assert_list_equal(get_line_items(\"1 2 3 4 5\"), [1, 2, 3])"
     ],
     "language": "python",
     "metadata": {},
     "outputs": [],
     "prompt_number": 111
    },
    {
     "cell_type": "code",
     "collapsed": false,
     "input": [
      "nt.assert_list_equal(get_line_items(\"1 . 3 4 5\"), [1, np.nan, np.nan])"
     ],
     "language": "python",
     "metadata": {},
     "outputs": [],
     "prompt_number": 113
    },
    {
     "cell_type": "code",
     "collapsed": false,
     "input": [
      "nt.assert_list_equal(get_line_items(\"1 2 . 4 5\"), [1, np.nan, np.nan])"
     ],
     "language": "python",
     "metadata": {},
     "outputs": [],
     "prompt_number": 114
    },
    {
     "cell_type": "code",
     "collapsed": false,
     "input": [
      "nt.assert_list_equal(get_line_items(\"1 . . . .\"), [1, np.nan, np.nan])"
     ],
     "language": "python",
     "metadata": {},
     "outputs": [],
     "prompt_number": 115
    },
    {
     "cell_type": "code",
     "collapsed": false,
     "input": [
      "get_line_items(\". 2 3 4 5\")"
     ],
     "language": "python",
     "metadata": {},
     "outputs": [
      {
       "ename": "ValueError",
       "evalue": "could not convert string to float: .",
       "output_type": "pyerr",
       "traceback": [
        "\u001b[0;31m---------------------------------------------------------------------------\u001b[0m\n\u001b[0;31mValueError\u001b[0m                                Traceback (most recent call last)",
        "\u001b[0;32m<ipython-input-119-d3a50c4ed21a>\u001b[0m in \u001b[0;36m<module>\u001b[0;34m()\u001b[0m\n\u001b[0;32m----> 1\u001b[0;31m \u001b[0mget_line_items\u001b[0m\u001b[0;34m(\u001b[0m\u001b[0;34m\". 2 3 4 5\"\u001b[0m\u001b[0;34m)\u001b[0m\u001b[0;34m\u001b[0m\u001b[0m\n\u001b[0m",
        "\u001b[0;32m<ipython-input-87-1b18ad1a85ad>\u001b[0m in \u001b[0;36mget_line_items\u001b[0;34m(line)\u001b[0m\n\u001b[1;32m      7\u001b[0m         \u001b[0;32mreturn\u001b[0m \u001b[0;34m[\u001b[0m\u001b[0mfloat\u001b[0m\u001b[0;34m(\u001b[0m\u001b[0mi\u001b[0m\u001b[0;34m)\u001b[0m \u001b[0;32mfor\u001b[0m \u001b[0mi\u001b[0m \u001b[0;32min\u001b[0m \u001b[0mitems\u001b[0m\u001b[0;34m[\u001b[0m\u001b[0;34m:\u001b[0m\u001b[0;36m3\u001b[0m\u001b[0;34m]\u001b[0m\u001b[0;34m]\u001b[0m\u001b[0;34m\u001b[0m\u001b[0m\n\u001b[1;32m      8\u001b[0m     \u001b[0;32mexcept\u001b[0m \u001b[0mValueError\u001b[0m\u001b[0;34m:\u001b[0m\u001b[0;34m\u001b[0m\u001b[0m\n\u001b[0;32m----> 9\u001b[0;31m         \u001b[0;32mreturn\u001b[0m \u001b[0;34m[\u001b[0m\u001b[0mfloat\u001b[0m\u001b[0;34m(\u001b[0m\u001b[0mitems\u001b[0m\u001b[0;34m[\u001b[0m\u001b[0;36m0\u001b[0m\u001b[0;34m]\u001b[0m\u001b[0;34m)\u001b[0m\u001b[0;34m,\u001b[0m \u001b[0mnp\u001b[0m\u001b[0;34m.\u001b[0m\u001b[0mnan\u001b[0m\u001b[0;34m,\u001b[0m \u001b[0mnp\u001b[0m\u001b[0;34m.\u001b[0m\u001b[0mnan\u001b[0m\u001b[0;34m]\u001b[0m\u001b[0;34m\u001b[0m\u001b[0m\n\u001b[0m\u001b[1;32m     10\u001b[0m \u001b[0;34m\u001b[0m\u001b[0m\n\u001b[1;32m     11\u001b[0m \u001b[0;32mdef\u001b[0m \u001b[0mload_data\u001b[0m\u001b[0;34m(\u001b[0m\u001b[0mfilename\u001b[0m\u001b[0;34m)\u001b[0m\u001b[0;34m:\u001b[0m\u001b[0;34m\u001b[0m\u001b[0m\n",
        "\u001b[0;31mValueError\u001b[0m: could not convert string to float: ."
       ]
      }
     ],
     "prompt_number": 119
    },
    {
     "cell_type": "code",
     "collapsed": false,
     "input": [
      "nt.assert_raises(ValueError, get_line_items, \". 2 3 4 5\")"
     ],
     "language": "python",
     "metadata": {},
     "outputs": [],
     "prompt_number": 120
    },
    {
     "cell_type": "code",
     "collapsed": false,
     "input": [
      "%%bash\n",
      "nosetests gaze/tests/test_utils.py"
     ],
     "language": "python",
     "metadata": {},
     "outputs": [
      {
       "output_type": "stream",
       "stream": "stderr",
       "text": [
        "...\n",
        "----------------------------------------------------------------------\n",
        "Ran 3 tests in 0.002s\n",
        "\n",
        "OK\n"
       ]
      }
     ],
     "prompt_number": 127
    },
    {
     "cell_type": "code",
     "collapsed": false,
     "input": [
      "%%bash\n",
      "nosetests -v gaze/tests/test_utils.py"
     ],
     "language": "python",
     "metadata": {},
     "outputs": [
      {
       "output_type": "stream",
       "stream": "stderr",
       "text": [
        "gaze.tests.test_utils.test_dataline_check ... ok\n",
        "gaze.tests.test_utils.test_line_conversion ... ok\n",
        "gaze.tests.test_utils.test_blink_removal ... ok\n",
        "\n",
        "----------------------------------------------------------------------\n",
        "Ran 3 tests in 0.002s\n",
        "\n",
        "OK\n"
       ]
      }
     ],
     "prompt_number": 128
    },
    {
     "cell_type": "code",
     "collapsed": false,
     "input": [
      "%%bash\n",
      "nosetests --with-coverage --cover-package=gaze.utils gaze/tests/test_utils.py"
     ],
     "language": "python",
     "metadata": {},
     "outputs": [
      {
       "output_type": "stream",
       "stream": "stderr",
       "text": [
        "...\n",
        "Name         Stmts   Miss  Cover   Missing\n",
        "------------------------------------------\n",
        "gaze.utils      36     10    72%   32-35, 62-67\n",
        "----------------------------------------------------------------------\n",
        "Ran 3 tests in 0.003s\n",
        "\n",
        "OK\n"
       ]
      }
     ],
     "prompt_number": 129
    },
    {
     "cell_type": "code",
     "collapsed": false,
     "input": [
      "%%bash\n",
      "nosetests --with-coverage --cover-package=gaze.utils gaze/tests/test_utils.py"
     ],
     "language": "python",
     "metadata": {},
     "outputs": [
      {
       "output_type": "stream",
       "stream": "stderr",
       "text": [
        "...\n",
        "Name         Stmts   Miss  Cover   Missing\n",
        "------------------------------------------\n",
        "gaze.utils      36     10    72%   32-35, 62-67\n",
        "----------------------------------------------------------------------\n",
        "Ran 3 tests in 0.004s\n",
        "\n",
        "OK\n"
       ]
      }
     ],
     "prompt_number": 130
    },
    {
     "cell_type": "markdown",
     "metadata": {},
     "source": [
      "With regression test\n"
     ]
    },
    {
     "cell_type": "code",
     "collapsed": false,
     "input": [
      "%%bash\n",
      "nosetests -v --with-coverage --cover-package=gaze.utils gaze"
     ],
     "language": "python",
     "metadata": {},
     "outputs": [
      {
       "output_type": "stream",
       "stream": "stderr",
       "text": [
        "gaze.tests.test_regression.test_gold_standard ... ok\n",
        "gaze.tests.test_utils.test_dataline_check ... ok\n",
        "gaze.tests.test_utils.test_line_conversion ... ok\n",
        "gaze.tests.test_utils.test_blink_removal ... ok\n",
        "\n",
        "Name         Stmts   Miss  Cover   Missing\n",
        "------------------------------------------\n",
        "gaze.utils      36     10    72%   32-35, 62-67\n",
        "----------------------------------------------------------------------\n",
        "Ran 4 tests in 16.266s\n",
        "\n",
        "OK\n"
       ]
      }
     ],
     "prompt_number": 132
    },
    {
     "cell_type": "markdown",
     "metadata": {},
     "source": [
      "Plotting and clipping are still missing"
     ]
    },
    {
     "cell_type": "code",
     "collapsed": false,
     "input": [],
     "language": "python",
     "metadata": {},
     "outputs": []
    },
    {
     "cell_type": "markdown",
     "metadata": {},
     "source": [
      "If X is NaN also Y is NaN\n"
     ]
    },
    {
     "cell_type": "code",
     "collapsed": false,
     "input": [],
     "language": "python",
     "metadata": {},
     "outputs": []
    },
    {
     "cell_type": "code",
     "collapsed": false,
     "input": [],
     "language": "python",
     "metadata": {},
     "outputs": []
    }
   ],
   "metadata": {}
  }
 ]
}